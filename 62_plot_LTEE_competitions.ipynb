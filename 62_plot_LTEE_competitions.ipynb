{
 "cells": [
  {
   "cell_type": "markdown",
   "metadata": {},
   "source": [
    "### Plot all the measured competitions in a fitness ranking\n",
    "\n",
    "Data available in the Supplemental Material of Good et al. Nature 2017. \n",
    "Download possible from Ben Good's github repository [here](https://github.com/benjaminhgood/LTEE-metagenomic/blob/master/additional_data/Concatenated.LTEE.data.all.csv)"
   ]
  },
  {
   "cell_type": "code",
   "execution_count": null,
   "metadata": {},
   "outputs": [],
   "source": [
    "### load data"
   ]
  },
  {
   "cell_type": "code",
   "execution_count": null,
   "metadata": {},
   "outputs": [],
   "source": [
    "import pandas as pd\n",
    "import numpy as np\n",
    "import matplotlib.pyplot as plt\n",
    "from scipy import stats"
   ]
  },
  {
   "cell_type": "code",
   "execution_count": null,
   "metadata": {},
   "outputs": [],
   "source": [
    "import os\n",
    "import os.path\n",
    "from os import path\n",
    "\n",
    "## create export directory if necessary\n",
    "## foldernames for output plots/lists produced in this notebook\n",
    "import os\n",
    "FIG_DIR = f'./figures/LTEE_competitions/'\n",
    "os.makedirs(FIG_DIR, exist_ok=True)\n",
    "print(\"All  plots will be stored in: \\n\" + FIG_DIR)"
   ]
  },
  {
   "cell_type": "code",
   "execution_count": null,
   "metadata": {},
   "outputs": [],
   "source": [
    "df = pd.read_csv('./output/LTEE_all_data.csv')"
   ]
  },
  {
   "cell_type": "code",
   "execution_count": null,
   "metadata": {},
   "outputs": [],
   "source": [
    "\n",
    "\n",
    "### execute script to load modules here\n",
    "exec(open('setup_aesthetics.py').read())"
   ]
  },
  {
   "cell_type": "markdown",
   "metadata": {},
   "source": [
    "### Prepare data for plotting"
   ]
  },
  {
   "cell_type": "code",
   "execution_count": null,
   "metadata": {},
   "outputs": [],
   "source": [
    "df['label']  = 'evolved' # give some label, to use existing code for plotting\n",
    "df['logit_percycle_rank'] =df['logit_percycle'].rank(ascending =True, method = 'min')\n",
    "df['logit_pergen_rank'] = df['logit_pergen'].rank(ascending = True, method = 'min')\n",
    "\n",
    "df['deltarank'] =  df['logit_pergen_rank'] - df['logit_percycle_rank']"
   ]
  },
  {
   "cell_type": "code",
   "execution_count": null,
   "metadata": {},
   "outputs": [],
   "source": [
    "\n",
    "\n",
    "df_output = df # rename, to use existing code "
   ]
  },
  {
   "cell_type": "code",
   "execution_count": null,
   "metadata": {},
   "outputs": [],
   "source": [
    "## sort by misranking\n",
    "\n",
    "df_output['deltarank_abs'] = np.abs(df_output['deltarank'])\n",
    "df_sorted = df_output.sort_values('deltarank', ascending = True)\n",
    "select = df_sorted.index[[0]]"
   ]
  },
  {
   "cell_type": "code",
   "execution_count": null,
   "metadata": {},
   "outputs": [],
   "source": [
    "df_sorted.loc[select]"
   ]
  },
  {
   "cell_type": "markdown",
   "metadata": {},
   "source": [
    "### plot correlation"
   ]
  },
  {
   "cell_type": "code",
   "execution_count": null,
   "metadata": {},
   "outputs": [],
   "source": [
    "### plot residuals\n",
    "fig, ax = plt.subplots(figsize = (FIGHEIGHT_TRIPLET*1.25, FIGHEIGHT_TRIPLET))\n",
    "\n",
    "\n",
    "\n",
    "x_var = 'logit_percycle'\n",
    "y_var = 'logit_pergen'\n",
    "data = df_output\n",
    "sns.scatterplot(data = data, x = x_var, y = y_var, rasterized = True, ax = ax,\n",
    "                hue = 'Generation', palette = 'crest', legend=False)\n",
    "\n",
    "### plot select points\n",
    "is_labeled = True\n",
    "for i in select:\n",
    "    A, B = float(data.loc[i, x_var]), float(data.loc[i, y_var])\n",
    "    #ax.scatter(A-0.15,B,s=150,color ='tab:red', zorder = -1, marker = 5 )\n",
    "    if is_labeled == False: \n",
    "        label = 'max. disagreement' \n",
    "        is_labeled = True\n",
    "    else: label = None\n",
    "    ax.scatter(A,B,s=200,color ='tab:blue', zorder = -1,label = label, alpha = 0.25)\n",
    "\n",
    "\n",
    "\n",
    "\n",
    "### add colorbar\n",
    "cmap = sns.color_palette('crest', as_cmap=True)\n",
    "norm = plt.Normalize(data['Generation'].min(), data['Generation'].max())\n",
    "sm = plt.cm.ScalarMappable(cmap=cmap, norm=norm)\n",
    "sm.set_array([])\n",
    "\n",
    "# Remove the legend and add a colorbar\n",
    "ax.figure.colorbar(sm, label = '# generations in evo. experiment',use_gridspec=True)\n",
    "    \n",
    "### annotate\n",
    "ax.set_xlabel('relative fitness per-cycle:' + r'  $s^{\\mathrm{logit}}_{\\mathrm{cycle}}$')\n",
    "ax.set_ylabel('relative fitness per-generation:' + r'  $s^{\\mathrm{logit}}_{\\mathrm{gen}}$')\n",
    "\n",
    "title = f\"n = {sum(data['label']=='evolved')} measured competitions\"\n",
    "ax.set_title(title, loc = 'left')\n",
    "\n",
    "\n",
    "fig.savefig(FIG_DIR + f\"correlation_{x_var}_vs_{y_var}.pdf\", DPI = DPI, bbox_inches = 'tight', pad_inches = PAD_INCHES)\n"
   ]
  },
  {
   "cell_type": "markdown",
   "metadata": {},
   "source": [
    "### plot misranking"
   ]
  },
  {
   "cell_type": "code",
   "execution_count": null,
   "metadata": {},
   "outputs": [],
   "source": [
    "### plot residuals\n",
    "fig, ax = plt.subplots(figsize = (FIGHEIGHT_TRIPLET*1.25, FIGHEIGHT_TRIPLET))\n",
    "\n",
    "\n",
    "\n",
    "x_var = 'logit_percycle'\n",
    "y_var = 'deltarank'\n",
    "data = df_output\n",
    "sns.scatterplot(data = data, x = x_var, y = y_var, rasterized = True, ax = ax,\n",
    "                hue = 'Generation', palette = 'crest', legend=False)\n",
    "\n",
    "### plot select points\n",
    "is_labeled = True\n",
    "for i in select:\n",
    "    A, B = float(data.loc[i, x_var]), float(data.loc[i, y_var])\n",
    "    #ax.scatter(A-0.15,B,s=150,color ='tab:red', zorder = -1, marker = 5 )\n",
    "    if is_labeled == False: \n",
    "        label = 'max. disagreement' \n",
    "        is_labeled = True\n",
    "    else: label = None\n",
    "    ax.scatter(A,B,s=200,color ='tab:blue', zorder = -1,label = label, alpha = 0.25)\n",
    "\n",
    "\n",
    "### plot horizontal line for orientation\n",
    "ax.axhline(0,ls = '--', color = 'black')\n",
    "\n",
    "\n",
    "### add colorbar\n",
    "cmap = sns.color_palette('crest', as_cmap=True)\n",
    "norm = plt.Normalize(data['Generation'].min(), data['Generation'].max())\n",
    "sm = plt.cm.ScalarMappable(cmap=cmap, norm=norm)\n",
    "sm.set_array([])\n",
    "\n",
    "# Remove the legend and add a colorbar\n",
    "ax.figure.colorbar(sm, label = '#generations in evo. experiment',use_gridspec=True)\n",
    "    \n",
    "### annotate\n",
    "ax.set_xlabel('relative fitness per-cycle:' + r'  $s^{\\mathrm{logit}}_{\\mathrm{cycle}}$')\n",
    "#ax.set_ylabel('rank difference to\\nrelative fitness per-generation [rank]')\n",
    "ax.set_ylabel('rank difference between fitness\\nper-generation and fitness per-cycle')\n",
    "\n",
    "title = f\"n = {sum(data['label']=='evolved')} measured competitions\"\n",
    "ax.set_title(title, loc = 'left')\n",
    "\n",
    "\n",
    "fig.savefig(FIG_DIR + f\"residuals_{x_var}_vs_{y_var}.pdf\", DPI = DPI, bbox_inches = 'tight', pad_inches = PAD_INCHES)\n"
   ]
  },
  {
   "cell_type": "code",
   "execution_count": null,
   "metadata": {},
   "outputs": [],
   "source": [
    "data['deltarank'].min()"
   ]
  },
  {
   "cell_type": "markdown",
   "metadata": {},
   "source": [
    "### plot on foldchange phase diagram"
   ]
  },
  {
   "cell_type": "code",
   "execution_count": null,
   "metadata": {},
   "outputs": [],
   "source": [
    "### plot cloud of points\n",
    "\n",
    "fig, ax = plt.subplots(figsize = (FIGHEIGHT_TRIPLET*1.25, FIGHEIGHT_TRIPLET))\n",
    "\n",
    "x_var = 'logfc_wt'\n",
    "y_var = 'logfc_mut'\n",
    "data = df_output\n",
    "sns.scatterplot(data = data, x = x_var, y = y_var, rasterized = True, ax = ax,\n",
    "                hue = 'Generation', palette = 'crest', legend=False)\n",
    "\n",
    "## find value limits\n",
    "\n",
    "fcmax = np.max([data[x_var].max(),data[y_var].max()])\n",
    "fcmin = np.min([data[x_var].min(),data[y_var].min()])\n",
    "assert fcmin > 0\n",
    "\n",
    "### set axis limits\n",
    "#xmin = 1\n",
    "#assert xmin < fcmin, 'We are cutting points from the dataplot!'\n",
    "#xmax = 5.5\n",
    "#assert xmax > fcmax, 'We are cutting points from the dataplot!'\n",
    "#ax.set_xlim(xmin,xmax)\n",
    "#ax.set_ylim(xmin,xmax)\n",
    "\n",
    "\n",
    "## take off axis spines\n",
    "#sns.despine(left=False, bottom = False, ax = ax)\n",
    "\n",
    "### find axis limits\n",
    "xmin, xmax = ax.get_xlim()\n",
    "fcwt_vec = np.linspace(xmin,xmax, num = 100) \n",
    "fcwt_vec = np.concatenate((-fcwt_vec,fcwt_vec))\n",
    "color_percycle = 'tab:grey'\n",
    "color_pergen = 'navy'\n",
    "\n",
    "\n",
    "    \n",
    "## plot diagonal \n",
    "xmin, xmax = ax.get_xlim()\n",
    "ymin, ymax = ax.get_ylim()\n",
    "ax.plot([-xmin,xmax],[-xmin,xmax], color = 'black', ls = '--')\n",
    "ax.set_xlim(xmin,xmax)\n",
    "ax.set_ylim(ymin,ymax)\n",
    "\n",
    "\n",
    "\n",
    "    \n",
    "\n",
    "## plot red cone for a select point\n",
    "\n",
    "for i in select:\n",
    "    A, B = float(df_sorted.loc[i, 'logfc_wt']), float(df_sorted.loc[i, 'logfc_mut'])\n",
    "    ax.scatter(A,B,s=200,color ='tab:blue', zorder = -1,label = label, alpha = 0.25)\n",
    "\n",
    "    x_fill = np.linspace(fcwt_vec[0],fcwt_vec[-1])\n",
    "    y_fill = B/A*x_fill\n",
    "\n",
    "    ax.fill_between(x_fill, (x_fill - A) + B, y_fill, color='tab:red', alpha=0.25)\n",
    "    \n",
    "### add colorbar\n",
    "cmap = sns.color_palette('crest', as_cmap=True)\n",
    "norm = plt.Normalize(data['Generation'].min(), data['Generation'].max())\n",
    "sm = plt.cm.ScalarMappable(cmap=cmap, norm=norm)\n",
    "sm.set_array([])\n",
    "\n",
    "# Remove the legend and add a colorbar\n",
    "ax.figure.colorbar(sm, label = '#generations in evo. experiment',use_gridspec=True)\n",
    "  \n",
    "\n",
    "### annotate\n",
    "\n",
    "ax.set_xlabel(r\"wild-type log fold-change: $\\mathrm{LFC}_{\\mathrm{wt}}$\")\n",
    "ax.set_ylabel(r\"mutant log fold-change: $\\mathrm{LFC}_{\\mathrm{mut}}$\")\n",
    "\n",
    "title = f\"n = {sum(data['label']=='evolved')} measured competitions\"\n",
    "ax.set_title(title, loc = 'left')\n",
    "\n",
    "fig.savefig(FIG_DIR+ f'scatterplot_logfc_wt_vs_logfc_mut.pdf', DPI = DPI, bbox_inches = 'tight', pad_inches = PAD_INCHES)\n",
    "        \n",
    "    \n",
    "### store axis limits\n",
    "\n",
    "lfc_xmin, lfc_xmax = ax.get_xlim()\n",
    "lfc_ymin, lfc_ymax = ax.get_ylim()"
   ]
  },
  {
   "cell_type": "markdown",
   "metadata": {},
   "source": [
    "### Plot disranking between log and logit"
   ]
  },
  {
   "cell_type": "code",
   "execution_count": null,
   "metadata": {},
   "outputs": [],
   "source": [
    "df_output['deltarank_log'] = df_output['log_percycle'].rank() - df_output['logit_percycle'].rank()"
   ]
  },
  {
   "cell_type": "code",
   "execution_count": null,
   "metadata": {},
   "outputs": [],
   "source": [
    "### plot residuals\n",
    "fig, ax = plt.subplots(figsize = (FIGHEIGHT_TRIPLET*1.25, FIGHEIGHT_TRIPLET))\n",
    "\n",
    "\n",
    "\n",
    "x_var = 'logit_percycle'\n",
    "y_var = 'deltarank_log'\n",
    "data = df_output\n",
    "sns.scatterplot(data = data, x = x_var, y = y_var, rasterized = True, ax = ax,\n",
    "                hue = 'Generation', palette = 'crest', legend=False)\n",
    "\n",
    "### plot select points\n",
    "is_labeled = True\n",
    "for i in select:\n",
    "    A, B = float(data.loc[i, x_var]), float(data.loc[i, y_var])\n",
    "    #ax.scatter(A-0.15,B,s=150,color ='tab:red', zorder = -1, marker = 5 )\n",
    "    if is_labeled == False: \n",
    "        label = 'max. disagreement' \n",
    "        is_labeled = True\n",
    "    else: label = None\n",
    "    ax.scatter(A,B,s=200,color ='tab:blue', zorder = -1,label = label, alpha = 0.25)\n",
    "\n",
    "\n",
    "### plot horizontal line for orientation\n",
    "ax.axhline(0,ls = '--', color = 'black')\n",
    "\n",
    "\n",
    "### add colorbar\n",
    "cmap = sns.color_palette('crest', as_cmap=True)\n",
    "norm = plt.Normalize(data['Generation'].min(), data['Generation'].max())\n",
    "sm = plt.cm.ScalarMappable(cmap=cmap, norm=norm)\n",
    "sm.set_array([])\n",
    "\n",
    "# Remove the legend and add a colorbar\n",
    "ax.figure.colorbar(sm, label = '#generations in evo. experiment',use_gridspec=True)\n",
    "    \n",
    "### annotate\n",
    "ax.set_xlabel('relative fitness logit-encoding:' + r'  $s^{\\mathrm{logit}}_{\\mathrm{cycle}}$')\n",
    "#ax.set_ylabel('rank difference to\\nrelative fitness per-generation [rank]')\n",
    "ax.set_ylabel('rank difference between fitness\\nunder log and logit encoding')\n",
    "\n",
    "title = f\"n = {sum(data['label']=='evolved')} measured competitions\"\n",
    "ax.set_title(title, loc = 'left')\n",
    "\n",
    "\n",
    "fig.savefig(FIG_DIR + f\"residuals_{x_var}_vs_{y_var}.pdf\", DPI = DPI, bbox_inches = 'tight', pad_inches = PAD_INCHES)\n"
   ]
  },
  {
   "cell_type": "markdown",
   "metadata": {},
   "source": [
    "### plot on frequency phase diagram"
   ]
  },
  {
   "cell_type": "code",
   "execution_count": null,
   "metadata": {},
   "outputs": [],
   "source": [
    "df_output.columns"
   ]
  },
  {
   "cell_type": "code",
   "execution_count": null,
   "metadata": {},
   "outputs": [],
   "source": [
    "### plot cloud of points\n",
    "\n",
    "fig, ax = plt.subplots(figsize = (FIGHEIGHT_TRIPLET*1.25, FIGHEIGHT_TRIPLET))\n",
    "\n",
    "x_var = 'xmut.0'\n",
    "y_var = 'xmut.1'\n",
    "data = df_output\n",
    "sns.scatterplot(data = data, x = x_var, y = y_var, rasterized = True, ax = ax,\n",
    "                hue = 'Generation', palette = 'crest', legend=False)\n",
    "\n",
    "\n",
    "    \n",
    "## plot diagonal \n",
    "xmin, xmax = ax.get_xlim()\n",
    "ymin, ymax = ax.get_ylim()\n",
    "ax.plot([-xmin,xmax],[-xmin,xmax], color = 'black', ls = '--')\n",
    "ax.set_xlim(xmin,xmax)\n",
    "ax.set_ylim(ymin,ymax)\n",
    "\n",
    "\n",
    "## plot red cone for a select point\n",
    "\n",
    "    \n",
    "### add colorbar\n",
    "cmap = sns.color_palette('crest', as_cmap=True)\n",
    "norm = plt.Normalize(data['Generation'].min(), data['Generation'].max())\n",
    "sm = plt.cm.ScalarMappable(cmap=cmap, norm=norm)\n",
    "sm.set_array([])\n",
    "\n",
    "# Remove the legend and add a colorbar\n",
    "ax.figure.colorbar(sm, label = '#generations in evo. experiment',use_gridspec=True)\n",
    "  \n",
    "\n",
    "### annotate\n",
    "\n",
    "ax.set_xlabel(r\"initial mutant frequency $x(t_0)$\")\n",
    "ax.set_ylabel(r\"final mutant frequency $x(t_f)$\")\n",
    "\n",
    "title = f\"n = {sum(data['label']=='evolved')} measured competitions\"\n",
    "ax.set_title(title, loc = 'left')\n",
    "\n",
    "fig.savefig(FIG_DIR+ f'scatterplot_initial_vs_final_frequedncy.pdf', DPI = DPI, bbox_inches = 'tight', pad_inches = PAD_INCHES)\n",
    "              "
   ]
  },
  {
   "cell_type": "markdown",
   "metadata": {},
   "source": [
    "### compare with isoclines in terms of frequency"
   ]
  },
  {
   "cell_type": "code",
   "execution_count": null,
   "metadata": {},
   "outputs": [],
   "source": [
    "def eval_statistic(xf,x0, phi = lambda x: np.log(x/(1-x))):\n",
    "    return phi(xf) - phi(x0)\n",
    "\n",
    "eval_statistic(xf = 0.55, x0 = 0.45)\n",
    "\n",
    "def eval_statistic_s(xf,x0):\n",
    "    return eval_statistic(xf=xf,x0=x0, phi =lambda x: np.log(x/(1-x))) \n",
    "\n",
    "def eval_statistic_deltalog(xf,x0):\n",
    "    return eval_statistic(xf=xf,x0=x0, phi =lambda x: np.log(x)) \n",
    "\n",
    "def get_isocline_deltalog(x0, level ):\n",
    "    return np.multiply(x0, np.exp(level))\n",
    "\n",
    "### test\n",
    "get_isocline_deltalog(x0 = np.geomspace(0.01,0.1,num=10), level = 0.0)\n",
    "\n",
    "def get_isocline_s(x0, level ):    \n",
    "    tmp = np.multiply(x0, np.exp(level))\n",
    "    return np.divide(tmp, 1 + tmp - x0)\n",
    "\n",
    "\n",
    "### test\n",
    "get_isocline_s(x0 = np.geomspace(0.01,0.1,num=10), level = 0.0)"
   ]
  },
  {
   "cell_type": "code",
   "execution_count": null,
   "metadata": {},
   "outputs": [],
   "source": [
    "\n",
    "\n",
    "### plot cloud of points\n",
    "\n",
    "grid = sns.jointplot(data = df, x = 'xmut.0', y = 'xmut.1', color = 'tab:orange', \n",
    "             height = FIGHEIGHT_TRIPLET, space = 0, hue='Generation', palette = 'crest',\n",
    "                    joint_kws = {'rasterized':True})\n",
    "\n",
    "\n",
    "ax = grid.ax_joint\n",
    "levels = np.outer([-1,1],np.linspace(0.001,1,num = 6)).flatten()\n",
    "x0_vec = np.linspace(0.0001,0.9999, num = 100)\n",
    "color_s = 'tab:grey'\n",
    "color_deltalog = 'navy'\n",
    "\n",
    "for level in levels: \n",
    "    ### plot deltalog isoclines\n",
    "    y = get_isocline_deltalog(x0 = x0_vec, level = level)\n",
    "    ax.plot(x0_vec, y, color = color_deltalog)\n",
    "    \n",
    "    \n",
    "    ## plot s isoclines\n",
    "    y = get_isocline_s(x0 = x0_vec, level = level)\n",
    "    ax.plot(x0_vec, y, color = color_s)\n",
    "    \n",
    "## plot diagonal \n",
    "ax.plot([0,1],[0,1], color = 'red', ls = '--', label = 'y=x')\n",
    "\n",
    "## add  legend items\n",
    "ax.plot([],[], color = color_deltalog, label = '$\\Delta \\log$ isocline')\n",
    "ax.plot([],[], color = color_s, label = '$s$ isocline')\n",
    "\n",
    "ax.set_xlim(0,1)\n",
    "ax.set_ylim(0,1)\n",
    "\n",
    "\n",
    "ax.set_xlabel('initial mutant frequency $x_0$')\n",
    "ax.set_ylabel('final mutant frequency $x_f$')\n",
    "\n",
    "ax.legend(loc = 'upper left', bbox_to_anchor = (1.3,1))\n",
    "\n",
    "\n",
    "grid.fig.savefig(FIG_DIR + f'isoclines_s_vs_deltalog_with_sample.pdf', DPI = DPI, bbox_inches = 'tight', pad_inches = PAD_INCHES)"
   ]
  },
  {
   "cell_type": "code",
   "execution_count": null,
   "metadata": {},
   "outputs": [],
   "source": [
    "### plot frequencies in overlay\n",
    "\n",
    "## plot for single lineage\n",
    "\n",
    "fig, ax = plt.subplots(1,1, sharex=True, figsize = (FIGHEIGHT_TRIPLET,FIGHEIGHT_TRIPLET))\n",
    "\n",
    "### initial frequency\n",
    "y = df[['xmut.0', 'xmut.1']]\n",
    "x = np.multiply(np.ones_like(y), [0,1],)\n",
    "\n",
    "_ = ax.plot(x.T,y.T,ls = '-',color = 'silver', alpha = 0.5)\n",
    "df['tmp'] = 1\n",
    "sns.scatterplot(data = df, x = 'tmp',  y = 'xmut.1', palette  = 'crest', hue = 'Generation',\n",
    "                ax = ax, zorder = 3)\n",
    "\n",
    "ax.legend(loc = 'upper left', bbox_to_anchor = (1.05,1))\n",
    "ax.legend_.set_title('Generation')\n",
    "\n",
    "ax.set_xlabel('time')\n",
    "ax.set_ylabel('frequency x')\n",
    "\n",
    "ax.set_ylim(0,1)\n",
    "\n",
    "\n",
    "fig.savefig(FIG_DIR + f'lineplot_LTEE_competition_freq_in_overlay.pdf', DPI = DPI, bbox_inches = 'tight', pad_inches = PAD_INCHES)"
   ]
  },
  {
   "cell_type": "code",
   "execution_count": null,
   "metadata": {},
   "outputs": [],
   "source": []
  },
  {
   "cell_type": "code",
   "execution_count": null,
   "metadata": {},
   "outputs": [],
   "source": []
  },
  {
   "cell_type": "code",
   "execution_count": null,
   "metadata": {},
   "outputs": [],
   "source": []
  },
  {
   "cell_type": "code",
   "execution_count": null,
   "metadata": {},
   "outputs": [],
   "source": []
  },
  {
   "cell_type": "code",
   "execution_count": null,
   "metadata": {},
   "outputs": [],
   "source": []
  }
 ],
 "metadata": {
  "kernelspec": {
   "display_name": "Python 3",
   "language": "python",
   "name": "python3"
  },
  "language_info": {
   "codemirror_mode": {
    "name": "ipython",
    "version": 3
   },
   "file_extension": ".py",
   "mimetype": "text/x-python",
   "name": "python",
   "nbconvert_exporter": "python",
   "pygments_lexer": "ipython3",
   "version": "3.7.13"
  }
 },
 "nbformat": 4,
 "nbformat_minor": 4
}
