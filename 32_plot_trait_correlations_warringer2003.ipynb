{
 "cells": [
  {
   "cell_type": "code",
   "execution_count": null,
   "metadata": {},
   "outputs": [],
   "source": [
    "import pandas as pd           \n",
    "\n",
    "import numpy as np\n",
    "import matplotlib.pyplot as plt\n",
    "import matplotlib.patches as patches\n",
    "\n",
    "from scipy import integrate\n",
    "from scipy import stats\n",
    "import random\n",
    "\n",
    "from scipy.stats import spearmanr, pearsonr\n",
    "from latex_format import float2latex\n"
   ]
  },
  {
   "cell_type": "code",
   "execution_count": null,
   "metadata": {},
   "outputs": [],
   "source": [
    "### Update dependent parameters according to input\n",
    "import os\n",
    "import os.path\n",
    "from os import path\n",
    "\n",
    "## create export directory if necessary\n",
    "## foldernames for output plots/lists produced in this notebook\n",
    "import os\n",
    "FIG_DIR_STEM = f'./figures/trait_correlations/'\n",
    "os.makedirs(FIG_DIR_STEM, exist_ok=True)\n"
   ]
  },
  {
   "cell_type": "code",
   "execution_count": null,
   "metadata": {},
   "outputs": [],
   "source": [
    "\n",
    "\n",
    "### execute script to load modules here\n",
    "exec(open('setup_aesthetics.py').read())"
   ]
  },
  {
   "cell_type": "code",
   "execution_count": null,
   "metadata": {},
   "outputs": [],
   "source": [
    "DATASET_COLOR = 'darkorange'\n",
    "\n"
   ]
  },
  {
   "cell_type": "code",
   "execution_count": null,
   "metadata": {
    "tags": [
     "parameters"
    ]
   },
   "outputs": [],
   "source": [
    "## set which trait distribution to plot\n",
    "\n",
    "DIST = 'all_traits_vary'"
   ]
  },
  {
   "cell_type": "markdown",
   "metadata": {},
   "source": [
    "See cell [below](#create-subsets-of-data-only-with-marginals) for a choice of trait distributions."
   ]
  },
  {
   "cell_type": "code",
   "execution_count": null,
   "metadata": {},
   "outputs": [],
   "source": [
    "SUFFIX_DATASET = f'{DIST}/'\n",
    "\n",
    "FIG_DIR = FIG_DIR_STEM + SUFFIX_DATASET\n",
    "os.makedirs(FIG_DIR, exist_ok=True)\n"
   ]
  },
  {
   "cell_type": "markdown",
   "metadata": {},
   "source": [
    "### Load wild-type traits"
   ]
  },
  {
   "cell_type": "code",
   "execution_count": null,
   "metadata": {},
   "outputs": [],
   "source": [
    "INDEX_COL = [0,1,2,3,4]\n",
    "list_na_representations = ['not_present', 'failed_to_compute']"
   ]
  },
  {
   "cell_type": "code",
   "execution_count": null,
   "metadata": {},
   "outputs": [],
   "source": [
    "PCWS_TRAITS_WARRINGER = './output/df_M3_traits.csv'\n",
    "df_warringer = pd.read_csv(PCWS_TRAITS_WARRINGER, header = 0, index_col= INDEX_COL,\\\n",
    "                                  float_precision=None, na_values=list_na_representations)\n"
   ]
  },
  {
   "cell_type": "code",
   "execution_count": null,
   "metadata": {},
   "outputs": [],
   "source": [
    "### define default wild_type\n",
    "df_wildtypes = df_warringer[df_warringer['is_wildtype']==True]\n",
    "\n",
    "WILDTYPE = df_wildtypes.median(axis = 0)"
   ]
  },
  {
   "cell_type": "markdown",
   "metadata": {},
   "source": [
    "### Load mutant data (averaged)"
   ]
  },
  {
   "cell_type": "code",
   "execution_count": null,
   "metadata": {},
   "outputs": [],
   "source": [
    "\n",
    "PCWS_TRAITS_WARRINGER_AVERAGED = './output/df_M3_traits_averaged.csv'\n",
    "df_averaged = pd.read_csv(PCWS_TRAITS_WARRINGER_AVERAGED, header = 0, float_precision=None)"
   ]
  },
  {
   "cell_type": "code",
   "execution_count": null,
   "metadata": {},
   "outputs": [],
   "source": [
    "### assign wild-type label\n",
    "def is_wildtype(row):\n",
    "    genotype = row['genotype']\n",
    "    \n",
    "    if genotype == 'BY4741':\n",
    "        return True\n",
    "    else:\n",
    "        return False\n",
    "    \n",
    "\n",
    "row = df_averaged.iloc[0]\n",
    "is_wildtype(row)"
   ]
  },
  {
   "cell_type": "code",
   "execution_count": null,
   "metadata": {},
   "outputs": [],
   "source": [
    "df_averaged['is_wildtype'] = df_averaged.apply(is_wildtype, axis =1)"
   ]
  },
  {
   "cell_type": "code",
   "execution_count": null,
   "metadata": {},
   "outputs": [],
   "source": [
    "### append mutant values (averaged) to set of individual wild-type strains\n",
    "df_knockouts = df_averaged[~df_averaged['is_wildtype']]\n",
    "df_knockouts = df_knockouts\n",
    "df_all_vary = df_wildtypes.reset_index().append(df_knockouts.reset_index())"
   ]
  },
  {
   "cell_type": "code",
   "execution_count": null,
   "metadata": {},
   "outputs": [],
   "source": [
    "### restore index\n",
    "index_col_names = df_warringer.index.names\n",
    "df_all_vary = df_all_vary.set_index(index_col_names)\n"
   ]
  },
  {
   "cell_type": "code",
   "execution_count": null,
   "metadata": {},
   "outputs": [],
   "source": [
    "## Count number of wild-type and knockotus\n",
    "print(f\"no. of knockouts: {df_knockouts.shape[0]}\")\n",
    "print(f\"no. of wildtypes: {df_wildtypes.shape[0]}\")"
   ]
  },
  {
   "cell_type": "markdown",
   "metadata": {},
   "source": [
    "### Set units of time"
   ]
  },
  {
   "cell_type": "code",
   "execution_count": null,
   "metadata": {},
   "outputs": [],
   "source": [
    "df_all_vary['gmax'] = df_all_vary['gmax']*60 # change units to growth rate per hour\n",
    "df_all_vary['lag']  = df_all_vary['lag']/60 # change units to hour\n",
    "\n"
   ]
  },
  {
   "cell_type": "code",
   "execution_count": null,
   "metadata": {},
   "outputs": [],
   "source": [
    "WILDTYPE['gmax'] = WILDTYPE['gmax']*60 # change units to growth rate per hour\n",
    "WILDTYPE['lag']  = WILDTYPE['lag']/60 # change units to hour"
   ]
  },
  {
   "cell_type": "markdown",
   "metadata": {},
   "source": [
    "### create subsets of data only with marginals"
   ]
  },
  {
   "cell_type": "code",
   "execution_count": null,
   "metadata": {},
   "outputs": [],
   "source": [
    "dist2data = {}\n",
    "\n",
    "## full datadist with all traits\n",
    "tmp = df_all_vary.copy(deep=True)\n",
    "dist2data['all_traits_vary'] = tmp\n",
    "## distribution with no yield variation\n",
    "tmp = df_all_vary.copy(deep=True)\n",
    "tmp['yield'] = WILDTYPE['yield']\n",
    "dist2data['no_yield_variation'] = tmp\n",
    "## distribution with some yield variation, but only equal or larger than wild-type\n",
    "tmp = df_all_vary.copy(deep=True)\n",
    "tmp['yield'] = [v if v > WILDTYPE['yield'] else WILDTYPE['yield'] for v in df_all_vary['yield']]\n",
    "dist2data['no_deleterious_yield'] = tmp\n",
    "## distribution with no growth rate variation\n",
    "tmp = df_all_vary.copy(deep=True)\n",
    "tmp['gmax'] = WILDTYPE['gmax']\n",
    "dist2data['no_gmax_variation'] = tmp\n",
    "## distribution with no growth rate variation\n",
    "tmp = df_all_vary.copy(deep=True)\n",
    "tmp['lag'] = WILDTYPE['lag']\n",
    "dist2data['no_lag_variation'] = tmp\n",
    "\n",
    "## marginal distribution in gmax\n",
    "tmp = df_all_vary.copy(deep=True)\n",
    "tmp['lag'] = WILDTYPE['lag']\n",
    "tmp['yield'] = WILDTYPE['yield']\n",
    "dist2data[ 'only_gmax_varies'] = tmp\n",
    "## marginal distribution in lag\n",
    "tmp = df_all_vary.copy(deep=True)\n",
    "tmp['yield'] = WILDTYPE['yield']\n",
    "tmp['gmax'] = WILDTYPE['gmax']\n",
    "dist2data[ 'only_lag_varies'] = tmp\n",
    "## marginal distribution in yield\n",
    "tmp = df_all_vary.copy(deep=True)\n",
    "tmp['lag'] = WILDTYPE['lag']\n",
    "tmp['gmax'] = WILDTYPE['gmax']\n",
    "dist2data[ 'only_yield_varies'] = tmp\n"
   ]
  },
  {
   "cell_type": "markdown",
   "metadata": {},
   "source": [
    "### Choose subset"
   ]
  },
  {
   "cell_type": "code",
   "execution_count": null,
   "metadata": {},
   "outputs": [],
   "source": [
    "df_input = dist2data[DIST]"
   ]
  },
  {
   "cell_type": "markdown",
   "metadata": {},
   "source": [
    "### plot trait distributionn"
   ]
  },
  {
   "cell_type": "code",
   "execution_count": null,
   "metadata": {},
   "outputs": [],
   "source": [
    "n_datapoints = df_input.shape[0]\n",
    "is_wildtype = df_input['is_wildtype']==True\n",
    "n_knockouts = df_input[~df_input['is_wildtype']].shape[0]"
   ]
  },
  {
   "cell_type": "code",
   "execution_count": null,
   "metadata": {},
   "outputs": [],
   "source": [
    "### calculate statistics\n",
    "\n",
    "### plot mutant dataset\n",
    "x= df_input.loc[~is_wildtype]['gmax'].values\n",
    "y = df_input.loc[~is_wildtype]['lag'].values\n",
    "rho, p = spearmanr(x,y)\n",
    "\n",
    "label = 'knockouts' + fr' ($\\rho={rho:.2f}$, $p = {float2latex(p)}$)'\n",
    "print(label)\n",
    "\n",
    "## plot wild-type scatters\n",
    "x = df_input.loc[is_wildtype]['gmax'].values\n",
    "y = df_input.loc[is_wildtype]['lag'].values\n",
    "rho, p = spearmanr(x,y)\n",
    "label = 'wild-type' + fr' ($\\rho={rho:.2f}$, $p = {float2latex(p)}$)'\n",
    "print(label)\n",
    "\n",
    "\n"
   ]
  },
  {
   "cell_type": "code",
   "execution_count": null,
   "metadata": {},
   "outputs": [],
   "source": [
    "### calculate statistics with pearson\n",
    "\n",
    "### plot mutant dataset\n",
    "x= df_input.loc[~is_wildtype]['gmax'].values\n",
    "y = df_input.loc[~is_wildtype]['lag'].values\n",
    "r, p = pearsonr(x,y)\n",
    "\n",
    "label = 'knockouts' + fr' ($r={r:.2f}$, $p = {float2latex(p)}$)'\n",
    "print(label)\n",
    "\n",
    "## plot wild-type scatters\n",
    "x = df_input.loc[is_wildtype]['gmax'].values\n",
    "y = df_input.loc[is_wildtype]['lag'].values\n",
    "r, p = pearsonr(x,y)\n",
    "label = 'wild-type' + fr' ($r={r:.2f}$, $p = {float2latex(p)}$)'\n",
    "print(label)\n",
    "\n",
    "\n"
   ]
  },
  {
   "cell_type": "code",
   "execution_count": null,
   "metadata": {},
   "outputs": [],
   "source": [
    "def row2label(row):\n",
    "    if row['is_wildtype'] == True:\n",
    "        return 'wild-type'\n",
    "    else:\n",
    "        return 'knockout'\n",
    "\n",
    "df_input['label']  = df_input.apply(row2label,axis=1)"
   ]
  },
  {
   "cell_type": "code",
   "execution_count": null,
   "metadata": {},
   "outputs": [],
   "source": [
    "palette = {'wild-type':'orange', 'knockout': 'dimgrey', 'wild-type median':'navy'}"
   ]
  },
  {
   "cell_type": "code",
   "execution_count": null,
   "metadata": {},
   "outputs": [],
   "source": [
    "\n",
    "\n",
    "ratio = 5\n",
    "grid = sns.jointplot(data=df_input.sort_values('label'), x=\"gmax\", y=\"lag\", \n",
    "                     hue = 'label', palette = palette,\n",
    "                     marginal_kws = {'multiple':'layer', 'fill':False},\n",
    "                     marginal_ticks= False, space = 0, ratio = ratio,\n",
    "                    height = (1+1/ratio)*FIGHEIGHT_TRIPLET, rasterized=True)\n",
    "\n",
    "ax = grid.ax_joint\n",
    "## plot wild-type scatters\n",
    "x = df_input.loc[is_wildtype]['gmax'].values\n",
    "y = df_input.loc[is_wildtype]['lag'].values\n",
    "\n",
    "\n",
    "### replot the marginal distributions in different colors\n",
    "ax = grid.ax_marg_x\n",
    "palette['knockout'] = 'dimgrey' ### fix the color for marginals in growth rate\n",
    "sns.kdeplot(data = df_input, x='gmax', ax=ax, fill = True, hue = 'label', palette=palette, multiple = 'layer',\n",
    "       legend = False)\n",
    "\n",
    "### replot the marginal distributions in different colors\n",
    "ax = grid.ax_marg_y\n",
    "palette['knockout'] = 'dimgrey' ### fix the color for marginals in growth rate\n",
    "sns.kdeplot(data = df_input, y='lag', ax=ax, fill = True, hue = 'label', palette=palette, multiple = 'layer',\n",
    "       legend = False)\n",
    "\n",
    "\n",
    "ax = grid.ax_joint\n",
    "## plot median wild-type\n",
    "x = WILDTYPE['gmax']\n",
    "y = WILDTYPE['lag']\n",
    "ax.scatter(x,y, color = palette['wild-type median'], alpha = 1, rasterized = True, marker ='x')\n",
    "grid.ax_marg_y.axhline(y, color = palette['wild-type median'])\n",
    "grid.ax_marg_x.axvline(x, color = palette['wild-type median'])\n",
    "\n",
    "\n",
    "## set label\n",
    "ax = grid.ax_joint\n",
    "ax.set_ylabel('lag time [hours]')\n",
    "ax.set_xlabel('growth rate [per hour]')\n",
    "## set legend\n",
    "#ax.legend([],[])\n",
    "#ax.legend(loc = 'upper left', bbox_to_anchor = (-1.05,0.99), frameon=False) # outside\n",
    "ax.legend(loc = 'upper left', bbox_to_anchor = (-0.05,1.0), frameon=False) #inside\n",
    "\n",
    "## fix the ticks\n",
    "ax = grid.ax_marg_x\n",
    "ax.tick_params(bottom = False)\n",
    "ax = grid.ax_marg_y\n",
    "ax.tick_params(left = False)\n",
    "## set title\n",
    "\n",
    "title = f\"n = {n_knockouts} knockouts\"\n",
    "ax = grid.ax_marg_x\n",
    "ax.annotate(title, (0.02,0.05), xycoords ='axes fraction')\n",
    "if DIST not in ['no_gmax_variation']:\n",
    "    ax.annotate('median\\nwild-type', (0.75,0.6), xycoords ='axes fraction',color = palette['wild-type median'])\n",
    "\n",
    "ax = grid.ax_marg_y\n",
    "if DIST not in ['no_lag_variation']:\n",
    "    ax.annotate('median\\nwild-type', (0.5,0.02), xycoords ='axes fraction',color = palette['wild-type median'],\n",
    "           rotation = 270)\n",
    "\n",
    "grid.fig.savefig(FIG_DIR + f\"scatterplot_gmax-vs-lag.pdf\", DPI = DPI, bbox_inches = 'tight', pad_inches = PAD_INCHES)"
   ]
  },
  {
   "cell_type": "code",
   "execution_count": null,
   "metadata": {},
   "outputs": [],
   "source": [
    "### calculate statistics\n",
    "\n",
    "### plot mutant dataset\n",
    "x= df_input.loc[~is_wildtype]['gmax'].values\n",
    "y = df_input.loc[~is_wildtype]['yield'].values\n",
    "rho, p = spearmanr(x,y)\n",
    "label = 'knockouts' + fr' ($\\rho={rho:.2f}$, $p={p:.12e}$)' #', p = {float2latex(p)}$)'\n",
    "print(label)\n",
    "\n",
    "## plot wild-type scatters\n",
    "x = df_input.loc[is_wildtype]['gmax'].values\n",
    "y = df_input.loc[is_wildtype]['yield'].values\n",
    "rho, p = spearmanr(x,y)\n",
    "label = 'wild-type' + fr' ($\\rho={rho:.2f}$, $p={p:.12e})' #', p = {float2latex(p)}$)'\n",
    "print(label)\n",
    "\n",
    "\n"
   ]
  },
  {
   "cell_type": "code",
   "execution_count": null,
   "metadata": {},
   "outputs": [],
   "source": [
    "### calculate statistics with pearson\n",
    "\n",
    "### plot mutant dataset\n",
    "x= df_input.loc[~is_wildtype]['gmax'].values\n",
    "y = df_input.loc[~is_wildtype]['yield'].values\n",
    "r, p = pearsonr(x,y)\n",
    "\n",
    "label = 'knockouts' + fr' ($r={r:.2f}$, $p = {float2latex(p)}$)'\n",
    "print(label)\n",
    "\n",
    "## plot wild-type scatters\n",
    "x = df_input.loc[is_wildtype]['gmax'].values\n",
    "y = df_input.loc[is_wildtype]['yield'].values\n",
    "r, p = pearsonr(x,y)\n",
    "label = 'wild-type' + fr' ($r={r:.2f}$, $p = {float2latex(p)}$)'\n",
    "print(label)\n",
    "\n",
    "\n"
   ]
  },
  {
   "cell_type": "code",
   "execution_count": null,
   "metadata": {},
   "outputs": [],
   "source": [
    "\n",
    "ratio = 5\n",
    "grid = sns.jointplot(data=df_input.sort_values('label'), x=\"gmax\", y=\"yield\", \n",
    "                     hue = 'label', palette = palette,\n",
    "                     marginal_kws = {'multiple':'layer', 'fill':False},\n",
    "                     marginal_ticks= False, space = 0, ratio = ratio,\n",
    "                    height = (1+1/ratio)*FIGHEIGHT_TRIPLET, rasterized=True)\n",
    "\n",
    "ax = grid.ax_joint\n",
    "\n",
    "\n",
    "### replot the marginal distributions in different colors\n",
    "ax = grid.ax_marg_x\n",
    "palette['knockout'] = 'dimgrey' ### fix the color for marginals in growth rate\n",
    "sns.kdeplot(data = df_input, x='gmax', ax=ax, fill = True, hue = 'label', palette=palette, multiple = 'layer',\n",
    "       legend = False)\n",
    "\n",
    "### replot the marginal distributions in different colors\n",
    "ax = grid.ax_marg_y\n",
    "palette['knockout'] = 'dimgrey' ### fix the color for marginals in growth rate\n",
    "sns.kdeplot(data = df_input, y='yield', ax=ax, fill = True, hue = 'label', palette=palette, multiple = 'layer',\n",
    "       legend = False)\n",
    "\n",
    "ax = grid.ax_joint\n",
    "## plot median wild-type\n",
    "x = WILDTYPE['gmax']\n",
    "y = WILDTYPE['yield']\n",
    "ax.scatter(x,y, color = palette['wild-type median'], alpha = 1, rasterized = True, marker ='x')\n",
    "grid.ax_marg_y.axhline(y, color = palette['wild-type median'])\n",
    "grid.ax_marg_x.axvline(x, color = palette['wild-type median'])\n",
    "\n",
    "\n",
    "## set label\n",
    "ax = grid.ax_joint\n",
    "ax.set_ylabel('biomass yield [OD/mM glucose]')\n",
    "ax.set_xlabel('growth rate [per hour]')\n",
    "## set legend\n",
    "ax.legend([],[])\n",
    "#ax.legend(loc = 'upper left', bbox_to_anchor = (-1.05,0.99), frameon=False) # outside\n",
    "ax.legend(loc = 'upper left', bbox_to_anchor = (-0.05,1.0), frameon=False) #inside\n",
    "\n",
    "## fix the ticks\n",
    "ax = grid.ax_marg_x\n",
    "ax.tick_params(bottom = False)\n",
    "ax = grid.ax_marg_y\n",
    "ax.tick_params(left = False)\n",
    "\n",
    "## set title\n",
    "\n",
    "title = f\"n = {n_knockouts} knockouts\"\n",
    "ax = grid.ax_marg_x\n",
    "ax.annotate(title, (0.01,0.05), xycoords ='axes fraction')\n",
    "if DIST not in ['no_gmax_variation']:\n",
    "    ax.annotate('median\\nwild-type', (0.75,0.6), xycoords ='axes fraction',color = palette['wild-type median'])\n",
    "\n",
    "ax = grid.ax_marg_y\n",
    "if DIST not in ['no_yield_variation']:\n",
    "    ax.annotate('median\\nwild-type', (0.5,0.37), xycoords ='axes fraction',color = palette['wild-type median'],\n",
    "           rotation = 270)\n",
    "\n",
    "\n",
    "\n",
    "grid.fig.savefig(FIG_DIR + f\"scatterplot_gmax-vs-yield.pdf\", DPI = DPI, bbox_inches = 'tight', pad_inches = PAD_INCHES)"
   ]
  },
  {
   "cell_type": "markdown",
   "metadata": {},
   "source": [
    "### add statistical traits for comparing trait variation"
   ]
  },
  {
   "cell_type": "markdown",
   "metadata": {},
   "source": [
    "We want to make the statement that \n",
    "\n",
    "> the variation across knockouts in the trait X is even greater than the variation in the wild-types\n",
    "\n",
    "The classic test to perform for this analysis is the F-test, and in our case, a right-tailed version of the F-test. \n",
    "However, the F-test is known to give misleading results, when the distributions do not satisfy the assumption of normality. https://en.wikipedia.org/wiki/F-test_of_equality_of_variances\n",
    "\n",
    "Instead, one of two alternatives are proposed: \n",
    "\n",
    "- Levene's test, based on the deviation from the mean: https://en.wikipedia.org/wiki/Levene%27s_test\n",
    "- Brown-Forsythe test, based on the deviation from the median: https://en.wikipedia.org/wiki/Brown%E2%80%93Forsythe_test#cite_note-Good2005-2\n",
    "\n",
    "A discussion on Stack Exchange leans towards the Levene test: https://stackoverflow.com/questions/21494141/how-do-i-do-a-f-test-in-python"
   ]
  },
  {
   "cell_type": "code",
   "execution_count": null,
   "metadata": {},
   "outputs": [],
   "source": [
    "### comparing the "
   ]
  },
  {
   "cell_type": "code",
   "execution_count": null,
   "metadata": {},
   "outputs": [],
   "source": [
    "import scipy.stats"
   ]
  },
  {
   "cell_type": "code",
   "execution_count": null,
   "metadata": {},
   "outputs": [],
   "source": [
    "for var in ['gmax', 'lag', 'yield']:\n",
    "    print(\"=============================\")\n",
    "    print(\"Testing variation for \" + var )\n",
    "\n",
    "    ## compare for growth rate\n",
    "\n",
    "    is_wildtype = df_input['label'] == 'wild-type'\n",
    "    # read traits\n",
    "    traits_mut= df_input.loc[~is_wildtype,var]\n",
    "    traits_wt = df_input.loc[is_wildtype, var]\n",
    "    # compute standard deviation\n",
    "    sd_mut =traits_mut.std()\n",
    "    sd_wt = traits_wt.std()\n",
    "    print(f\"mutant: {sd_mut:.6f}\")\n",
    "    print(f\"wildtype: {sd_wt:.6f}\")\n",
    "\n",
    "    ## compute F-statistic\n",
    "    F = sd_mut**2/sd_wt**2\n",
    "    # compute degrees of freedome\n",
    "    dof_mut = len(traits_mut) -1\n",
    "    dof_wt = len(traits_wt)-1\n",
    "    # compute p-value in two-sided F test\n",
    "    p_value = scipy.stats.f.sf(F, dof_mut, dof_wt)\n",
    "    print(f\"Classic F-test: {p_value:.3e}\")\n",
    "\n",
    "\n",
    "\n",
    "    res = scipy.stats.levene(traits_mut,traits_wt)\n",
    "    print(res)\n",
    "\n",
    "    res = scipy.stats.bartlett(traits_mut,traits_wt)\n",
    "    print(res)"
   ]
  },
  {
   "cell_type": "code",
   "execution_count": null,
   "metadata": {},
   "outputs": [],
   "source": []
  }
 ],
 "metadata": {
  "kernelspec": {
   "display_name": "Python 3",
   "language": "python",
   "name": "python3"
  },
  "language_info": {
   "codemirror_mode": {
    "name": "ipython",
    "version": 3
   },
   "file_extension": ".py",
   "mimetype": "text/x-python",
   "name": "python",
   "nbconvert_exporter": "python",
   "pygments_lexer": "ipython3",
   "version": "3.7.13"
  }
 },
 "nbformat": 4,
 "nbformat_minor": 4
}
