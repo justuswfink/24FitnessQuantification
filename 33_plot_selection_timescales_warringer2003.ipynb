{
 "cells": [
  {
   "cell_type": "markdown",
   "metadata": {},
   "source": [
    "### Compare the fitness distribution using selection coefficients with different timescales"
   ]
  },
  {
   "cell_type": "code",
   "execution_count": null,
   "metadata": {},
   "outputs": [],
   "source": [
    "\n",
    "\n",
    "### execute script to load modules here\n",
    "exec(open('setup_aesthetics.py').read())"
   ]
  },
  {
   "cell_type": "code",
   "execution_count": null,
   "metadata": {},
   "outputs": [],
   "source": [
    "import pandas as pd           \n",
    "\n",
    "import numpy as np\n",
    "import matplotlib.pyplot as plt\n",
    "import matplotlib.patches as patches\n",
    "\n",
    "from scipy import integrate\n",
    "from scipy import stats\n",
    "import random\n",
    "\n",
    "from scipy.stats import spearmanr, pearsonr\n",
    "from latex_format import float2latex\n"
   ]
  },
  {
   "cell_type": "code",
   "execution_count": null,
   "metadata": {},
   "outputs": [],
   "source": [
    "from bulk_simulation_code import run_pairwise_experiment\n",
    "from bulk_simulation_code import CalcRelativeYield,CalcReferenceFrequency\n",
    "from bulk_simulation_code import CalcTotalSelectionCoefficientLogit\n",
    "from m3_model import CalcRelativeSaturationTime as CalcSaturationTimeExact"
   ]
  },
  {
   "cell_type": "code",
   "execution_count": null,
   "metadata": {},
   "outputs": [],
   "source": [
    "### Update dependent parameters according to input\n",
    "import os\n",
    "import os.path\n",
    "from os import path\n",
    "\n",
    "## create export directory if necessary\n",
    "## foldernames for output plots/lists produced in this notebook\n",
    "import os\n",
    "FIG_DIR_STEM = f'./figures/selection_timescales/'\n",
    "os.makedirs(FIG_DIR_STEM, exist_ok=True)\n"
   ]
  },
  {
   "cell_type": "code",
   "execution_count": null,
   "metadata": {},
   "outputs": [],
   "source": [
    "\n",
    "\n",
    "### execute script to load modules here\n",
    "exec(open('setup_aesthetics.py').read())"
   ]
  },
  {
   "cell_type": "code",
   "execution_count": null,
   "metadata": {},
   "outputs": [],
   "source": [
    "DATASET_COLOR = 'darkorange'"
   ]
  },
  {
   "cell_type": "code",
   "execution_count": null,
   "metadata": {
    "tags": [
     "parameters"
    ]
   },
   "outputs": [],
   "source": [
    "### set initial frequency of competition\n",
    "\n",
    "INITIAL_FREQ = 0.01\n",
    "\n",
    "\n",
    "## set which trait distribution to plot\n",
    "\n",
    "DIST = 'all_traits_vary'"
   ]
  },
  {
   "cell_type": "markdown",
   "metadata": {},
   "source": [
    "See cell [below](#create-subsets-of-data-only-with-marginals) for a choice of trait distributions."
   ]
  },
  {
   "cell_type": "code",
   "execution_count": null,
   "metadata": {},
   "outputs": [],
   "source": [
    "SUFFIX_DATASET = f'{DIST}/'\n",
    "\n",
    "FIG_DIR = FIG_DIR_STEM + SUFFIX_DATASET\n",
    "os.makedirs(FIG_DIR, exist_ok=True)\n"
   ]
  },
  {
   "cell_type": "markdown",
   "metadata": {},
   "source": [
    "### Load wild-type traits"
   ]
  },
  {
   "cell_type": "code",
   "execution_count": null,
   "metadata": {},
   "outputs": [],
   "source": [
    "INDEX_COL = [0,1,2,3,4]\n",
    "list_na_representations = ['not_present', 'failed_to_compute']"
   ]
  },
  {
   "cell_type": "code",
   "execution_count": null,
   "metadata": {},
   "outputs": [],
   "source": [
    "PCWS_TRAITS_WARRINGER = './output/df_M3_traits.csv'\n",
    "df_warringer = pd.read_csv(PCWS_TRAITS_WARRINGER, header = 0, index_col= INDEX_COL,\\\n",
    "                                  float_precision=None, na_values=list_na_representations)\n"
   ]
  },
  {
   "cell_type": "code",
   "execution_count": null,
   "metadata": {},
   "outputs": [],
   "source": [
    "### define default wild_type\n",
    "df_wildtypes = df_warringer[df_warringer['is_wildtype']==True]\n",
    "\n",
    "WILDTYPE = df_wildtypes.median(axis = 0, numeric_only = True)"
   ]
  },
  {
   "cell_type": "markdown",
   "metadata": {},
   "source": [
    "### Load mutant data (averaged)"
   ]
  },
  {
   "cell_type": "code",
   "execution_count": null,
   "metadata": {},
   "outputs": [],
   "source": [
    "\n",
    "PCWS_TRAITS_WARRINGER_AVERAGED = './output/df_M3_traits_averaged.csv'\n",
    "df_averaged = pd.read_csv(PCWS_TRAITS_WARRINGER_AVERAGED, header = 0, float_precision=None)"
   ]
  },
  {
   "cell_type": "code",
   "execution_count": null,
   "metadata": {},
   "outputs": [],
   "source": [
    "### assign wild-type label\n",
    "def is_wildtype(row):\n",
    "    genotype = row['genotype']\n",
    "    \n",
    "    if genotype == 'BY4741':\n",
    "        return True\n",
    "    else:\n",
    "        return False\n",
    "    \n",
    "\n",
    "row = df_averaged.iloc[0]\n",
    "is_wildtype(row)"
   ]
  },
  {
   "cell_type": "code",
   "execution_count": null,
   "metadata": {},
   "outputs": [],
   "source": [
    "df_averaged['is_wildtype'] = df_averaged.apply(is_wildtype, axis =1)"
   ]
  },
  {
   "cell_type": "code",
   "execution_count": null,
   "metadata": {},
   "outputs": [],
   "source": [
    "### append mutant values (averaged) to set of individual wild-type strains\n",
    "df_knockouts = df_averaged[~df_averaged['is_wildtype']]\n",
    "df_knockouts = df_knockouts\n",
    "df_all_vary = df_wildtypes.reset_index().append(df_knockouts.reset_index())"
   ]
  },
  {
   "cell_type": "code",
   "execution_count": null,
   "metadata": {},
   "outputs": [],
   "source": [
    "### restore index\n",
    "index_col_names = df_warringer.index.names\n",
    "df_all_vary = df_all_vary.set_index(index_col_names)\n"
   ]
  },
  {
   "cell_type": "code",
   "execution_count": null,
   "metadata": {},
   "outputs": [],
   "source": [
    "n_wildtypes = sum(df_all_vary['is_wildtype'])\n",
    "n_knockouts = sum(~df_all_vary['is_wildtype'])"
   ]
  },
  {
   "cell_type": "markdown",
   "metadata": {},
   "source": [
    "### Set units of time"
   ]
  },
  {
   "cell_type": "code",
   "execution_count": null,
   "metadata": {},
   "outputs": [],
   "source": [
    "df_all_vary['gmax'] = df_all_vary['gmax']*60 # change units to growth rate per hour\n",
    "df_all_vary['lag']  = df_all_vary['lag']/60 # change units to hour\n",
    "\n"
   ]
  },
  {
   "cell_type": "code",
   "execution_count": null,
   "metadata": {},
   "outputs": [],
   "source": [
    "WILDTYPE['gmax'] = WILDTYPE['gmax']*60 # change units to growth rate per hour\n",
    "WILDTYPE['lag']  = WILDTYPE['lag']/60 # change units to hour"
   ]
  },
  {
   "cell_type": "markdown",
   "metadata": {},
   "source": [
    "### create subsets of data only with marginals"
   ]
  },
  {
   "cell_type": "code",
   "execution_count": null,
   "metadata": {},
   "outputs": [],
   "source": [
    "dist2data = {}\n",
    "\n",
    "## full datadist with all traits\n",
    "tmp = df_all_vary.copy(deep=True)\n",
    "dist2data['all_traits_vary'] = tmp\n",
    "## distribution with no yield variation\n",
    "tmp = df_all_vary.copy(deep=True)\n",
    "tmp['yield'] = WILDTYPE['yield']\n",
    "dist2data['no_yield_variation'] = tmp\n",
    "## distribution with some yield variation, but only equal or larger than wild-type\n",
    "tmp = df_all_vary.copy(deep=True)\n",
    "tmp['yield'] = [v if v > WILDTYPE['yield'] else WILDTYPE['yield'] for v in df_all_vary['yield']]\n",
    "dist2data['no_deleterious_yield'] = tmp\n",
    "## distribution with no growth rate variation\n",
    "tmp = df_all_vary.copy(deep=True)\n",
    "tmp['gmax'] = WILDTYPE['gmax']\n",
    "dist2data['no_gmax_variation'] = tmp\n",
    "## distribution with no growth rate variation\n",
    "tmp = df_all_vary.copy(deep=True)\n",
    "tmp['lag'] = WILDTYPE['lag']\n",
    "dist2data['no_lag_variation'] = tmp\n",
    "\n",
    "## marginal distribution in gmax\n",
    "tmp = df_all_vary.copy(deep=True)\n",
    "tmp['lag'] = WILDTYPE['lag']\n",
    "tmp['yield'] = WILDTYPE['yield']\n",
    "dist2data[ 'only_gmax_varies'] = tmp\n",
    "## marginal distribution in lag\n",
    "tmp = df_all_vary.copy(deep=True)\n",
    "tmp['yield'] = WILDTYPE['yield']\n",
    "tmp['gmax'] = WILDTYPE['gmax']\n",
    "dist2data[ 'only_lag_varies'] = tmp\n",
    "## marginal distribution in yield\n",
    "tmp = df_all_vary.copy(deep=True)\n",
    "tmp['lag'] = WILDTYPE['lag']\n",
    "tmp['gmax'] = WILDTYPE['gmax']\n",
    "dist2data[ 'only_yield_varies'] = tmp\n"
   ]
  },
  {
   "cell_type": "markdown",
   "metadata": {},
   "source": [
    "### Choose subset"
   ]
  },
  {
   "cell_type": "code",
   "execution_count": null,
   "metadata": {},
   "outputs": [],
   "source": [
    "df_input = dist2data[DIST]"
   ]
  },
  {
   "cell_type": "markdown",
   "metadata": {},
   "source": [
    "### Load trait data into the standard form required by Michaels code"
   ]
  },
  {
   "cell_type": "code",
   "execution_count": null,
   "metadata": {},
   "outputs": [],
   "source": [
    "n_input = df_input.shape[0]"
   ]
  },
  {
   "cell_type": "code",
   "execution_count": null,
   "metadata": {},
   "outputs": [],
   "source": [
    "### growth rates\n",
    "gs = np.zeros(n_input+1)\n",
    "gs[0] = WILDTYPE['gmax']\n",
    "gs[1:] = df_input['gmax'].values\n",
    "\n",
    "### lag times\n",
    "ls = np.zeros(n_input+1)\n",
    "ls[0] = WILDTYPE['lag']\n",
    "ls[1:] = df_input['lag'].values\n",
    "\n",
    "### yield\n",
    "Ys = np.zeros(n_input+1)\n",
    "Ys[0] = WILDTYPE['yield']\n",
    "Ys[1:] = df_input['yield'].values\n"
   ]
  },
  {
   "cell_type": "markdown",
   "metadata": {},
   "source": [
    "### Define initial condition for bulk growth cycle"
   ]
  },
  {
   "cell_type": "code",
   "execution_count": null,
   "metadata": {},
   "outputs": [],
   "source": [
    "### set initial resource concentrations\n",
    "\n",
    "CONCENTRATION_GLUCOSE = 20/180 * 1e3 # concentrations are recored  in milliMolar, to match the units of yield\n",
    "print(CONCENTRATION_GLUCOSE)"
   ]
  },
  {
   "cell_type": "code",
   "execution_count": null,
   "metadata": {},
   "outputs": [],
   "source": [
    "### define default initial_OD\n",
    "OD_START = 0.05  #df_warringer['od_start'].median()\n",
    "\n",
    "### compare to initial OD in the monoculture cycles\n",
    "fig, ax = plt.subplots(figsize = (FIGWIDTH_TRIPLET, FIGHEIGHT_TRIPLET))\n",
    "\n",
    "ax = df_warringer['od_start'].hist(bins=41, color = DATASET_COLOR, alpha = 0.6, log = True, rasterized = True)\n",
    "\n",
    "\n",
    "ax.axvline(OD_START, color = 'tab:red', label = f'median value: $N_0={OD_START:.3f}$')\n",
    "ax.legend()\n",
    "ax.set_xlabel('initial OD')\n",
    "ax.set_ylabel('no. growth curves')"
   ]
  },
  {
   "cell_type": "markdown",
   "metadata": {},
   "source": [
    "### Calculate effective yield"
   ]
  },
  {
   "cell_type": "code",
   "execution_count": null,
   "metadata": {},
   "outputs": [],
   "source": [
    "from bulk_simulation_code import CalcRelativeYield"
   ]
  },
  {
   "cell_type": "code",
   "execution_count": null,
   "metadata": {},
   "outputs": [],
   "source": [
    "### calculcate effective yields\n",
    "nus = CalcRelativeYield(Ys, R0 = CONCENTRATION_GLUCOSE, N0 = OD_START)\n"
   ]
  },
  {
   "cell_type": "markdown",
   "metadata": {},
   "source": [
    "### Simulate pairwise competition growth cycles (scenario A)"
   ]
  },
  {
   "cell_type": "code",
   "execution_count": null,
   "metadata": {},
   "outputs": [],
   "source": [
    "from bulk_simulation_code import toPerGeneration"
   ]
  },
  {
   "cell_type": "code",
   "execution_count": null,
   "metadata": {},
   "outputs": [],
   "source": [
    "%%time\n",
    "xs_pair, xs_pair_final, tsats,fcs_both, fcs_wt, fcs_mut = run_pairwise_experiment(\n",
    "                                                                gs=gs,   ls=ls,   nus = nus, \n",
    "                                                                g1=gs[0],l1=ls[0],nu1=nus[0],\n",
    "                                                                x0 = INITIAL_FREQ)"
   ]
  },
  {
   "cell_type": "code",
   "execution_count": null,
   "metadata": {},
   "outputs": [],
   "source": [
    "s_percycle = CalcTotalSelectionCoefficientLogit(xs_pair,xs_pair_final)\n",
    "s_pergen = np.divide(s_percycle, np.log(fcs_wt))"
   ]
  },
  {
   "cell_type": "markdown",
   "metadata": {},
   "source": [
    "### store results"
   ]
  },
  {
   "cell_type": "code",
   "execution_count": null,
   "metadata": {},
   "outputs": [],
   "source": [
    "df_output = df_input.copy()"
   ]
  },
  {
   "cell_type": "code",
   "execution_count": null,
   "metadata": {},
   "outputs": [],
   "source": [
    "df_output['logfc_wt'] = np.log(fcs_wt[1:])\n",
    "df_output['logfc_mut'] = np.log(fcs_mut[1:])\n",
    "\n",
    "df_output['logit_percycle'] = s_percycle[1:]\n",
    "df_output['logit_pergen'] = s_pergen[1:]\n",
    "\n",
    "df_output['logit_percycle_rank'] =df_output['logit_percycle'].rank(ascending =True, method = 'min')\n",
    "df_output['logit_pergen_rank'] = df_output['logit_pergen'].rank(ascending = True, method = 'min')\n",
    "\n",
    "df_output['deltarank'] =  df_output['logit_pergen_rank'] - df_output['logit_percycle_rank']\n"
   ]
  },
  {
   "cell_type": "code",
   "execution_count": null,
   "metadata": {},
   "outputs": [],
   "source": [
    "df_output.rank()"
   ]
  },
  {
   "cell_type": "code",
   "execution_count": null,
   "metadata": {},
   "outputs": [],
   "source": [
    "### consistency check"
   ]
  },
  {
   "cell_type": "code",
   "execution_count": null,
   "metadata": {},
   "outputs": [],
   "source": [
    "df_output['logit_percycle_test'] = df_output['logfc_mut'] - df_output['logfc_wt']"
   ]
  },
  {
   "cell_type": "code",
   "execution_count": null,
   "metadata": {},
   "outputs": [],
   "source": [
    "df_output['logit_percycle_residuals'] =df_output['logit_percycle_test'] - df_output['logit_percycle']"
   ]
  },
  {
   "cell_type": "code",
   "execution_count": null,
   "metadata": {},
   "outputs": [],
   "source": [
    "sns.scatterplot(df_output, x = 'logit_percycle', y = 'logit_percycle_test')"
   ]
  },
  {
   "cell_type": "code",
   "execution_count": null,
   "metadata": {},
   "outputs": [],
   "source": [
    "sns.scatterplot(df_output, x = 'logit_percycle', y = 'logit_percycle_residuals')"
   ]
  },
  {
   "cell_type": "markdown",
   "metadata": {},
   "source": [
    "### Prepare data for plotting"
   ]
  },
  {
   "cell_type": "code",
   "execution_count": null,
   "metadata": {},
   "outputs": [],
   "source": [
    "### sort by label prepare for plotting\n",
    "\n",
    "def row2label(row):\n",
    "    if row['is_wildtype'] == True:\n",
    "        return 'wild-type'\n",
    "    else:\n",
    "        return 'knockout'\n",
    "    "
   ]
  },
  {
   "cell_type": "code",
   "execution_count": null,
   "metadata": {},
   "outputs": [],
   "source": [
    "df_output['label']  = df_output.apply(row2label,axis=1)\n",
    "\n",
    "df_output = df_output.sort_values('label')"
   ]
  },
  {
   "cell_type": "code",
   "execution_count": null,
   "metadata": {},
   "outputs": [],
   "source": [
    "## sort by misranking\n",
    "\n",
    "df_output['deltarank_abs'] = np.abs(df_output['deltarank'])\n",
    "df_sorted = df_output.sort_values('deltarank_abs', ascending = False)\n",
    "select = df_sorted.index[[0]]"
   ]
  },
  {
   "cell_type": "code",
   "execution_count": null,
   "metadata": {},
   "outputs": [],
   "source": [
    "df_sorted.loc[select]"
   ]
  },
  {
   "cell_type": "markdown",
   "metadata": {},
   "source": [
    "### plot misranking"
   ]
  },
  {
   "cell_type": "code",
   "execution_count": null,
   "metadata": {},
   "outputs": [],
   "source": [
    "### plot residuals\n",
    "\n",
    "palette = {'wild-type':'orange', 'knockout': 'dimgrey'}\n",
    "\n",
    "\n",
    "fig, ax = plt.subplots(figsize = (FIGHEIGHT_TRIPLET, FIGHEIGHT_TRIPLET))\n",
    "\n",
    "x_var = 'logit_percycle'\n",
    "y_var = 'deltarank'\n",
    "data = df_output\n",
    "sns.scatterplot(data = data, x = x_var, y = y_var, rasterized = True, ax = ax,\n",
    "                hue = 'label', palette = palette)\n",
    "\n",
    "### plot select points\n",
    "is_labeled = True\n",
    "for i in select:\n",
    "    A, B = float(data.loc[i, x_var]), float(data.loc[i, y_var])\n",
    "    #ax.scatter(A-0.15,B,s=150,color ='tab:red', zorder = -1, marker = 5 )\n",
    "    if is_labeled == False: \n",
    "        label = 'max. disagreement' \n",
    "        is_labeled = True\n",
    "    else: label = None\n",
    "    ax.scatter(A,B,s=200,color ='tab:blue', zorder = -1,label = label, alpha = 0.25)\n",
    "\n",
    "\n",
    "### plot horizontal line for orientation\n",
    "ax.axhline(0,ls = '--', color = 'black')\n",
    "\n",
    "### annotate\n",
    "ax.set_xlabel('relative fitness per-cycle:' + r'  $s^{\\mathrm{logit}}_{\\mathrm{cycle}}$')\n",
    "#ax.set_ylabel('rank difference to\\nrelative fitness per-generation [rank]')\n",
    "ax.set_ylabel('rank difference between\\nfitness ' + r'$s^{\\mathrm{logit}}_{\\mathrm{gen}}$ '\n",
    "              + 'and fitness ' + r'$s^{\\mathrm{logit}}_{\\mathrm{cycle}}$')\n",
    "ax.legend(loc = 'upper left', bbox_to_anchor = (-0.05,1.0), frameon=False) #inside\n",
    "\n",
    "title = f\"n = {sum(~data['is_wildtype'])} knockouts\"\n",
    "ax.set_title(title, loc = 'left')\n",
    "\n",
    "fig.savefig(FIG_DIR + f\"residuals_{x_var}_vs_{y_var}_x0={INITIAL_FREQ:.2f}.pdf\", DPI = DPI, bbox_inches = 'tight', pad_inches = PAD_INCHES)\n"
   ]
  },
  {
   "cell_type": "code",
   "execution_count": null,
   "metadata": {},
   "outputs": [],
   "source": [
    "data[y_var].max()"
   ]
  },
  {
   "cell_type": "markdown",
   "metadata": {},
   "source": [
    "### plot on foldchange phase diagram"
   ]
  },
  {
   "cell_type": "code",
   "execution_count": null,
   "metadata": {},
   "outputs": [],
   "source": [
    "def eval_isocline_percycle(logfc_wt, level):\n",
    "    return logfc_wt + level\n",
    "\n",
    "def eval_isocline_pergen(logfc_wt, level):\n",
    "    return np.multiply((level+1),logfc_wt)"
   ]
  },
  {
   "cell_type": "code",
   "execution_count": null,
   "metadata": {},
   "outputs": [],
   "source": [
    "\n",
    "palette = {'wild-type':'orange', 'knockout': 'dimgrey'}"
   ]
  },
  {
   "cell_type": "code",
   "execution_count": null,
   "metadata": {},
   "outputs": [],
   "source": [
    "### plot cloud of points\n",
    "\n",
    "fig, ax = plt.subplots(figsize = (FIGHEIGHT_TRIPLET, FIGHEIGHT_TRIPLET))\n",
    "\n",
    "x_var = 'logfc_wt'\n",
    "y_var = 'logfc_mut'\n",
    "data = df_output\n",
    "sns.scatterplot(data = data, x = x_var, y = y_var, rasterized = True, ax = ax,\n",
    "                hue = 'label', palette = palette)\n",
    "\n",
    "\n",
    "\n",
    "## find value limits\n",
    "\n",
    "fcmax = np.max([data[x_var].max(),data[y_var].max()])\n",
    "fcmin = np.min([data[x_var].min(),data[y_var].min()])\n",
    "assert fcmin > 0\n",
    "\n",
    "### set axis limits\n",
    "#xmin = 1\n",
    "#assert xmin < fcmin, 'We are cutting points from the dataplot!'\n",
    "#xmax = 5.5\n",
    "#assert xmax > fcmax, 'We are cutting points from the dataplot!'\n",
    "#ax.set_xlim(xmin,xmax)\n",
    "#ax.set_ylim(xmin,xmax)\n",
    "\n",
    "\n",
    "## take off axis spines\n",
    "#sns.despine(left=False, bottom = False, ax = ax)\n",
    "\n",
    "### find axis limits\n",
    "xmin, xmax = ax.get_xlim()\n",
    "fcwt_vec = np.linspace(xmin,xmax, num = 100) \n",
    "fcwt_vec = np.concatenate((-fcwt_vec,fcwt_vec))\n",
    "color_percycle = 'tab:grey'\n",
    "color_pergen = 'navy'\n",
    "\n",
    "### plot per cycle isoclines\n",
    "levels = np.outer([-1,1],np.linspace(0.01,8,num = 6)).flatten()\n",
    "levels.sort()\n",
    "\n",
    "for level in levels: \n",
    "\n",
    "    y = eval_isocline_percycle(fcwt_vec, level = level)\n",
    "    #ax.plot(fcwt_vec, y, color = color_percycle)\n",
    "    \n",
    "    \n",
    "## plot per generationa isoclines\n",
    "angles = np.linspace(0,np.pi/2 - 0.001, num = 6)\n",
    "levels = np.outer([-1,1],np.tan(angles)).flatten()\n",
    "\n",
    "for level in levels: \n",
    "    y = eval_isocline_pergen(fcwt_vec, level =level) \n",
    "    #ax.plot(fcwt_vec, y, color = color_pergen)\n",
    "    \n",
    "## plot diagonal \n",
    "xmin, xmax = ax.get_xlim()\n",
    "ymin, ymax = ax.get_ylim()\n",
    "ax.plot([-xmin,xmax],[-xmin,xmax], color = 'black', ls = '--')\n",
    "ax.set_xlim(xmin,xmax)\n",
    "ax.set_ylim(ymin,ymax)\n",
    "## add  legend items\n",
    "#ax.plot([],[], color = color_percycle, label = 'per-cycle $s$ isocline')\n",
    "#ax.plot([],[], color = color_pergen, label = 'per-generation $Q$ isocline')\n",
    "\n",
    "## plot red cone for a select point\n",
    "#select = [0]\n",
    "for i in select:\n",
    "    A, B = float(data.loc[i, x_var]), float(data.loc[i, y_var])\n",
    "    #ax.scatter(A,B,s=70,color ='tab:red', zorder = 3)\n",
    "    #ax.scatter(A-0.05,B,s=150,color ='tab:red', zorder = -1, marker = 5 )\n",
    "    #ax.scatter(A,B,s=70,color ='tab:red', zorder = 3, marker = 'v')\n",
    "    ax.scatter(A,B,s=200,color ='tab:blue', zorder = -1,label = label, alpha = 0.25)\n",
    "\n",
    "\n",
    "    x_fill = np.linspace(fcwt_vec[0],fcwt_vec[-1])\n",
    "    y_fill = B/A*x_fill\n",
    "\n",
    "    ax.fill_between(x_fill, (x_fill - A) + B, y_fill, color='tab:red', alpha=0.5)\n",
    "\n",
    "### annotate\n",
    "#ax.legend(loc = 'upper left', bbox_to_anchor = (1.3,1)) # outside\n",
    "ax.legend(loc = 'upper left', bbox_to_anchor = (-0.05,0.25), frameon=False) #inside\n",
    "title = f\"n = {sum(~data['is_wildtype'])} knockouts\"\n",
    "#ax.set_title(title, loc = 'left')\n",
    "\n",
    "ax.set_xlabel(r\"wild-type log fold-change: $\\mathrm{LFC}_{\\mathrm{wt}}$\")\n",
    "ax.set_ylabel(r\"mutant log fold-change: $\\mathrm{LFC}_{\\mathrm{mut}}$\")\n",
    "\n",
    "title = f\"n = {sum(~data['is_wildtype'])} knockouts\"\n",
    "ax.set_title(title, loc = 'left')\n",
    "\n",
    "\n",
    "fig.savefig(FIG_DIR+ f'scatterplot_logfc_wt_vs_logfc_mut_x0={INITIAL_FREQ:.2f}.pdf', DPI = DPI, bbox_inches = 'tight', pad_inches = PAD_INCHES)\n",
    "              "
   ]
  },
  {
   "cell_type": "markdown",
   "metadata": {},
   "source": [
    "### plot DFEs"
   ]
  },
  {
   "cell_type": "code",
   "execution_count": null,
   "metadata": {},
   "outputs": [],
   "source": [
    "import warnings"
   ]
  },
  {
   "cell_type": "code",
   "execution_count": null,
   "metadata": {},
   "outputs": [],
   "source": [
    "palette = {'wild-type':'orange', 'knockout': 'dimgrey', 'wild-type median':'navy'}"
   ]
  },
  {
   "cell_type": "code",
   "execution_count": null,
   "metadata": {},
   "outputs": [],
   "source": [
    "fig, ax = plt.subplots(figsize = (FIGHEIGHT_TRIPLET, FIGHEIGHT_TRIPLET))\n",
    "\n",
    "data = df_output\n",
    "x_var = 'logit_percycle'\n",
    "#sns.histplot(data, x = 'logit_percycle', rasterized = True, ax = ax,\n",
    "#                hue = 'label', palette = palette)\n",
    "\n",
    "## need a context wrapper, else pandas throws a Future Warning\n",
    "## see https://stackoverflow.com/questions/15777951/how-to-suppress-pandas-future-warning\n",
    "with warnings.catch_warnings():\n",
    "    warnings.simplefilter(action='ignore', category=FutureWarning)\n",
    "    # Warning-causing lines of code here\n",
    "    sns.kdeplot(data=data, x=x_var, hue=\"label\",common_norm = True,\n",
    "            palette = palette, multiple=\"layer\", ax = ax, fill = True, legend = True)\n",
    "    \n",
    "### plot selection coefficient zero for orientation\n",
    "ax.axvline(0, ls = '--', color = 'black')\n",
    "ax.legend_.set_title('')\n",
    "\n",
    "title = f\"n = {sum(~data['is_wildtype'])} knockouts\"\n",
    "ax.set_title(title, loc = 'left')\n",
    "\n",
    "ax.set_xlabel('relative fitness per-cycle:' + r'  $s^{\\mathrm{logit}}_{\\mathrm{cycle}}$')\n",
    "ax.set_ylabel('sample density')\n",
    "\n",
    "\n",
    "fig.savefig(FIG_DIR+ f'dfeplot_logit_percycle_x0={INITIAL_FREQ:.2f}.pdf', DPI = DPI, bbox_inches = 'tight', pad_inches = PAD_INCHES)\n",
    "    "
   ]
  },
  {
   "cell_type": "code",
   "execution_count": null,
   "metadata": {},
   "outputs": [],
   "source": [
    "fig, ax = plt.subplots(figsize = (FIGHEIGHT_TRIPLET, FIGHEIGHT_TRIPLET))\n",
    "\n",
    "data = df_output\n",
    "x_var = 'logit_pergen'\n",
    "#sns.histplot(data, x = 'logit_percycle', rasterized = True, ax = ax,\n",
    "#                hue = 'label', palette = palette)\n",
    "\n",
    "## need a context wrapper, else pandas throws a Future Warning\n",
    "## see https://stackoverflow.com/questions/15777951/how-to-suppress-pandas-future-warning\n",
    "with warnings.catch_warnings():\n",
    "    warnings.simplefilter(action='ignore', category=FutureWarning)\n",
    "    # Warning-causing lines of code here\n",
    "    sns.kdeplot(data=data, x=x_var, hue=\"label\",common_norm = True,\n",
    "            palette = palette, multiple=\"layer\", ax = ax, fill = True, legend = True)\n",
    "    \n",
    "### plot selection coefficient zero for orientation\n",
    "ax.axvline(0, ls = '--', color = 'black')\n",
    "ax.legend_.set_title('')\n",
    "\n",
    "title = f\"n = {sum(~data['is_wildtype'])} knockouts\"\n",
    "ax.set_title(title, loc = 'left')\n",
    "\n",
    "ax.set_xlabel('relative fitness per-generation:' + r'  $s^{\\mathrm{logit}}_{\\mathrm{gen}}$')\n",
    "ax.set_ylabel('sample density')\n",
    "\n",
    "\n",
    "fig.savefig(FIG_DIR+ f'dfeplot_logit_pergen_x0={INITIAL_FREQ:.2f}.pdf', DPI = DPI, bbox_inches = 'tight', pad_inches = PAD_INCHES)\n",
    "    "
   ]
  },
  {
   "cell_type": "markdown",
   "metadata": {},
   "source": [
    "### plot global correlation in ranks"
   ]
  },
  {
   "cell_type": "code",
   "execution_count": null,
   "metadata": {},
   "outputs": [],
   "source": [
    "data.columns"
   ]
  },
  {
   "cell_type": "code",
   "execution_count": null,
   "metadata": {},
   "outputs": [],
   "source": [
    "### plot correlation\n",
    "\n",
    "fig, ax = plt.subplots(figsize = (FIGHEIGHT_TRIPLET, FIGHEIGHT_TRIPLET))\n",
    "\n",
    "x_var = 'logit_percycle_rank'\n",
    "y_var = 'logit_pergen_rank'\n",
    "data = df_output\n",
    "sns.scatterplot(data = data, x = x_var, y = y_var, rasterized = True, ax = ax,\n",
    "                hue = 'label', palette = palette)\n",
    "\n",
    "### plot select points\n",
    "is_labeled = True\n",
    "for i in select:\n",
    "    A, B = float(data.loc[i, x_var]), float(data.loc[i, y_var])\n",
    "    #ax.scatter(A-0.15,B,s=150,color ='tab:red', zorder = -1, marker = 5 )\n",
    "    if is_labeled == False: \n",
    "        label = 'max. disagreement' \n",
    "        is_labeled = True\n",
    "    else: label = None\n",
    "    #ax.scatter(A,B,s=200,color ='tab:blue', zorder = -1,label = label, alpha = 0.25)\n",
    "\n",
    "\n",
    "### annotate\n",
    "ax.legend(loc = 'upper left', bbox_to_anchor = (-0.05,1.0), frameon=False) #inside\n",
    "\n",
    "ax.set_ylabel('relative fitness per-generation [rank]')\n",
    "ax.set_xlabel('relative fitness per-cycle [rank]')\n",
    "\n",
    "title = f\"n = {sum(~data['is_wildtype'])} knockouts\"\n",
    "ax.set_title(title, loc = 'left')\n",
    "\n",
    "fig.savefig(FIG_DIR + f\"scatterplot_{x_var}_vs_{y_var}_x0={INITIAL_FREQ:.2f}.pdf\", DPI = DPI, bbox_inches = 'tight', pad_inches = PAD_INCHES)\n"
   ]
  },
  {
   "cell_type": "code",
   "execution_count": null,
   "metadata": {},
   "outputs": [],
   "source": []
  },
  {
   "cell_type": "code",
   "execution_count": null,
   "metadata": {},
   "outputs": [],
   "source": []
  }
 ],
 "metadata": {
  "kernelspec": {
   "display_name": "Python 3",
   "language": "python",
   "name": "python3"
  },
  "language_info": {
   "codemirror_mode": {
    "name": "ipython",
    "version": 3
   },
   "file_extension": ".py",
   "mimetype": "text/x-python",
   "name": "python",
   "nbconvert_exporter": "python",
   "pygments_lexer": "ipython3",
   "version": "3.7.13"
  }
 },
 "nbformat": 4,
 "nbformat_minor": 4
}
