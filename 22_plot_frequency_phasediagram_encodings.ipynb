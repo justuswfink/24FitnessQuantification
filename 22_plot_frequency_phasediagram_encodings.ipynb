{
 "cells": [
  {
   "cell_type": "code",
   "execution_count": null,
   "metadata": {},
   "outputs": [],
   "source": [
    "\n",
    "import numpy as np\n",
    "import matplotlib.pyplot as plt\n",
    "import pandas as pd\n",
    "from scipy import stats\n",
    "\n",
    "import seaborn as sns\n"
   ]
  },
  {
   "cell_type": "code",
   "execution_count": null,
   "metadata": {},
   "outputs": [],
   "source": [
    "\n",
    "\n",
    "### execute script to load modules here\n",
    "exec(open('setup_aesthetics.py').read())"
   ]
  },
  {
   "cell_type": "code",
   "execution_count": null,
   "metadata": {},
   "outputs": [],
   "source": [
    "## create export directory if necessary\n",
    "## foldernames for output plots/lists produced in this notebook\n",
    "import os\n",
    "FIG_DIR = f'./figures/alternative_encodings/'\n",
    "os.makedirs(FIG_DIR, exist_ok=True)\n",
    "print(\"All  plots will be stored in: \\n\" + FIG_DIR)"
   ]
  },
  {
   "cell_type": "markdown",
   "metadata": {},
   "source": [
    "## plot isoclines for selection coefficient"
   ]
  },
  {
   "cell_type": "code",
   "execution_count": null,
   "metadata": {},
   "outputs": [],
   "source": [
    "def eval_statistic(xf,x0, phi = lambda x: np.log(x/(1-x))):\n",
    "    return phi(xf) - phi(x0)"
   ]
  },
  {
   "cell_type": "code",
   "execution_count": null,
   "metadata": {},
   "outputs": [],
   "source": [
    "eval_statistic(xf = 0.55, x0 = 0.45)"
   ]
  },
  {
   "cell_type": "code",
   "execution_count": null,
   "metadata": {},
   "outputs": [],
   "source": [
    "def eval_statistic_s(xf,x0):\n",
    "    return eval_statistic(xf=xf,x0=x0, phi =lambda x: np.log(x/(1-x))) \n",
    "\n",
    "def eval_statistic_deltalog(xf,x0):\n",
    "    return eval_statistic(xf=xf,x0=x0, phi =lambda x: np.log(x)) "
   ]
  },
  {
   "cell_type": "code",
   "execution_count": null,
   "metadata": {},
   "outputs": [],
   "source": [
    "def get_isocline_deltalog(x0, level ):\n",
    "    return np.multiply(x0, np.exp(level))\n",
    "\n",
    "### test\n",
    "get_isocline_deltalog(x0 = np.geomspace(0.01,0.1,num=10), level = 0.0)"
   ]
  },
  {
   "cell_type": "code",
   "execution_count": null,
   "metadata": {},
   "outputs": [],
   "source": [
    "def get_isocline_s(x0, level ):    \n",
    "    tmp = np.multiply(x0, np.exp(level))\n",
    "    return np.divide(tmp, 1 + tmp - x0)\n",
    "\n",
    "\n",
    "### test\n",
    "get_isocline_s(x0 = np.geomspace(0.01,0.1,num=10), level = 0.0)"
   ]
  },
  {
   "cell_type": "code",
   "execution_count": null,
   "metadata": {},
   "outputs": [],
   "source": [
    "### define helper function\n",
    "def logit(x):\n",
    "    return np.log(np.divide(x,1-x))\n",
    "## test\n",
    "logit(0.5)"
   ]
  },
  {
   "cell_type": "markdown",
   "metadata": {},
   "source": [
    "### plot logistic frequency trajectory"
   ]
  },
  {
   "cell_type": "code",
   "execution_count": null,
   "metadata": {},
   "outputs": [],
   "source": [
    "from scipy.special import expit as logistic"
   ]
  },
  {
   "cell_type": "code",
   "execution_count": null,
   "metadata": {},
   "outputs": [],
   "source": [
    "logistic(0.1)"
   ]
  },
  {
   "cell_type": "code",
   "execution_count": null,
   "metadata": {},
   "outputs": [],
   "source": [
    "def sol_exact_logistic(t, r=1, x_0 = 0.01):\n",
    "    # see https://mathworld.wolfram.com/LogisticEquation.html\n",
    "    \n",
    "    assert x_0 > 0\n",
    "    assert x_0 <=1\n",
    "    assert r > 0\n",
    "    \n",
    "    prefactor = (1/x_0) - 1\n",
    "    exponential_term = prefactor * np.exp(np.multiply(-r,t))\n",
    "    fraction = 1/ (1 + exponential_term)\n",
    "    return fraction\n",
    "\n",
    "### test\n",
    "fig, ax = plt.subplots()\n",
    "t= np.linspace(0,10, num = 100)\n",
    "y = sol_exact_logistic(t=t, r=1,x_0 = 0.01)\n",
    "ax.plot(t,y)"
   ]
  },
  {
   "cell_type": "code",
   "execution_count": null,
   "metadata": {},
   "outputs": [],
   "source": [
    "palette = sns.color_palette(\"Set2\")"
   ]
  },
  {
   "cell_type": "code",
   "execution_count": null,
   "metadata": {},
   "outputs": [],
   "source": [
    "### make plot\n",
    "## define sample\n",
    "t = np.linspace(0,12, num= 100)\n",
    "x_vec = sol_exact_logistic(t, r=1, x_0 = 0.01)\n",
    "\n",
    "fig, axes = plt.subplots(1,3, figsize = (3.3*FIGWIDTH_TRIPLET, FIGHEIGHT_TRIPLET))\n",
    "\n",
    "ax = axes[0]\n",
    "color  = palette[0]\n",
    "ax.plot(t, x_vec, lw = 3, color = color)\n",
    "ax.set_xlabel('time')\n",
    "ax.set_ylabel('relative abundance $x$')\n",
    "\n",
    "ax = axes[1]\n",
    "color  = palette[2]\n",
    "ax.plot(t, np.log(x_vec), lw = 3, color = color)\n",
    "ax.set_xlabel('time')\n",
    "ax.set_ylabel('log relative abundance $\\log(x)$')\n",
    "\n",
    "ax = axes[2]\n",
    "color  = palette[1]\n",
    "ax.plot(t, logit(x_vec), lw = 3, color = color)\n",
    "ax.set_xlabel('time')\n",
    "ax.set_ylabel('logit relative abundance $\\log(x/1-x)$')\n",
    "\n",
    "for ax in axes:\n",
    "    ax.set_xlim(0,12)\n",
    "    sns.despine(ax=ax, top = True)\n",
    "    \n",
    "fig.savefig(FIG_DIR + f'example_trajectories.pdf', DPI = DPI, bbox_inches = 'tight', pad_inches = PAD_INCHES)\n",
    "    "
   ]
  },
  {
   "cell_type": "markdown",
   "metadata": {},
   "source": [
    "### plot overview of encodings"
   ]
  },
  {
   "cell_type": "code",
   "execution_count": null,
   "metadata": {},
   "outputs": [],
   "source": [
    "palette = sns.color_palette(\"Set2\")"
   ]
  },
  {
   "cell_type": "code",
   "execution_count": null,
   "metadata": {},
   "outputs": [],
   "source": [
    "fig, ax = plt.subplots(figsize = (FIGHEIGHT_TRIPLET,FIGHEIGHT_TRIPLET))\n",
    "\n",
    "x0_vec = np.linspace(0.0001,0.9999, num = 100)\n",
    "\n",
    "ax.plot(x0_vec,x0_vec, color = palette[0], label = '$m=x$', lw = 3)\n",
    "ax.plot(x0_vec, logit(x0_vec), color = palette[1], ls = '-', label = '$m=\\log(x/1-x)$', lw = 3)\n",
    "ax.plot(x0_vec, np.log(x0_vec), color = palette[2], ls = '-', label = '$m=\\log(x)$', lw = 3)\n",
    "\n",
    "ax.axhline(0, color = 'black', ls = 'dotted')\n",
    "ax.set_ylim(-3,3)\n",
    "ax.set_xlim(0,1)\n",
    "\n",
    "ax.set_xlabel('input strain frequency $x$')\n",
    "ax.set_ylabel('output $m$ from encoding function')\n",
    "\n",
    "ax.legend(loc = 'upper left')\n",
    "\n",
    "fig.savefig(FIG_DIR + f'example_encodings.pdf', DPI = DPI, bbox_inches = 'tight', pad_inches = PAD_INCHES)\n",
    "              "
   ]
  },
  {
   "cell_type": "markdown",
   "metadata": {},
   "source": [
    "### plot residuals of regression"
   ]
  },
  {
   "cell_type": "code",
   "execution_count": null,
   "metadata": {},
   "outputs": [],
   "source": [
    "np.exp(0.1)"
   ]
  },
  {
   "cell_type": "code",
   "execution_count": null,
   "metadata": {},
   "outputs": [],
   "source": [
    "### set up an example change of frequency\n",
    "\n",
    "x_start = 0.01\n",
    "#z = np.exp(5)*(x_start/(1-x_start))\n",
    "#x_final = z/(1+z)\n",
    "x_final = 0.5\n",
    "print(x_final)"
   ]
  },
  {
   "cell_type": "code",
   "execution_count": null,
   "metadata": {},
   "outputs": [],
   "source": [
    "### create a sample errors\n",
    "rs = np.random.RandomState(27021997)\n",
    "\n",
    "### size of the random vector\n",
    "### basically, number of replicate experiments\n",
    "size = 100\n",
    "\n",
    "df_data = pd.DataFrame()\n",
    "\n",
    "n_success  = 100 # number of counted colonies with mutant genotype that we require to count\n",
    "\n",
    "for xtrue, n_sampled in zip([x_start,x_final],[n_success/x_start, n_success/x_final]):\n",
    "\n",
    "    dist = rs.binomial(n=n_sampled,p=xtrue,size = size)/n_sampled\n",
    "\n",
    "    ## sample raw frequencies\n",
    "    df_raw = pd.DataFrame(data=np.vstack([xtrue*np.ones_like(dist),dist]).T, columns = ['true frequency', 'value'])\n",
    "    \n",
    "    df_raw['type'] = 'no encoding'\n",
    "    df_data = df_data.append(df_raw)\n",
    "\n",
    "\n",
    "    \n",
    "    "
   ]
  },
  {
   "cell_type": "code",
   "execution_count": null,
   "metadata": {},
   "outputs": [],
   "source": [
    "### convert\n",
    "\n",
    "df_data['logit'] = logit(df_data['value'].values)\n",
    "df_data['log'] = np.log(df_data['value'].values)"
   ]
  },
  {
   "cell_type": "code",
   "execution_count": null,
   "metadata": {},
   "outputs": [],
   "source": [
    "### plot \n",
    "\n",
    "fig, axes = plt.subplots(2,1, figsize = (FIGWIDTH_TRIPLET, FIGHEIGHT_TRIPLET), sharex=True, sharey = True)\n",
    "\n",
    "\n",
    "ax = axes[0]\n",
    "\n",
    "sns.residplot(x = 'true frequency', y = 'log', data = df_data, ax = ax)\n",
    "ax.set_xlabel(\"\")\n",
    "\n",
    "ax = axes[1]\n",
    "\n",
    "#sns.regplot(x = 'true frequency', y = 'logit', data = df_data, ax = ax)\n",
    "sns.residplot(x = 'true frequency', y = 'logit', data = df_data)"
   ]
  },
  {
   "cell_type": "markdown",
   "metadata": {},
   "source": [
    "### plot a binomial distribution"
   ]
  },
  {
   "cell_type": "code",
   "execution_count": null,
   "metadata": {},
   "outputs": [],
   "source": [
    "\n"
   ]
  },
  {
   "cell_type": "code",
   "execution_count": null,
   "metadata": {},
   "outputs": [],
   "source": [
    "### create a sample of initial frequencies\n",
    "rs = np.random.RandomState(15031998)\n",
    "\n",
    "\n",
    "\n",
    "### size of the random vector\n",
    "### basically, number of replicate experiments\n",
    "size = 100000\n",
    "\n",
    "df_data = pd.DataFrame()\n",
    "\n",
    "n_sampled = 1000 #/xtrue #number of balls drawn from the urn at each replicate experiment\n",
    "n_success  = 100\n",
    "\n",
    "for xtrue, n_sampled in zip([0.99, 0.5, 0.01],[n_success/0.01, n_success/0.5, n_success/0.01]):\n",
    "\n",
    "    \n",
    "\n",
    "    dist = rs.binomial(n=n_sampled,p=xtrue,size = size)/n_sampled\n",
    "\n",
    "    ## sample raw frequencies\n",
    "    df_raw = pd.DataFrame(data=np.vstack([xtrue*np.ones_like(dist),dist]).T, columns = ['true frequency', 'value'])\n",
    "    \n",
    "    \n",
    "    mean,std = df_raw['value'].mean(), df_raw['value'].std()\n",
    "    df_raw['rescaled'] = (df_raw['value'] - mean)/std\n",
    "    df_raw['residual'] = df_raw['value'] - mean\n",
    "    df_raw['type'] = 'no encoding'\n",
    "    df_data = df_data.append(df_raw)\n",
    "    \n",
    "    ### evaluate under logit transform \n",
    "    df_logit = df_raw.copy(deep=True) \n",
    "    df_logit['value'] = np.array([logit(v) for v in df_raw['value']])\n",
    "    df_logit['type'] = 'encoded with logit'\n",
    "    # Replacing infinite with nan\n",
    "    df_logit = df_logit.replace([np.inf, -np.inf], np.nan)\n",
    "    mean,std = df_logit['value'].mean(), df_logit['value'].std()\n",
    "    df_logit['rescaled'] = (df_logit['value'] - mean)/std\n",
    "    df_logit['residual'] = df_logit['value'] - mean\n",
    "    df_data = df_data.append(df_logit)\n",
    "    \n",
    "    ## evaluate under log transform \n",
    "    df_log = df_raw.copy(deep=True) \n",
    "    df_log['value'] = np.array([np.log(v) for v in df_raw['value']])\n",
    "    df_log['type'] = 'encoded with log'\n",
    "    df_log = df_log.replace([np.inf, -np.inf], np.nan)\n",
    "    mean,std = df_log['value'].mean(), df_log['value'].std()\n",
    "    df_log['rescaled'] = (df_log['value'] - mean)/std\n",
    "    df_log['residual'] = df_log['value'] - mean\n",
    "    df_data = df_data.append(df_log)\n",
    "\n",
    "\n",
    "    \n",
    "    "
   ]
  },
  {
   "cell_type": "code",
   "execution_count": null,
   "metadata": {},
   "outputs": [],
   "source": [
    "\n",
    "\n",
    "# Replacing infinite with nan\n",
    "df_data = df_data.replace([np.inf, -np.inf], np.nan)"
   ]
  },
  {
   "cell_type": "code",
   "execution_count": null,
   "metadata": {},
   "outputs": [],
   "source": [
    "sum(df_data['value'].isna())"
   ]
  },
  {
   "cell_type": "code",
   "execution_count": null,
   "metadata": {},
   "outputs": [],
   "source": [
    "palette = sns.color_palette(\"Set2\")"
   ]
  },
  {
   "cell_type": "code",
   "execution_count": null,
   "metadata": {},
   "outputs": [],
   "source": [
    "## sort\n",
    "df_data = df_data.sort_values(['type', 'true frequency'], ascending = False)"
   ]
  },
  {
   "cell_type": "code",
   "execution_count": null,
   "metadata": {},
   "outputs": [],
   "source": [
    "fig, axes = plt.subplots(1, 3, figsize = (1.7*FIGHEIGHT_TRIPLET,FIGHEIGHT_TRIPLET), sharey = True)\n",
    "\n",
    "ax = axes[0]\n",
    "label = 'no encoding'\n",
    "data_to_plot =df_data[df_data['type']== label]\n",
    "sns.violinplot(x='residual',y = 'true frequency', data=data_to_plot, ax =ax,orient = 'h',\n",
    "              label=label,  color = palette[0], scale = 'count', rasterized = True, \n",
    "               inner = None, cut = 0)\n",
    "ax.set_xlabel(label)\n",
    "sns.despine(ax=ax)\n",
    "\n",
    "\n",
    "ax = axes[1]\n",
    "label = 'encoded with logit'\n",
    "data_to_plot =df_data[df_data['type']== label]\n",
    "sns.violinplot(x='residual',y = 'true frequency', data=data_to_plot, ax =ax,orient = 'h',\n",
    "              label=label,  color = palette[1], scale = 'count', rasterized = True, \n",
    "               inner = None, cut = 0)\n",
    "ax.set_xlabel(label)\n",
    "ax.set_ylabel(\"\")\n",
    "sns.despine(ax=ax, left = True)\n",
    "ax.tick_params(left=False)\n",
    "\n",
    "ax = axes[2]\n",
    "label = 'encoded with log'\n",
    "data_to_plot =df_data[df_data['type']== label]\n",
    "sns.violinplot(x='residual',y = 'true frequency', data=data_to_plot, ax =ax,orient = 'h',\n",
    "              label=label,  color = palette[2], scale = 'count', rasterized = True,\n",
    "              inner = None, cut = 0)\n",
    "\n",
    "sns.despine(ax=ax, left = True)\n",
    "ax.tick_params(left=False)\n",
    "ax.set_ylabel(\"\")\n",
    "ax.set_xlabel(label)\n",
    "for ax in axes: \n",
    "    ### symmetrize\n",
    "    xmin,xmax = ax.get_xlim()\n",
    "    max_abs = np.abs([xmin,xmax]).max()\n",
    "    ax.set_xlim(-max_abs,max_abs)\n",
    "\n",
    "\n",
    "\n",
    "\n",
    "\n",
    "fig.savefig(FIG_DIR + f'example_distributions_after_encoding.pdf', DPI = DPI, bbox_inches = 'tight', pad_inches = PAD_INCHES)\n",
    "              "
   ]
  },
  {
   "cell_type": "code",
   "execution_count": null,
   "metadata": {},
   "outputs": [],
   "source": [
    "print(\"Standard deviations\")\n",
    "for label in ['no encoding', 'encoded with logit', 'encoded with log']:\n",
    "    print(label)\n",
    "    df_bytype =df_data[df_data['type']== label]\n",
    "    for xtrue in [0.99, 0.5, 0.01]:\n",
    "        data = df_bytype[df_bytype['true frequency'] == xtrue]\n",
    "        print(data['value'].std())"
   ]
  },
  {
   "cell_type": "markdown",
   "metadata": {},
   "source": [
    "### plot phase diagram without sample"
   ]
  },
  {
   "cell_type": "code",
   "execution_count": null,
   "metadata": {},
   "outputs": [],
   "source": [
    "fig, ax = plt.subplots(figsize = (FIGHEIGHT_TRIPLET,FIGHEIGHT_TRIPLET))\n",
    "\n",
    "levels = np.outer([-1,1],np.linspace(0.001,1,num = 6)).flatten()\n",
    "x0_vec = np.linspace(0.0001,0.9999, num = 100)\n",
    "color_s = 'tab:grey'\n",
    "color_deltalog = 'navy'\n",
    "\n",
    "for level in levels: \n",
    "    ### plot deltalog isoclines\n",
    "    y = get_isocline_deltalog(x0 = x0_vec, level = level)\n",
    "    ax.plot(x0_vec, y, color = color_deltalog)\n",
    "    \n",
    "    \n",
    "    ## plot s isoclines\n",
    "    y = get_isocline_s(x0 = x0_vec, level = level)\n",
    "    ax.plot(x0_vec, y, color = color_s)\n",
    "    \n",
    "## plot diagonal \n",
    "ax.plot([0,1],[0,1], color = 'red', ls = '--', label = 'y=x')\n",
    "\n",
    "## add  legend items\n",
    "ax.plot([],[], color = color_deltalog, label = '$\\Delta \\log$ isocline')\n",
    "ax.plot([],[], color = color_s, label = '$s$ isocline')\n",
    "\n",
    "\n",
    "ax.set_xlim(0,1)\n",
    "ax.set_ylim(0,1)\n",
    "ax.legend()\n",
    "\n",
    "ax.set_xlabel('initial mutant frequency $x_0$')\n",
    "ax.set_ylabel('final mutant frequency $x_f$')\n",
    "\n",
    "fig.savefig(FIG_DIR + f'isoclines_s_vs_deltalog.pdf', DPI = DPI, bbox_inches = 'tight', pad_inches = PAD_INCHES)\n",
    "              "
   ]
  },
  {
   "cell_type": "markdown",
   "metadata": {},
   "source": [
    "### Sample a bivariate set of frequencies"
   ]
  },
  {
   "cell_type": "code",
   "execution_count": null,
   "metadata": {},
   "outputs": [],
   "source": [
    "from selection_coefficient import Problem_M3, get_ODE_solution, plot_solution"
   ]
  },
  {
   "cell_type": "code",
   "execution_count": null,
   "metadata": {},
   "outputs": [],
   "source": [
    "### define solver params\n",
    "SOLVER_PARAMS = {'t_final' : 100, 'timestep' : 10, 'adaptive_timewindow' : True, 'rtol' : 1e-8, 'atol' : 1e-12, 'scoeff_atol':1e-8, 'scoeff_rtol':1e-6}"
   ]
  },
  {
   "cell_type": "code",
   "execution_count": null,
   "metadata": {},
   "outputs": [],
   "source": [
    "strain_params = {'lam': [2,1], 'g': [1,1], 'Y':[1,1]}\n",
    "initial_conditions = {'N_0': 0.01, 'R_0': 1}\n",
    "\n",
    "problem_default = Problem_M3(**strain_params,**initial_conditions, x = 0.5)\n",
    "sol = get_ODE_solution(problem_default, **SOLVER_PARAMS)\n",
    "\n",
    "fig, ax = plt.subplots()\n",
    "plot_solution(sol, ax = ax)\n",
    "\n",
    "\n",
    "fig.savefig(FIG_DIR + f'growthycle_default_for_fixed_lag_time_effect.pdf', DPI = DPI, bbox_inches = 'tight', pad_inches = PAD_INCHES)"
   ]
  },
  {
   "cell_type": "code",
   "execution_count": null,
   "metadata": {},
   "outputs": [],
   "source": [
    "def sol2frequencies(sol):\n",
    "    params = sol.params\n",
    "    x_0 = params['x']\n",
    "    \n",
    "    Nw_f,Nm_f = sol.y[:2,-1]\n",
    "    x_f = (Nm_f)/(Nm_f + Nw_f)\n",
    "    return x_f, x_0\n",
    "\n",
    "## test\n",
    "sol2frequencies(sol)"
   ]
  },
  {
   "cell_type": "code",
   "execution_count": null,
   "metadata": {},
   "outputs": [],
   "source": [
    "np.random.seed(29071997)\n",
    "\n",
    "### sample set of  initial frequency\n",
    "x0_sample = np.random.normal(0.5, 0.1, size = 100)"
   ]
  },
  {
   "cell_type": "code",
   "execution_count": null,
   "metadata": {},
   "outputs": [],
   "source": [
    "### calculate solutions\n",
    "\n",
    "list_problems = [Problem_M3(**strain_params,**initial_conditions, x =v ) for v in x0_sample]\n",
    "list_sols = [get_ODE_solution(v, **SOLVER_PARAMS) for v in list_problems]\n",
    "xf_vec = np.array([sol2frequencies(v)[0] for v in list_sols])\n",
    "scoeff_logit_vec = np.array([eval_statistic_s(*sol2frequencies(v)) for v in list_sols])\n",
    "scoeff_deltalog_vec = np.array([eval_statistic_deltalog(*sol2frequencies(v)) for v in list_sols])"
   ]
  },
  {
   "cell_type": "code",
   "execution_count": null,
   "metadata": {},
   "outputs": [],
   "source": [
    "fig, ax = plt.subplots(figsize = (FIGHEIGHT_TRIPLET,FIGHEIGHT_TRIPLET))\n",
    "\n",
    "levels = np.outer([-1,1],np.linspace(0.001,1,num = 6)).flatten()\n",
    "x0_vec = np.linspace(0.0001,0.9999, num = 100)\n",
    "color_s = 'tab:grey'\n",
    "color_deltalog = 'navy'\n",
    "\n",
    "for level in levels: \n",
    "    ### plot deltalog isoclines\n",
    "    y = get_isocline_deltalog(x0 = x0_vec, level = level)\n",
    "    ax.plot(x0_vec, y, color = color_deltalog)\n",
    "    \n",
    "    \n",
    "    ## plot s isoclines\n",
    "    y = get_isocline_s(x0 = x0_vec, level = level)\n",
    "    ax.plot(x0_vec, y, color = color_s)\n",
    "    \n",
    "## plot diagonal \n",
    "ax.plot([0,1],[0,1], color = 'red', ls = '--', label = 'y=x')\n",
    "\n",
    "## add  legend items\n",
    "ax.plot([],[], color = color_deltalog, label = '$\\Delta \\log$ isocline')\n",
    "ax.plot([],[], color = color_s, label = '$s$ isocline')\n",
    "\n",
    "### plot cloud of points\n",
    "\n",
    "ax.scatter(x0_sample,xf_vec, color = 'tab:orange', marker = 'o', s = 20)\n",
    "\n",
    "ax.set_xlim(0,1)\n",
    "ax.set_ylim(0,1)\n",
    "ax.legend()\n",
    "\n",
    "ax.set_xlabel('initial mutant frequency $x_0$')\n",
    "ax.set_ylabel('final mutant frequency $x_f$')\n",
    "\n",
    "fig.savefig(FIG_DIR + f'isoclines_s_vs_deltalog_with_fixed_lag_time_effect.pdf', DPI = DPI, bbox_inches = 'tight', pad_inches = PAD_INCHES)\n",
    "              "
   ]
  },
  {
   "cell_type": "code",
   "execution_count": null,
   "metadata": {},
   "outputs": [],
   "source": [
    "fig, ax = plt.subplots()\n",
    "\n",
    "\n",
    "ax.scatter(x0_sample, scoeff_logit_vec, label = 'logit encoding')\n",
    "ax.scatter(x0_sample, scoeff_deltalog_vec, label = 'log encoding')\n",
    "ax.legend()\n",
    "\n",
    "ax.set_xlabel('initial mutant frequency')\n",
    "ax.set_ylabel('relative fitness')\n",
    "\n",
    "fig.savefig(FIG_DIR + f'relative_fitness_vs_initial_frequency_for_fixed_lag_time_effect.pdf', DPI = DPI, bbox_inches = 'tight', pad_inches = PAD_INCHES)"
   ]
  },
  {
   "cell_type": "markdown",
   "metadata": {},
   "source": [
    "### Sample a bivariate set of frequencies"
   ]
  },
  {
   "cell_type": "code",
   "execution_count": null,
   "metadata": {},
   "outputs": [],
   "source": [
    "\n",
    "np.random.seed(29071997)"
   ]
  },
  {
   "cell_type": "code",
   "execution_count": null,
   "metadata": {},
   "outputs": [],
   "source": [
    "# choose a schwerpunk in the space\n",
    "mean = (0.5,0.7) #x0,xf\n",
    "\n",
    "# sample a set of initial and final frequencies around it\n",
    "x0_sample, xf_sample= np.random.multivariate_normal(mean, cov=0.001*np.eye(2),size=100).T\n"
   ]
  },
  {
   "cell_type": "code",
   "execution_count": null,
   "metadata": {},
   "outputs": [],
   "source": [
    "fig, ax = plt.subplots(figsize = (FIGHEIGHT_TRIPLET,FIGHEIGHT_TRIPLET))\n",
    "\n",
    "levels = np.outer([-1,1],np.linspace(0.001,1,num = 6)).flatten()\n",
    "x0_vec = np.linspace(0.0001,0.9999, num = 100)\n",
    "color_s = 'tab:grey'\n",
    "color_deltalog = 'navy'\n",
    "\n",
    "for level in levels: \n",
    "    ### plot deltalog isoclines\n",
    "    y = get_isocline_deltalog(x0 = x0_vec, level = level)\n",
    "    ax.plot(x0_vec, y, color = color_deltalog)\n",
    "    \n",
    "    \n",
    "    ## plot s isoclines\n",
    "    y = get_isocline_s(x0 = x0_vec, level = level)\n",
    "    ax.plot(x0_vec, y, color = color_s)\n",
    "    \n",
    "## plot diagonal \n",
    "ax.plot([0,1],[0,1], color = 'red', ls = '--', label = 'y=x')\n",
    "\n",
    "## add  legend items\n",
    "ax.plot([],[], color = color_deltalog, label = '$\\Delta \\log$ isocline')\n",
    "ax.plot([],[], color = color_s, label = '$s$ isocline')\n",
    "\n",
    "### plot cloud of points\n",
    "\n",
    "ax.scatter(x0_sample,xf_sample, color = 'tab:orange', marker = 'o', s = 5)\n",
    "\n",
    "ax.set_xlim(0,1)\n",
    "ax.set_ylim(0,1)\n",
    "ax.legend()\n",
    "\n",
    "ax.set_xlabel('initial mutant frequency $x_0$')\n",
    "ax.set_ylabel('final mutant frequency $x_f$')\n",
    "\n",
    "fig.savefig(FIG_DIR + f'isoclines_s_vs_deltalog_with_sample.pdf', DPI = DPI, bbox_inches = 'tight', pad_inches = PAD_INCHES)\n",
    "              "
   ]
  },
  {
   "cell_type": "code",
   "execution_count": null,
   "metadata": {},
   "outputs": [],
   "source": [
    "## create data frame\n",
    "df_sample = pd.DataFrame(data = np.vstack([x0_sample,xf_sample]).T, columns=['x0', 'xf'])\n",
    "\n",
    "### evaluate fitness statistics\n",
    "df_sample['s'] = df_sample.apply(lambda row: eval_statistic_s(x0=row['x0'],xf=row['xf']), axis = 1)\n",
    "df_sample['deltalog'] = df_sample.apply(lambda row: eval_statistic_deltalog(x0=row['x0'],xf=row['xf']), axis = 1)\n"
   ]
  },
  {
   "cell_type": "code",
   "execution_count": null,
   "metadata": {},
   "outputs": [],
   "source": [
    "## create ranks\n",
    "\n",
    "# creating a rank column and passing the returned rank series\n",
    "df_sample[\"s_rank\"] = df_sample[\"s\"].rank(ascending = True)\n",
    "df_sample[\"deltalog_rank\"] = df_sample[\"deltalog\"].rank(ascending = True)"
   ]
  },
  {
   "cell_type": "code",
   "execution_count": null,
   "metadata": {},
   "outputs": [],
   "source": [
    "df_sample.sort_values('s_rank').tail(2)"
   ]
  },
  {
   "cell_type": "code",
   "execution_count": null,
   "metadata": {},
   "outputs": [],
   "source": []
  },
  {
   "cell_type": "code",
   "execution_count": null,
   "metadata": {},
   "outputs": [],
   "source": [
    "# plot correlation in rho\n",
    "\n",
    "fig, ax = plt.subplots(figsize = (FIGHEIGHT_TRIPLET,FIGHEIGHT_TRIPLET))\n",
    "\n",
    "x = df_sample['s_rank']\n",
    "y = df_sample['deltalog_rank']\n",
    "ax.scatter(x,y, color = 'tab:orange')\n",
    "\n",
    "ax.axhline(x.shape[0]*0.8, ls = '--')\n",
    "ax.axvline(x.shape[0]*0.8, ls = '--')\n",
    "r, pval = stats.pearsonr(x,y)\n",
    "rho, pval = stats.spearmanr(x,y)\n",
    "\n",
    "title = fr'Pearson $r={r:.2f}$, Spearman $\\rho={rho:.2f}$'\n",
    "ax.set_title(title, loc = 'right')\n",
    "\n",
    "ax.set_xlabel(\"rank in terms of\\nselection coefficient $s$\")\n",
    "ax.set_ylabel(\"rank in terms of\\nalternative statistic $\\Delta \\log$\")\n",
    "\n",
    "fig.savefig(FIG_DIR + f'correlation_s_vs_deltalog_with_sample.pdf', DPI = DPI, bbox_inches = 'tight', pad_inches = PAD_INCHES)"
   ]
  },
  {
   "cell_type": "markdown",
   "metadata": {},
   "source": [
    "### Sample a univariate set of frequencies"
   ]
  },
  {
   "cell_type": "code",
   "execution_count": null,
   "metadata": {},
   "outputs": [],
   "source": [
    "np.random.seed(29071997)"
   ]
  },
  {
   "cell_type": "code",
   "execution_count": null,
   "metadata": {},
   "outputs": [],
   "source": [
    "# choose a schwerpunk in the space\n",
    "mean = (0.5,0.7) #x0,xf\n",
    "\n",
    "# sample a set of initial and final frequencies around it\n",
    "x0_sample, xf_sample= np.random.multivariate_normal(mean, cov=0.001*np.array([[0,0],[0,1]]),size=100).T\n"
   ]
  },
  {
   "cell_type": "code",
   "execution_count": null,
   "metadata": {},
   "outputs": [],
   "source": [
    "fig, ax = plt.subplots(figsize = (FIGHEIGHT_TRIPLET,FIGHEIGHT_TRIPLET))\n",
    "\n",
    "levels = np.outer([-1,1],np.linspace(0.001,1,num = 6)).flatten()\n",
    "x0_vec = np.linspace(0.0001,0.9999, num = 100)\n",
    "color_s = 'tab:grey'\n",
    "color_deltalog = 'navy'\n",
    "\n",
    "for level in levels: \n",
    "    ### plot deltalog isoclines\n",
    "    y = get_isocline_deltalog(x0 = x0_vec, level = level)\n",
    "    ax.plot(x0_vec, y, color = color_deltalog)\n",
    "    \n",
    "    \n",
    "    ## plot s isoclines\n",
    "    y = get_isocline_s(x0 = x0_vec, level = level)\n",
    "    ax.plot(x0_vec, y, color = color_s)\n",
    "    \n",
    "## plot diagonal \n",
    "ax.plot([0,1],[0,1], color = 'red', ls = '--', label = 'y=x')\n",
    "\n",
    "## add  legend items\n",
    "ax.plot([],[], color = color_deltalog, label = '$\\Delta \\log$ isocline')\n",
    "ax.plot([],[], color = color_s, label = '$s$ isocline')\n",
    "\n",
    "### plot cloud of points\n",
    "\n",
    "ax.scatter(x0_sample,xf_sample, color = 'tab:orange', marker = 'o', s = 5)\n",
    "\n",
    "ax.set_xlim(0,1)\n",
    "ax.set_ylim(0,1)\n",
    "ax.legend()\n",
    "\n",
    "ax.set_xlabel('initial mutant frequency $x_0$')\n",
    "ax.set_ylabel('final mutant frequency $x_f$')\n",
    "\n",
    "fig.savefig(FIG_DIR + f'isoclines_s_vs_deltalog_with_sample_univariate.pdf', DPI = DPI, bbox_inches = 'tight', pad_inches = PAD_INCHES)\n",
    "              "
   ]
  },
  {
   "cell_type": "code",
   "execution_count": null,
   "metadata": {},
   "outputs": [],
   "source": [
    "## create data frame\n",
    "df_sample = pd.DataFrame(data = np.vstack([x0_sample,xf_sample]).T, columns=['x0', 'xf'])\n",
    "\n",
    "### evaluate fitness statistics\n",
    "df_sample['s'] = df_sample.apply(lambda row: eval_statistic_s(x0=row['x0'],xf=row['xf']), axis = 1)\n",
    "df_sample['deltalog'] = df_sample.apply(lambda row: eval_statistic_deltalog(x0=row['x0'],xf=row['xf']), axis = 1)\n"
   ]
  },
  {
   "cell_type": "code",
   "execution_count": null,
   "metadata": {},
   "outputs": [],
   "source": [
    "## create ranks\n",
    "\n",
    "# creating a rank column and passing the returned rank series\n",
    "df_sample[\"s_rank\"] = df_sample[\"s\"].rank(ascending = True)\n",
    "df_sample[\"deltalog_rank\"] = df_sample[\"deltalog\"].rank(ascending = True)"
   ]
  },
  {
   "cell_type": "code",
   "execution_count": null,
   "metadata": {},
   "outputs": [],
   "source": [
    "df_sample.sort_values('s_rank').tail(2)"
   ]
  },
  {
   "cell_type": "code",
   "execution_count": null,
   "metadata": {},
   "outputs": [],
   "source": [
    "# plot correlation in rho\n",
    "\n",
    "fig, ax = plt.subplots(figsize = (FIGHEIGHT_TRIPLET,FIGHEIGHT_TRIPLET))\n",
    "\n",
    "x = df_sample['s_rank']\n",
    "y = df_sample['deltalog_rank']\n",
    "ax.scatter(x,y, color = 'tab:orange')\n",
    "\n",
    "ax.axhline(x.shape[0]*0.8, ls = '--')\n",
    "ax.axvline(x.shape[0]*0.8, ls = '--')\n",
    "r, pval = stats.pearsonr(x,y)\n",
    "rho, pval = stats.spearmanr(x,y)\n",
    "\n",
    "title = fr'Pearson $r={r:.2f}$, Spearman $\\rho={rho:.2f}$'\n",
    "ax.set_title(title, loc = 'right')\n",
    "\n",
    "ax.set_xlabel(\"rank in terms of\\nselection coefficient $s$\")\n",
    "ax.set_ylabel(\"rank in terms of\\nalternative statistic $\\Delta \\log$\")\n",
    "\n",
    "fig.savefig(FIG_DIR + f'correlation_s_vs_deltalog_with_sample_univariate.pdf', DPI = DPI, bbox_inches = 'tight', pad_inches = PAD_INCHES)"
   ]
  },
  {
   "cell_type": "code",
   "execution_count": null,
   "metadata": {},
   "outputs": [],
   "source": []
  }
 ],
 "metadata": {
  "kernelspec": {
   "display_name": "Python 3",
   "language": "python",
   "name": "python3"
  },
  "language_info": {
   "codemirror_mode": {
    "name": "ipython",
    "version": 3
   },
   "file_extension": ".py",
   "mimetype": "text/x-python",
   "name": "python",
   "nbconvert_exporter": "python",
   "pygments_lexer": "ipython3",
   "version": "3.7.7"
  }
 },
 "nbformat": 4,
 "nbformat_minor": 4
}
