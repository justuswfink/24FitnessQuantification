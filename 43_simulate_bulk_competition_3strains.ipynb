{
 "cells": [
  {
   "cell_type": "markdown",
   "metadata": {},
   "source": [
    "### Simulate bulk competition experiments using 3 model strains"
   ]
  },
  {
   "cell_type": "code",
   "execution_count": null,
   "metadata": {},
   "outputs": [],
   "source": [
    "import numpy as np\n",
    "import matplotlib.pyplot as plt\n",
    "import pandas as pd"
   ]
  },
  {
   "cell_type": "code",
   "execution_count": null,
   "metadata": {},
   "outputs": [],
   "source": [
    "### Update dependent parameters according to input\n",
    "import os\n",
    "import os.path\n",
    "from os import path\n",
    "\n",
    "## create export directory if necessary\n",
    "## foldernames for output plots/lists produced in this notebook\n",
    "import os\n",
    "FIG_DIR = f'./figures/bulk_fitness/'\n",
    "os.makedirs(FIG_DIR, exist_ok=True)\n",
    "print(\"All  plots will be stored in: \\n\" + FIG_DIR)"
   ]
  },
  {
   "cell_type": "code",
   "execution_count": null,
   "metadata": {},
   "outputs": [],
   "source": [
    "\n",
    "\n",
    "### execute script to load modules here\n",
    "exec(open('setup_aesthetics.py').read())"
   ]
  },
  {
   "cell_type": "code",
   "execution_count": null,
   "metadata": {},
   "outputs": [],
   "source": [
    "DATASET_COLOR = 'darkorange'\n"
   ]
  },
  {
   "cell_type": "code",
   "execution_count": null,
   "metadata": {},
   "outputs": [],
   "source": [
    "SUFFIX_DATASET = '3strains/'\n",
    "\n",
    "FIG_DIR_DATASET = FIG_DIR + SUFFIX_DATASET\n",
    "os.makedirs(FIG_DIR_DATASET, exist_ok=True)\n",
    "\n",
    "OUTPUT_DIR_DATASET = './output/' + SUFFIX_DATASET\n",
    "os.makedirs(OUTPUT_DIR_DATASET, exist_ok=True)"
   ]
  },
  {
   "cell_type": "markdown",
   "metadata": {},
   "source": [
    "### Define trait data"
   ]
  },
  {
   "cell_type": "code",
   "execution_count": null,
   "metadata": {},
   "outputs": [],
   "source": [
    "### set growth rates\n",
    "g1 = 1.  # wildtype (population 1)\n",
    "g3 = 0.9 # background mutant (population 3)\n",
    "\n",
    "## set lag times\n",
    "l1,l3 = 3., 3.\n",
    "## set biomass yields\n",
    "Y1,Y3 = 1., 1. \n",
    "\n",
    "## generate vector of focal strains\n",
    "np.random.seed(17961985)\n",
    "g2_sample = np.random.normal(loc = 0.9,scale = 0.15, size = 200)\n",
    "l2_sample = np.ones_like(g2_sample)*l3\n",
    "Y2_sample = np.ones_like(g2_sample)*Y3"
   ]
  },
  {
   "cell_type": "markdown",
   "metadata": {},
   "source": [
    "### Define initial condition for bulk growth cycle"
   ]
  },
  {
   "cell_type": "code",
   "execution_count": null,
   "metadata": {},
   "outputs": [],
   "source": [
    "### set initial resource concentrations\n",
    "R0 = 1"
   ]
  },
  {
   "cell_type": "code",
   "execution_count": null,
   "metadata": {},
   "outputs": [],
   "source": [
    "### define default initial_OD\n",
    "OD_START = 0.01"
   ]
  },
  {
   "cell_type": "code",
   "execution_count": null,
   "metadata": {},
   "outputs": [],
   "source": [
    "from bulk_simulation_code import CalcRelativeYield"
   ]
  },
  {
   "cell_type": "code",
   "execution_count": null,
   "metadata": {},
   "outputs": [],
   "source": [
    "### calculcate effective yields\n",
    "nu1,nu3 = CalcRelativeYield(Ys = np.array([Y1,Y3]), R0 = R0, N0 = OD_START)\n",
    "nu2_sample = CalcRelativeYield(Ys = Y2_sample, R0 = R0, N0 = OD_START)"
   ]
  },
  {
   "cell_type": "markdown",
   "metadata": {},
   "source": [
    "### Simulate pairwise competition growth cycles (scenario A)"
   ]
  },
  {
   "cell_type": "markdown",
   "metadata": {},
   "source": [
    "The frequencies for scenario A can be summarized as \n",
    "\n",
    "    frequency of the focal mutant strain: x2 = 1/N\n",
    "        frequency of the wildtype strain: x1 = 1 - x2\n",
    "\n",
    "where $N$ is some population size (number of cells or biomass?). Intutively, a spontanteous mutation initially forms only a small fraction $x0 = 1/N$ in the population. The values of the population size in nature are largely unknown, but can be approximated in two ways. \n",
    "\n",
    "- by the effective population size $N_e$, which is inferred from the genomic variation across a set of natural isolates, and leads to estimates of $N\\approx 10^8$ cells [see papers by Howard Ochman]\n",
    "- by the bottleneck size $N$ in laboratory evolution experiments like the LTEE, which leads to an estimate of $N=5\\cdot 10^6$ cells. According to the first paper on the LTEE, there are $5\\cdot10^5$ cells per ml at the starting point of the growth cycle, total volue is 10ml. \n",
    "\n"
   ]
  },
  {
   "cell_type": "code",
   "execution_count": null,
   "metadata": {},
   "outputs": [],
   "source": [
    "from bulk_simulation_code import run_pairwise_experiment,CalcTotalSelectionCoefficientLogit"
   ]
  },
  {
   "cell_type": "code",
   "execution_count": null,
   "metadata": {},
   "outputs": [],
   "source": [
    "N = 1e6"
   ]
  },
  {
   "cell_type": "code",
   "execution_count": null,
   "metadata": {},
   "outputs": [],
   "source": [
    "xs_pair, xs_pair_final = run_pairwise_experiment(gs=g2_sample,ls=l2_sample,nus = nu2_sample,\n",
    "                                                 g1=g1,l1=l1,nu1=nu1,x0 = 1/N)\n",
    "\n",
    "s2_pair = CalcTotalSelectionCoefficientLogit(xs_pair,xs_pair_final)"
   ]
  },
  {
   "cell_type": "markdown",
   "metadata": {},
   "source": [
    "### Plot distribution of fitness effects in the pairwise competition"
   ]
  },
  {
   "cell_type": "code",
   "execution_count": null,
   "metadata": {},
   "outputs": [],
   "source": [
    "fig, ax = plt.subplots()\n",
    "plt.hist(s2_pair, bins = 21)\n",
    "ax.set_xlabel('s_21 in pairwise competition')"
   ]
  },
  {
   "cell_type": "markdown",
   "metadata": {},
   "source": [
    "### Simulate bulk competition with background mutants added at invasion frequency (scenario B1)"
   ]
  },
  {
   "cell_type": "markdown",
   "metadata": {},
   "source": [
    "The frequencies for this scenario can be summarized as \n",
    "\n",
    "    frequency of the focal mutant strain: x2 = 1/N\n",
    "    frequency of the background mutants:  x3 = (k-1)/N\n",
    "    frequency of the wildtype strain:     x1 = 1 - x2 - x3\n",
    "\n",
    "where `k` is the number of knockouts strain in this bulk competition. All strains except the focal strain are grouped in a population of background mutant, that forms an initial fraction `x3` of the culture biomass. Here we assume that all knockouts are present at the same initial frequency as the focal strain."
   ]
  },
  {
   "cell_type": "code",
   "execution_count": null,
   "metadata": {},
   "outputs": [],
   "source": [
    "k = 1000"
   ]
  },
  {
   "cell_type": "code",
   "execution_count": null,
   "metadata": {},
   "outputs": [],
   "source": [
    "### set initial frequencies\n",
    "xtriplet = np.zeros(3)\n",
    "xtriplet[1] = 1/N                           # focal mutant (population 2)\n",
    "xtriplet[2] = (k-1)/N                       # background mutants (population 3)\n",
    "xtriplet[0] = 1 - xtriplet[1] - xtriplet[2] # wild-type (population 1)"
   ]
  },
  {
   "cell_type": "code",
   "execution_count": null,
   "metadata": {},
   "outputs": [],
   "source": [
    "print(xtriplet[0])"
   ]
  },
  {
   "cell_type": "code",
   "execution_count": null,
   "metadata": {},
   "outputs": [],
   "source": [
    "from bulk_simulation_code import run_bulk_experiment"
   ]
  },
  {
   "cell_type": "code",
   "execution_count": null,
   "metadata": {},
   "outputs": [],
   "source": [
    "### calculate final frequency of the focal mutant (population 2)\n",
    "x2s_final = np.zeros_like(g2_sample)      # total frequency in population\n",
    "x21s_final = np.zeros_like(g2_sample)      # relative frequency to wild-type (neutral population)\n",
    "\n",
    "for i in range(len(g2_sample)):\n",
    "    g2, l2, nu2 = g2_sample[i], l2_sample[i], nu2_sample[i]\n",
    "\n",
    "    ## compute final frequencies in triplet\n",
    "    _,xtriplet_final = run_bulk_experiment(gs = [g1,g2,g3], ls=[l1,l2,l3], nus=[nu1,nu2,nu3], xs =xtriplet)\n",
    "    x2s_final[i] = xtriplet_final[1]\n",
    "    x21s_final[i] = xtriplet_final[1]/(xtriplet_final[0] + xtriplet_final[1])\n",
    "    \n",
    "### store initial frequency of the focal mutant (population 2) in the same format\n",
    "x2s  = np.ones_like(g2_sample)*xtriplet[1] # total frequency in population\n",
    "x21s = np.ones_like(g2_sample)*xtriplet[1]/ (xtriplet[0] + xtriplet[1])"
   ]
  },
  {
   "cell_type": "code",
   "execution_count": null,
   "metadata": {},
   "outputs": [],
   "source": [
    "## compute total selection coefficient in bulk\n",
    "s2_bulk_B1 = CalcTotalSelectionCoefficientLogit(x2s,x2s_final)\n",
    "\n",
    "## compute pairwise selection coefficient in bulk\n",
    "s21_bulk_B1 = CalcTotalSelectionCoefficientLogit(x21s, x21s_final)\n",
    "\n",
    "    "
   ]
  },
  {
   "cell_type": "markdown",
   "metadata": {},
   "source": [
    "### Calculate error Type I: higher-order interactions in the selection coefficient"
   ]
  },
  {
   "cell_type": "code",
   "execution_count": null,
   "metadata": {},
   "outputs": [],
   "source": [
    "### compare in a plot\n",
    "\n",
    "fig, axes = plt.subplots(1,2, figsize = (2*FIGWIDTH_TRIPLET, FIGHEIGHT_TRIPLET), sharex = True)\n",
    "\n",
    "x = s2_pair\n",
    "y = s21_bulk_B1\n",
    "\n",
    "ax = axes[0] # correlation plot\n",
    "ax.scatter(x,y, rasterized = True)\n",
    "ax.set_ylabel('s_21 in bulk competition B1')\n",
    "ax = axes[1] # residual plot\n",
    "ax.scatter(x,y-x, rasterized = True) \n",
    "ymin,ymax = ax.get_ylim()\n",
    "yabs = np.max(np.abs([ymin,ymax]))\n",
    "ax.set_ylim(-yabs,yabs)\n",
    "ax.axhline(0, ls = '--', color = 'black')\n",
    "\n",
    "for ax in axes: ax.set_xlabel('s_21 in pairwise competition')\n",
    "    "
   ]
  },
  {
   "cell_type": "markdown",
   "metadata": {},
   "source": [
    "### Simulate bulk competition with background mutants and added wild-type lineage  (scenario B2)"
   ]
  },
  {
   "cell_type": "markdown",
   "metadata": {},
   "source": [
    "The frequencies for this scenario can be summarized as \n",
    "\n",
    "    frequency of the focal mutant strain: x2 = 1/(k+1)\n",
    "    frequency of the background mutants:  x3 = k-1/(k+1)\n",
    "    frequency of the wildtype strain:     x1 = 1/(k+1)\n",
    "\n",
    "where `k` is the number of knockouts strain. Here all lineages, the mutants and the wild-type, have the same initial frequency. This roughly resembles scenario 'B2', but with a barcoded wild-type spiked into the culture."
   ]
  },
  {
   "cell_type": "code",
   "execution_count": null,
   "metadata": {},
   "outputs": [],
   "source": [
    "### set initial frequencies\n",
    "xtriplet = np.zeros(3)\n",
    "xtriplet[1] = 1/(k+1)       # focal mutant (population 2)\n",
    "xtriplet[2] = (k-1)/(k+1)   # background mutants (population 3)\n",
    "xtriplet[0] = 1/(k+1)       # wild-type (population 1)"
   ]
  },
  {
   "cell_type": "code",
   "execution_count": null,
   "metadata": {},
   "outputs": [],
   "source": [
    "print(xtriplet[0])"
   ]
  },
  {
   "cell_type": "code",
   "execution_count": null,
   "metadata": {},
   "outputs": [],
   "source": [
    "### calculate final frequency of the focal mutant (population 2)\n",
    "x2s_final = np.zeros_like(g2_sample)      # total frequency in population\n",
    "x21s_final = np.zeros_like(g2_sample)      # relative frequency to wild-type (neutral population)\n",
    "\n",
    "for i in range(len(g2_sample)):\n",
    "    g2, l2, nu2 = g2_sample[i], l2_sample[i], nu2_sample[i]\n",
    "\n",
    "    ## compute final frequencies in triplet\n",
    "    _,xtriplet_final = run_bulk_experiment(gs = [g1,g2,g3], ls=[l1,l2,l3], nus=[nu1,nu2,nu3], xs =xtriplet)\n",
    "    x2s_final[i] = xtriplet_final[1]\n",
    "    x21s_final[i] = xtriplet_final[1]/(xtriplet_final[0] + xtriplet_final[1])\n",
    "    \n",
    "### store initial frequency of the focal mutant (population 2) in the same format\n",
    "x2s  = np.ones_like(g2_sample)*xtriplet[1] # total frequency in population\n",
    "x21s = np.ones_like(g2_sample)*xtriplet[1]/ (xtriplet[0] + xtriplet[1])"
   ]
  },
  {
   "cell_type": "code",
   "execution_count": null,
   "metadata": {},
   "outputs": [],
   "source": [
    "## compute total selection coefficient in bulk\n",
    "s2_bulk_B2 = CalcTotalSelectionCoefficientLogit(x2s,x2s_final)\n",
    "\n",
    "## compute pairwise selection coefficient in bulk\n",
    "s21_bulk_B2 = CalcTotalSelectionCoefficientLogit(x21s, x21s_final)\n",
    "\n",
    "    "
   ]
  },
  {
   "cell_type": "markdown",
   "metadata": {},
   "source": [
    "#### Calculate error Type II: frequency-dependence in the selection coefficient"
   ]
  },
  {
   "cell_type": "code",
   "execution_count": null,
   "metadata": {},
   "outputs": [],
   "source": [
    "### compare in a plot\n",
    "\n",
    "fig, axes = plt.subplots(1,2, figsize = (2*FIGWIDTH_TRIPLET, FIGHEIGHT_TRIPLET), sharex = True)\n",
    "\n",
    "x = s2_bulk_B1\n",
    "y = s21_bulk_B2\n",
    "\n",
    "ax = axes[0] # correlation plot\n",
    "ax.scatter(x,y, rasterized = True)\n",
    "ax.set_ylabel('s_21 in bulk competition B2')\n",
    "ax = axes[1] # residual plot\n",
    "ax.scatter(x,y-x, rasterized = True) \n",
    "ymin,ymax = ax.get_ylim()\n",
    "yabs = np.max(np.abs([ymin,ymax]))\n",
    "ax.set_ylim(-yabs,yabs)\n",
    "ax.axhline(0, ls = '--', color = 'black')\n",
    "\n",
    "for ax in axes: ax.set_xlabel('s_21 in bulk competition B1')\n",
    "    "
   ]
  },
  {
   "cell_type": "markdown",
   "metadata": {},
   "source": [
    "### Simulate bulk competition with background mutants at variable frequency x (scenario Bx)"
   ]
  },
  {
   "cell_type": "markdown",
   "metadata": {},
   "source": [
    "The frequencies for this scenario can be summarized as \n",
    "\n",
    "    frequency of the focal mutant strain: x2 = 1/k * x\n",
    "    frequency of the background mutants:  x3 = (k-1)/k  * x\n",
    "    frequency of the wildtype strain:     x1 = 1-x \n",
    "\n",
    "where `k` is the number of knockouts strain and `x` is the fraction of mutants in the total culture. The goal is to identify an optimal fraction $x^*$ that provides the best trade-off between a low noise in barcode counts (high `x` needed) and low error to the pairwise competition (low `x` needed). "
   ]
  },
  {
   "cell_type": "code",
   "execution_count": null,
   "metadata": {},
   "outputs": [],
   "source": [
    "x = 0.5"
   ]
  },
  {
   "cell_type": "code",
   "execution_count": null,
   "metadata": {},
   "outputs": [],
   "source": [
    "### set initial frequencies\n",
    "xtriplet = np.zeros(3)\n",
    "xtriplet[1] = x/(k)       # focal mutant (population 2)\n",
    "xtriplet[2] = x*(k-1)/k   # background mutants (population 3)\n",
    "xtriplet[0] = 1-x         # wild-type (population 1)\n",
    "\n",
    "print(xtriplet[0])"
   ]
  },
  {
   "cell_type": "code",
   "execution_count": null,
   "metadata": {},
   "outputs": [],
   "source": [
    "### calculate final frequency of the focal mutant (population 2)\n",
    "x2s_final = np.zeros_like(g2_sample)      # total frequency in population\n",
    "x21s_final = np.zeros_like(g2_sample)      # relative frequency to wild-type (neutral population)\n",
    "\n",
    "for i in range(len(g2_sample)):\n",
    "    g2, l2, nu2 = g2_sample[i], l2_sample[i], nu2_sample[i]\n",
    "\n",
    "    ## compute final frequencies in triplet\n",
    "    _,xtriplet_final = run_bulk_experiment(gs = [g1,g2,g3], ls=[l1,l2,l3], nus=[nu1,nu2,nu3], xs =xtriplet)\n",
    "    x2s_final[i] = xtriplet_final[1]\n",
    "    x21s_final[i] = xtriplet_final[1]/(xtriplet_final[0] + xtriplet_final[1])\n",
    "\n",
    "### store initial frequency of the focal mutant (population 2) in the same format\n",
    "x2s  = np.ones_like(g2_sample)*xtriplet[1] # total frequency in population\n",
    "x21s = np.ones_like(g2_sample)*xtriplet[1]/ (xtriplet[0] + xtriplet[1])\n",
    "\n",
    "## compute total selection coefficient in bulk\n",
    "s2_bulk_Bx = CalcTotalSelectionCoefficientLogit(x2s,x2s_final)\n",
    "\n",
    "## compute pairwise selection coefficient in bulk\n",
    "s21_bulk_Bx = CalcTotalSelectionCoefficientLogit(x21s, x21s_final)"
   ]
  },
  {
   "cell_type": "markdown",
   "metadata": {},
   "source": [
    "#### Calculate error for pairwise selection coefficient: Type I + Type II"
   ]
  },
  {
   "cell_type": "code",
   "execution_count": null,
   "metadata": {},
   "outputs": [],
   "source": [
    "### compare in a plot\n",
    "\n",
    "fig, axes = plt.subplots(1,2, figsize = (2*FIGWIDTH_TRIPLET, FIGHEIGHT_TRIPLET), sharex = True)\n",
    "\n",
    "x = s2_pair\n",
    "y = s21_bulk_Bx\n",
    "\n",
    "ax = axes[0] # correlation plot\n",
    "ax.scatter(x,y, rasterized = True)\n",
    "ax.set_ylabel('s_21 in bulk competition Bx')\n",
    "ax = axes[1] # residual plot\n",
    "ax.scatter(x,y-x, rasterized = True) \n",
    "ymin,ymax = ax.get_ylim()\n",
    "yabs = np.max(np.abs([ymin,ymax]))\n",
    "ax.set_ylim(-yabs,yabs)\n",
    "ax.axhline(0, ls = '--', color = 'black')\n",
    "\n",
    "for ax in axes: ax.set_xlabel('s_21 in pairwise competition')\n",
    "    "
   ]
  },
  {
   "cell_type": "markdown",
   "metadata": {},
   "source": [
    "#### Calculate error for bulk selection coefficient:  Type III"
   ]
  },
  {
   "cell_type": "code",
   "execution_count": null,
   "metadata": {},
   "outputs": [],
   "source": [
    "### compare in a plot\n",
    "\n",
    "fig, axes = plt.subplots(1,2, figsize = (2*FIGWIDTH_TRIPLET, FIGHEIGHT_TRIPLET), sharex = True)\n",
    "\n",
    "x = s21_bulk_Bx\n",
    "y = s2_bulk_Bx\n",
    "\n",
    "ax = axes[0] # correlation plot\n",
    "ax.scatter(x,y, rasterized = True)\n",
    "ax.set_ylabel('s_21 in bulk competition Bx')\n",
    "ax = axes[1] # residual plot\n",
    "ax.scatter(x,y-x, rasterized = True) \n",
    "ymin,ymax = ax.get_ylim()\n",
    "yabs = 1.1*np.max(np.abs([ymin,ymax]))\n",
    "ax.set_ylim(-yabs,yabs)\n",
    "ax.axhline(0, ls = '--', color = 'black')\n",
    "\n",
    "for ax in axes: ax.set_xlabel('s_2 in bulk competition Bx')\n",
    "    "
   ]
  },
  {
   "cell_type": "markdown",
   "metadata": {},
   "source": [
    "### Simulate bulk competition with background mutants only (scenario Bfull)"
   ]
  },
  {
   "cell_type": "markdown",
   "metadata": {},
   "source": [
    "The frequencies for this scenario can be summarized as \n",
    "\n",
    "    frequency of the focal mutant strain: x2 = 1/k\n",
    "    frequency of the background mutants:  x3 = k-1/k\n",
    "    frequency of the wildtype strain:     x1 = 0\n",
    "\n",
    "where `k` is the number of knockouts strain. Here the culture only consists of background mutants, and has no wild-type. "
   ]
  },
  {
   "cell_type": "code",
   "execution_count": null,
   "metadata": {},
   "outputs": [],
   "source": [
    "### set initial frequencies\n",
    "xtriplet = np.zeros(3)\n",
    "xtriplet[1] = 1/(k)       # focal mutant (population 2)\n",
    "xtriplet[2] = (k-1)/(k)   # background mutants (population 3)\n",
    "xtriplet[0] = 0           # wild-type (population 1)"
   ]
  },
  {
   "cell_type": "code",
   "execution_count": null,
   "metadata": {},
   "outputs": [],
   "source": [
    "print(xtriplet[0])"
   ]
  },
  {
   "cell_type": "code",
   "execution_count": null,
   "metadata": {},
   "outputs": [],
   "source": [
    "### calculate final frequency of the focal mutant (population 2)\n",
    "x2s_final = np.zeros_like(g2_sample)      # total frequency in population\n",
    "x21s_final = np.zeros_like(g2_sample)      # relative frequency to wild-type (neutral population)\n",
    "\n",
    "for i in range(len(g2_sample)):\n",
    "    g2, l2, nu2 = g2_sample[i], l2_sample[i], nu2_sample[i]\n",
    "\n",
    "    ## compute final frequencies in triplet\n",
    "    _,xtriplet_final = run_bulk_experiment(gs = [g1,g2,g3], ls=[l1,l2,l3], nus=[nu1,nu2,nu3], xs =xtriplet)\n",
    "    x2s_final[i] = xtriplet_final[1]\n",
    "    x21s_final[i] = xtriplet_final[1]/(xtriplet_final[0] + xtriplet_final[1])\n",
    "    \n",
    "### store initial frequency of the focal mutant (population 2) in the same format\n",
    "x2s  = np.ones_like(g2_sample)*xtriplet[1] # total frequency in population\n",
    "x21s = np.ones_like(g2_sample)*xtriplet[1]/ (xtriplet[0] + xtriplet[1])"
   ]
  },
  {
   "cell_type": "code",
   "execution_count": null,
   "metadata": {},
   "outputs": [],
   "source": [
    "## compute total selection coefficient in bulk\n",
    "s2_bulk_Bfull = CalcTotalSelectionCoefficientLogit(x2s,x2s_final)\n",
    "\n",
    "## compute pairwise selection coefficient in bulk\n",
    "s21_bulk_Bfull = CalcTotalSelectionCoefficientLogit(x21s, x21s_final) # this is not well-defined without wild-type\n",
    "\n",
    "    "
   ]
  },
  {
   "cell_type": "code",
   "execution_count": null,
   "metadata": {},
   "outputs": [],
   "source": [
    "s21_bulk_Bfull"
   ]
  },
  {
   "cell_type": "markdown",
   "metadata": {},
   "source": [
    "#### Calculate total error: Type I + Type II + Type III"
   ]
  },
  {
   "cell_type": "code",
   "execution_count": null,
   "metadata": {},
   "outputs": [],
   "source": [
    "### compare in a plot\n",
    "\n",
    "fig, axes = plt.subplots(1,2, figsize = (2*FIGWIDTH_TRIPLET, FIGHEIGHT_TRIPLET), sharex = True)\n",
    "\n",
    "x = s2_pair\n",
    "y = s2_bulk_Bfull\n",
    "\n",
    "ax = axes[0] # correlation plot\n",
    "ax.scatter(x,y, rasterized = True)\n",
    "ax.set_ylabel('s_2 in bulk competition with full mutants')\n",
    "ax = axes[1] # residual plot\n",
    "ax.scatter(x,y-x, rasterized = True) \n",
    "ymin,ymax = ax.get_ylim()\n",
    "yabs = np.max(np.abs([ymin,ymax]))\n",
    "ax.set_ylim(-yabs,yabs)\n",
    "ax.axhline(0, ls = '--', color = 'black')\n",
    "\n",
    "for ax in axes: ax.set_xlabel('s_21 in pairwise competition')\n",
    "    "
   ]
  },
  {
   "cell_type": "code",
   "execution_count": null,
   "metadata": {},
   "outputs": [],
   "source": []
  }
 ],
 "metadata": {
  "kernelspec": {
   "display_name": "Python 3",
   "language": "python",
   "name": "python3"
  },
  "language_info": {
   "codemirror_mode": {
    "name": "ipython",
    "version": 3
   },
   "file_extension": ".py",
   "mimetype": "text/x-python",
   "name": "python",
   "nbconvert_exporter": "python",
   "pygments_lexer": "ipython3",
   "version": "3.7.13"
  }
 },
 "nbformat": 4,
 "nbformat_minor": 4
}
