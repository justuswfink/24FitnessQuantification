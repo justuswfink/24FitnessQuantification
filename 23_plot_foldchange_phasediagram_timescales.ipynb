{
 "cells": [
  {
   "cell_type": "code",
   "execution_count": null,
   "metadata": {},
   "outputs": [],
   "source": [
    "\n",
    "import numpy as np\n",
    "import matplotlib.pyplot as plt\n",
    "import pandas as pd\n",
    "from scipy import stats\n",
    "\n",
    "import seaborn as sns\n"
   ]
  },
  {
   "cell_type": "code",
   "execution_count": null,
   "metadata": {},
   "outputs": [],
   "source": [
    "\n",
    "\n",
    "### execute script to load modules here\n",
    "exec(open('setup_aesthetics.py').read())\n",
    "\n",
    "## update locally to have larger axes titles\n",
    "rcParams['axes.titlesize'] = MEDIUM_SIZE + 2\n",
    "sns.set_theme(style = 'ticks',font_scale = 1.5,rc=rcParams)"
   ]
  },
  {
   "cell_type": "code",
   "execution_count": null,
   "metadata": {},
   "outputs": [],
   "source": [
    "## create export directory if necessary\n",
    "## foldernames for output plots/lists produced in this notebook\n",
    "import os\n",
    "FIG_DIR = f'./figures/decorrelation_isoclines/'\n",
    "os.makedirs(FIG_DIR, exist_ok=True)\n",
    "print(\"All  plots will be stored in: \\n\" + FIG_DIR)"
   ]
  },
  {
   "cell_type": "markdown",
   "metadata": {},
   "source": [
    "## plot isoclines for selection coefficient"
   ]
  },
  {
   "cell_type": "code",
   "execution_count": null,
   "metadata": {},
   "outputs": [],
   "source": [
    "def logfoldchange2logit_coefficient(fc_wt, fc_mut):\n",
    "    return fc_mut - fc_wt\n",
    "    \n",
    "\n",
    "def logfoldchange2ltee_coefficient(fc_wt,fc_mut):\n",
    "    return fc_mut/fc_wt"
   ]
  },
  {
   "cell_type": "code",
   "execution_count": null,
   "metadata": {},
   "outputs": [],
   "source": [
    "def get_isocline_logit(fc_wt, level):\n",
    "    return fc_wt + level\n",
    "\n",
    "### test\n",
    "get_isocline_logit(fc_wt = np.geomspace(1.1,100,num=10), level = 1)"
   ]
  },
  {
   "cell_type": "code",
   "execution_count": null,
   "metadata": {},
   "outputs": [],
   "source": [
    "def get_isocline_ltee(fc_wt, level):\n",
    "    return fc_wt*level\n",
    "\n",
    "### test\n",
    "get_isocline_ltee(fc_wt = np.geomspace(1.1,100,num=10), level = 2)"
   ]
  },
  {
   "cell_type": "markdown",
   "metadata": {},
   "source": [
    "### Sample a bivariate set of frequencies"
   ]
  },
  {
   "cell_type": "code",
   "execution_count": null,
   "metadata": {},
   "outputs": [],
   "source": [
    "\n",
    "np.random.seed(29071997)"
   ]
  },
  {
   "cell_type": "code",
   "execution_count": null,
   "metadata": {},
   "outputs": [],
   "source": [
    "# choose a schwerpunk in the space\n",
    "mean = (6.7,7.2) #x0,xf\n",
    "\n",
    "# sample a set of wildtype and mutant foldchange\n",
    "fcwt_sample, fcwt_sample= np.random.multivariate_normal(mean, cov=0.01*np.eye(2),size=100).T\n"
   ]
  },
  {
   "cell_type": "code",
   "execution_count": null,
   "metadata": {},
   "outputs": [],
   "source": [
    "np.log(1e4)"
   ]
  },
  {
   "cell_type": "code",
   "execution_count": null,
   "metadata": {},
   "outputs": [],
   "source": [
    "angles = np.linspace(np.pi/3,np.pi/2 - 0.001, num = 6)"
   ]
  },
  {
   "cell_type": "code",
   "execution_count": null,
   "metadata": {},
   "outputs": [],
   "source": [
    "angles"
   ]
  },
  {
   "cell_type": "code",
   "execution_count": null,
   "metadata": {},
   "outputs": [],
   "source": [
    "np.tan(angles)"
   ]
  },
  {
   "cell_type": "code",
   "execution_count": null,
   "metadata": {},
   "outputs": [],
   "source": [
    "levels = np.outer([-1,1],np.tan(angles))"
   ]
  },
  {
   "cell_type": "code",
   "execution_count": null,
   "metadata": {},
   "outputs": [],
   "source": [
    "levels.flatten()"
   ]
  },
  {
   "cell_type": "code",
   "execution_count": null,
   "metadata": {},
   "outputs": [],
   "source": [
    "fig, ax = plt.subplots(figsize = (FIGHEIGHT_TRIPLET,FIGHEIGHT_TRIPLET))\n",
    "\n",
    "\n",
    "fcmax = 6\n",
    "fcwt_vec = np.linspace(0.01,fcmax, num = 100) \n",
    "fcwt_vec = np.concatenate((-fcwt_vec,fcwt_vec))\n",
    "color_logit = 'tab:grey'\n",
    "color_ltee = 'navy'\n",
    "\n",
    "### plot logit isoclines\n",
    "levels = np.outer([-1,1],np.linspace(0.01,10,num = 6)).flatten()\n",
    "for level in levels: \n",
    "\n",
    "    y = get_isocline_logit(fc_wt = fcwt_vec, level = level)\n",
    "    ax.plot(fcwt_vec, y, color = color_logit)\n",
    "    \n",
    "    \n",
    "## plot ltee isoclines\n",
    "angles = np.linspace(np.pi/2,np.pi - 0.001, num = 6)\n",
    "levels = np.outer([-1,1],np.tan(angles)).flatten()\n",
    "\n",
    "for level in levels: \n",
    "    y = get_isocline_ltee(fc_wt = fcwt_vec, level = level) # need to account for different neutral point in W\n",
    "    ax.plot(fcwt_vec, y, color = color_ltee)\n",
    "    \n",
    "## plot diagonal \n",
    "ax.plot([-fcmax,fcmax],[-fcmax,fcmax], color = 'red', ls = '--', label = 'y=x')\n",
    "\n",
    "## add  legend items\n",
    "ax.plot([],[], color = color_logit, label = 'logit $s$ isocline')\n",
    "ax.plot([],[], color = color_ltee, label = 'LTEE $W$ isocline')\n",
    "\n",
    "### plot cloud of points\n",
    "\n",
    "#ax.scatter(x0_sample,xf_sample, color = 'tab:orange', marker = 'o', s = 5)\n",
    "\n",
    "ax.set_xlim(-fcmax,fcmax)\n",
    "ax.set_ylim(-fcmax,fcmax)\n",
    "ax.legend(loc = 'upper left', bbox_to_anchor = (1.1,1.))\n",
    "\n",
    "ax.set_xlabel('wild-type fold-change\\n$\\log\\; N_{wt}(t_f)/N_{wt}(0)$')\n",
    "ax.set_ylabel('mutant fold-change\\n$\\log\\;  N_{mut}(t_f)/N_{mut}(0)$')\n",
    "\n",
    "fig.savefig(FIG_DIR + f'isoclines_logit_vs_ltee.pdf', DPI = DPI, bbox_inches = 'tight', pad_inches = PAD_INCHES)\n",
    "              "
   ]
  },
  {
   "cell_type": "markdown",
   "metadata": {},
   "source": [
    "### plot conditions for misranking"
   ]
  },
  {
   "cell_type": "code",
   "execution_count": null,
   "metadata": {},
   "outputs": [],
   "source": [
    "fig, ax = plt.subplots(figsize = (FIGHEIGHT_TRIPLET,FIGHEIGHT_TRIPLET))\n",
    "\n",
    "### plot diagonal\n",
    "x_vec = np.linspace(0,np.log(200), num = 50)\n",
    "#ax.plot(x_vec,x_vec, ls = '-', color = 'tab:grey')\n",
    "\n",
    "ax.set_xlim(x_vec.min(),x_vec.max())\n",
    "ax.set_ylim(x_vec.min(),1.8*x_vec.max())\n",
    "\n",
    "## set labels\n",
    "ax.set_xlabel(r\"wild-type log fold-change: $\\mathrm{LFC}_{\\mathrm{wt}}$\")\n",
    "ax.set_ylabel(r\"mutant log fold-change: $\\mathrm{LFC}_{\\mathrm{mut}}$\")\n",
    "\n",
    "## take off axis spines\n",
    "#sns.despine(left=False, bottom = False, ax = ax)\n",
    "\n",
    "### plot example point\n",
    "A, B = 1,2.5\n",
    "ax.scatter([A], [B], color = 'tab:red', s = 70, zorder = 3)\n",
    "s = B-A\n",
    "q = s/A\n",
    "\n",
    "### plot area of decorrelation\n",
    "ax.plot(x_vec, B/A*x_vec, color = 'tab:blue')\n",
    "ax.plot(x_vec, (x_vec-A) + B, color = 'tab:grey', ls = '--')\n",
    "\n",
    "### plot area\n",
    "x_fill = np.linspace(x_vec.min(),x_vec.max())\n",
    "y_fill = B/A*x_fill\n",
    "ax.fill_between(x_fill, (x_fill - A) + B, y_fill, color='tab:red', alpha=0.2)\n",
    "\n",
    "### plot isoclines for W\n",
    "#ax.plot(x_vec, (x_vec-A) + 1.7*B, color = 'tab:grey', ls = '--')\n",
    "#ax.plot(x_vec, (x_vec-A) + 2.4*B, color = 'tab:grey', ls = '--')\n",
    "\n",
    "## plot isoclines for s\n",
    "#ax.plot(x_vec, 0.7*B/A*x_vec, color = 'tab:blue', ls = '-')\n",
    "\n",
    "### plot intersection\n",
    "A_misranked = (A- 1.7*B)/(1-0.7*B/A)\n",
    "B_misranked = (A_misranked - A) + 1.7*B\n",
    "ax.scatter(A_misranked, B_misranked , color = 'tab:grey', s = 70, zorder = 3)\n",
    "s_misranked = B_misranked - A_misranked\n",
    "q_misranked = s_misranked/A_misranked\n",
    "\n",
    "\n",
    "### plot inset\n",
    "inset = ax.inset_axes(bounds = [0.7,0.15,0.25,0.25]) # lower right\n",
    "#inset = ax.inset_axes(bounds = [0.15,0.75,0.25,0.25]) # upper left\n",
    "inset.set_xlabel(r'$s^{\\mathrm{logit}}_{\\mathrm{cycle}}$')\n",
    "inset.set_ylabel(''+r'$s^{\\mathrm{logit}}_{\\mathrm{gen}}$')\n",
    "inset.tick_params(bottom = False,labelbottom =False, left = False, labelleft = False)\n",
    "\n",
    "inset.scatter([s],[q], color = 'tab:red')\n",
    "inset.scatter([s_misranked],[q_misranked], color = 'tab:grey')\n",
    "inset.set_xlim(s-0.4,s_misranked+0.4)\n",
    "inset.set_ylim(q_misranked*0.8, q*1.2,)\n",
    "\n",
    "fig.savefig(FIG_DIR + f'scatterplot_misranking_condition.pdf', DPI = DPI, bbox_inches = 'tight', pad_inches = PAD_INCHES)\n"
   ]
  },
  {
   "cell_type": "markdown",
   "metadata": {},
   "source": [
    "### plot variation with small mutant frequency x"
   ]
  },
  {
   "cell_type": "code",
   "execution_count": null,
   "metadata": {},
   "outputs": [],
   "source": [
    "## create variation in \n",
    "B_vec = np.linspace(B,8, num = 10)\n",
    "A_vec = A*np.ones_like(B_vec)\n",
    "\n",
    "s_vec = B_vec - A_vec\n",
    "q_vec = np.divide(s_vec,A_vec)"
   ]
  },
  {
   "cell_type": "code",
   "execution_count": null,
   "metadata": {},
   "outputs": [],
   "source": [
    "fig, ax = plt.subplots(figsize = (FIGHEIGHT_TRIPLET,FIGHEIGHT_TRIPLET))\n",
    "\n",
    "### plot diagonal\n",
    "ax.plot(x_vec,x_vec, ls = '-', color = 'tab:grey')\n",
    "\n",
    "ax.set_xlim(x_vec.min(),x_vec.max())\n",
    "ax.set_ylim(x_vec.min(),1.8*x_vec.max())\n",
    "\n",
    "## set labels\n",
    "ax.set_xlabel(r\"wild-type fold-change $\\log\\; A$\")\n",
    "ax.set_ylabel(r\"mutant fold-change $\\log\\; B$\")\n",
    "\n",
    "## take off axis spines\n",
    "#sns.despine(left=False, bottom = False, ax = ax)\n",
    "\n",
    "### plot distribution of points\n",
    "\n",
    "ax.scatter(A_vec, B_vec, color = 'tab:grey', s = 70)\n",
    "\n",
    "### plot area of decorrelation\n",
    "for i in [2,6]:\n",
    "    A, B = A_vec[i], B_vec[i]\n",
    "    x_fill = np.linspace(A,x_vec[-11])\n",
    "    y_fill = B/A*x_fill\n",
    "    ax.fill_between(x_fill, (x_fill - A) + B, y_fill, color='tab:red', alpha=0.2)\n",
    "\n",
    "\n",
    "\n",
    "### plot inset\n",
    "inset = ax.inset_axes(bounds = [0.7,0.1,0.25,0.25])\n",
    "sns.despine(left= False, bottom = False, ax =inset)\n",
    "inset.set_xlabel('fitness $s$')\n",
    "inset.set_ylabel('fitness $q$')\n",
    "inset.tick_params(bottom = False,labelbottom =False, left = False, labelleft = False)\n",
    "\n",
    "inset.scatter(s_vec,q_vec, color = 'tab:grey')\n",
    "\n",
    "\n",
    "fig.savefig(FIG_DIR + f'scatterplot_variation_in_wild-type_foldchange_only.pdf', DPI = DPI, bbox_inches = 'tight', pad_inches = PAD_INCHES)\n"
   ]
  },
  {
   "cell_type": "markdown",
   "metadata": {},
   "source": [
    "### plot variation with fold-change condition"
   ]
  },
  {
   "cell_type": "code",
   "execution_count": null,
   "metadata": {},
   "outputs": [],
   "source": [
    "def wt2mut_foldchange(A, x = 0.5, Y = (1, 0.5), R_0=1,N_0 = 0.01):\n",
    "    Y_bar = 1/((1-x)/Y[0] + x/Y[1])\n",
    "    C = (R_0*Y_bar)/N_0  + 1\n",
    "    \n",
    "    B = np.log(Y[0]/x/Y_bar) + np.log(C - ((1-x)*Y_bar/Y[1])*np.exp(A))\n",
    "    \n",
    "    return B\n",
    "\n",
    "### test\n",
    "\n",
    "wt2mut_foldchange(A = np.log(100),x = 0.5, Y = (1.,1.), R_0 = 1, N_0 = 0.01)"
   ]
  },
  {
   "cell_type": "code",
   "execution_count": null,
   "metadata": {},
   "outputs": [],
   "source": [
    "## sample with more points\n",
    "#params = {'x' : 0.5, 'Y' : (1.,0.5), 'R_0' : 1, 'N_0' : 0.1 }\n",
    "#A_vec = np.linspace(0.25,5, num = 30)\n",
    "#B_vec = np.array([wt2mut_foldchange(A, **params) for A in A_vec])\n",
    "\n",
    "## sample with fewer points\n",
    "params = {'x' : 0.5, 'Y' : (1.,0.5), 'R_0' : 1, 'N_0' : 0.1 }\n",
    "A_vec = np.linspace(0.5,4, num = 10)\n",
    "B_vec = np.array([wt2mut_foldchange(A, **params) for A in A_vec])\n",
    "\n",
    "\n",
    "\n",
    "s_vec = B_vec - A_vec\n",
    "q_vec = np.divide(s_vec,A_vec)"
   ]
  },
  {
   "cell_type": "code",
   "execution_count": null,
   "metadata": {},
   "outputs": [],
   "source": [
    "fig, ax = plt.subplots(figsize = (FIGHEIGHT_TRIPLET,FIGHEIGHT_TRIPLET))\n",
    "\n",
    "### plot diagonal\n",
    "#ax.plot(x_vec,x_vec, ls = '-', color = 'tab:grey')\n",
    "\n",
    "ax.set_xlim(x_vec.min(),x_vec.max())\n",
    "ax.set_ylim(x_vec.min(),1.8*x_vec.max())\n",
    "\n",
    "## set labels\n",
    "ax.set_xlabel(r\"wild-type log fold-change: $\\mathrm{LFC}_{\\mathrm{wt}}$\")\n",
    "ax.set_ylabel(r\"mutant log fold-change: $\\mathrm{LFC}_{\\mathrm{mut}}$\")\n",
    "\n",
    "## take off axis spines\n",
    "#sns.despine(left=False, bottom = False, ax = ax)\n",
    "\n",
    "### plot distribution of points\n",
    "ax.scatter(A_vec, B_vec, color = 'tab:grey', s = 70,zorder = 3)\n",
    "\n",
    "### plot area of decorrelation\n",
    "select = [1,2]\n",
    "colors = ['tab:red', 'tab:red']\n",
    "for i,c in zip(select, colors):\n",
    "    A, B = A_vec[i], B_vec[i]\n",
    "    ax.scatter(A, B, color = c, s = 70,zorder = 3)\n",
    "    x_fill = np.linspace(x_vec[0],x_vec[-1])\n",
    "    y_fill = B/A*x_fill\n",
    "    ax.fill_between(x_fill, (x_fill - A) + B, y_fill, color='tab:red', alpha=0.2)\n",
    "\n",
    "## plot line\n",
    "ax.plot(x_vec,[ wt2mut_foldchange(A,**params) for A in x_vec], color = 'black')\n",
    "\n",
    "### plot inset\n",
    "inset = ax.inset_axes(bounds = [0.7,0.15,0.25,0.25]) # lower right\n",
    "#inset = ax.inset_axes(bounds = [0.15,0.75,0.25,0.25]) # upper left\n",
    "inset.set_xlabel(r'$s^{\\mathrm{logit}}_{\\mathrm{cycle}}$')\n",
    "inset.set_ylabel(''+r'$s^{\\mathrm{logit}}_{\\mathrm{gen}}$')\n",
    "inset.tick_params(bottom = False,labelbottom =False, left = False, labelleft = False)\n",
    "\n",
    "\n",
    "inset.scatter(s_vec,q_vec, color = 'tab:grey')\n",
    "inset.scatter(s_vec[select],q_vec[select], color = 'tab:red')\n",
    "\n",
    "fig.savefig(FIG_DIR + f'scatterplot_variation_mass_balance_only.pdf', DPI = DPI, bbox_inches = 'tight', pad_inches = PAD_INCHES)\n"
   ]
  },
  {
   "cell_type": "markdown",
   "metadata": {},
   "source": [
    "### Create variation in the biomass yield"
   ]
  },
  {
   "cell_type": "markdown",
   "metadata": {},
   "source": [
    "### random sample\n",
    "\n",
    "mean = [1.5,3]\n",
    "cov = [[0.4/1.8,0.0],[0.0,0.4]]\n",
    "\n",
    "np.random.seed([6754243])\n",
    "\n",
    "sample = np.random.multivariate_normal(mean, cov, 20)\n",
    "A_vec,B_vec = sample.T"
   ]
  },
  {
   "cell_type": "markdown",
   "metadata": {},
   "source": [
    "### systematic samplee\n",
    "\n",
    "def circle_points(r, n):\n",
    "    t = np.linspace(0, 2*np.pi, n, endpoint=False)\n",
    "    x = r * np.cos(t)\n",
    "    y = r/2. * np.sin(t)\n",
    "    return x,y\n",
    "\n",
    "circle = circle_points(1,8)\n",
    "\n",
    "angle = 0\n",
    "rotation = np.array([[np.cos(angle),np.sin(angle)], [np.sin(angle),np.cos(angle)]])\n",
    "\n",
    "dots = np.dot(rotation, circle)\n",
    "\n",
    "A_vec = dots[0]+1.5\n",
    "B_vec = dots[1]+3 "
   ]
  },
  {
   "cell_type": "code",
   "execution_count": null,
   "metadata": {},
   "outputs": [],
   "source": [
    "### systematic sample\n",
    "\n",
    "A_vec = np.array([])\n",
    "B_vec = np.array([])\n",
    "\n",
    "for x,offset in zip([np.linspace(0.8,1.5,3),np.linspace(1.,1.7,3),np.linspace(1.2,1.9,3)],\n",
    "                    [0,0.6,1.2]):\n",
    "    y = -0.25*x+3 + offset\n",
    "    B_vec = np.hstack([B_vec,y])\n",
    "    A_vec = np.hstack([A_vec,x])"
   ]
  },
  {
   "cell_type": "code",
   "execution_count": null,
   "metadata": {},
   "outputs": [],
   "source": [
    "\n",
    "s_vec = B_vec - A_vec\n",
    "q_vec = np.divide(s_vec,A_vec)"
   ]
  },
  {
   "cell_type": "code",
   "execution_count": null,
   "metadata": {},
   "outputs": [],
   "source": [
    "fig, ax = plt.subplots(figsize = (FIGHEIGHT_TRIPLET,FIGHEIGHT_TRIPLET))\n",
    "\n",
    "### plot diagonal\n",
    "#ax.plot(x_vec,x_vec, ls = '-', color = 'tab:grey')\n",
    "\n",
    "ax.set_xlim(x_vec.min(),x_vec.max())\n",
    "ax.set_ylim(x_vec.min(),1.8*x_vec.max())\n",
    "\n",
    "## set labels\n",
    "ax.set_xlabel(r\"wild-type log fold-change: $\\mathrm{LFC}_{\\mathrm{wt}}$\")\n",
    "ax.set_ylabel(r\"mutant log fold-change: $\\mathrm{LFC}_{\\mathrm{mut}}$\")\n",
    "\n",
    "## take off axis spines\n",
    "#sns.despine(left=False, bottom = False, ax = ax)\n",
    "\n",
    "### plot distribution of points\n",
    "ax.scatter(A_vec, B_vec, color = 'tab:grey', s = 70,zorder = 3)\n",
    "\n",
    "### plot area of decorrelation\n",
    "select = [0]\n",
    "for i in select:\n",
    "    A, B = A_vec[i], B_vec[i]\n",
    "    ax.scatter(A, B, color = 'tab:red', s = 70,zorder = 3)\n",
    "    x_fill = np.linspace(x_vec[0],x_vec[-1])\n",
    "    y_fill = B/A*x_fill\n",
    "    ax.fill_between(x_fill, (x_fill - A) + B, y_fill, color='tab:red', alpha=0.2)\n",
    "\n",
    "## plot line\n",
    "#ax.plot(x_vec,[ wt2mut_foldchange(A,**params) for A in x_vec], color = 'black')\n",
    "\n",
    "### plot inset\n",
    "inset = ax.inset_axes(bounds = [0.7,0.15,0.25,0.25]) # lower right\n",
    "#inset = ax.inset_axes(bounds = [0.15,0.75,0.25,0.25]) # upper left\n",
    "inset.set_xlabel(r'$s^{\\mathrm{logit}}_{\\mathrm{cycle}}$')\n",
    "inset.set_ylabel(''+r'$s^{\\mathrm{logit}}_{\\mathrm{gen}}$')\n",
    "inset.tick_params(bottom = False,labelbottom =False, left = False, labelleft = False)\n",
    "\n",
    "\n",
    "inset.scatter(s_vec,q_vec, color = 'tab:grey')\n",
    "inset.scatter(s_vec[select],q_vec[select], color = 'tab:red')\n",
    "fig.savefig(FIG_DIR + f'scatterplot_variation_no_constraint.pdf', DPI = DPI, bbox_inches = 'tight', pad_inches = PAD_INCHES)\n"
   ]
  },
  {
   "cell_type": "markdown",
   "metadata": {},
   "source": [
    "## create variation around a fixed budget"
   ]
  },
  {
   "cell_type": "code",
   "execution_count": null,
   "metadata": {},
   "outputs": [],
   "source": [
    "### systematic sample\n",
    "\n",
    "A_vec = np.array([])\n",
    "B_vec = np.array([])\n",
    "\n",
    "#for x,offset in zip([np.linspace(0.5,1.5,5),np.linspace(0.7,1.7,5),np.linspace(0.9,1.9,5)], [0,0.6,1.2]):\n",
    "    \n",
    "for x,offset in zip([np.linspace(0.6,1.6,4),np.linspace(1.,2.,4)], [0,1.2]):\n",
    "    y = -0.5*x+2.7 + offset\n",
    "    B_vec = np.hstack([B_vec,y])\n",
    "    A_vec = np.hstack([A_vec,x])"
   ]
  },
  {
   "cell_type": "code",
   "execution_count": null,
   "metadata": {},
   "outputs": [],
   "source": [
    "## calculate fold-change, using mass conservation\n",
    "params = {'x' : 0.5, 'Y' : (1.,0.5), 'R_0' : 1, 'N_0' : 0.1 }\n",
    "A_vec_new = np.linspace(0.5,4, num = 10)\n",
    "A_vec = np.hstack([A_vec,A_vec_new])\n",
    "B_vec = np.hstack([B_vec,np.array([wt2mut_foldchange(A, **params) for A in A_vec_new])])\n",
    "\n",
    "\n",
    "s_vec = B_vec - A_vec\n",
    "q_vec = np.divide(s_vec,A_vec)"
   ]
  },
  {
   "cell_type": "code",
   "execution_count": null,
   "metadata": {},
   "outputs": [],
   "source": [
    "## set color for the points"
   ]
  },
  {
   "cell_type": "code",
   "execution_count": null,
   "metadata": {},
   "outputs": [],
   "source": []
  },
  {
   "cell_type": "code",
   "execution_count": null,
   "metadata": {},
   "outputs": [],
   "source": []
  },
  {
   "cell_type": "code",
   "execution_count": null,
   "metadata": {},
   "outputs": [],
   "source": [
    "fig, ax = plt.subplots(figsize = (FIGHEIGHT_TRIPLET,FIGHEIGHT_TRIPLET))\n",
    "\n",
    "### plot diagonal\n",
    "#ax.plot(x_vec,x_vec, ls = '-', color = 'tab:grey')\n",
    "\n",
    "ax.set_xlim(x_vec.min(),x_vec.max())\n",
    "ax.set_ylim(x_vec.min(),1.8*x_vec.max())\n",
    "\n",
    "## set labels\n",
    "ax.set_xlabel(r\"wild-type log fold-change: $\\mathrm{LFC}_{\\mathrm{wt}}$\")\n",
    "ax.set_ylabel(r\"mutant log fold-change: $\\mathrm{LFC}_{\\mathrm{mut}}$\")\n",
    "\n",
    "## take off axis spines\n",
    "#sns.despine(left=False, bottom = False, ax = ax)\n",
    "\n",
    "### plot distribution of points\n",
    "ax.scatter(A_vec, B_vec, color = 'tab:grey', s = 70,zorder = 3)\n",
    "\n",
    "### plot area of decorrelation\n",
    "select = [0]\n",
    "for i in select:\n",
    "    A, B = A_vec[i], B_vec[i]\n",
    "    ax.scatter(A,B,s=70,color ='tab:red', zorder = 3)\n",
    "    x_fill = np.linspace(x_vec[0],x_vec[-1])\n",
    "    y_fill = B/A*x_fill\n",
    "    ax.fill_between(x_fill, (x_fill - A) + B, y_fill, color='tab:red', alpha=0.2)\n",
    "    \n",
    "\n",
    "## plot line\n",
    "ax.plot(x_vec,[ wt2mut_foldchange(A,**params) for A in x_vec], color = 'black')\n",
    "\n",
    "### plot inset\n",
    "inset = ax.inset_axes(bounds = [0.7,0.15,0.25,0.25]) # lower right\n",
    "#inset = ax.inset_axes(bounds = [0.15,0.75,0.25,0.25]) # upper left\n",
    "inset.set_xlabel(r'$s^{\\mathrm{logit}}_{\\mathrm{cycle}}$')\n",
    "inset.set_ylabel(''+r'$s^{\\mathrm{logit}}_{\\mathrm{gen}}$')\n",
    "inset.tick_params(bottom = False,labelbottom =False, left = False, labelleft = False)\n",
    "\n",
    "\n",
    "inset.scatter(s_vec,q_vec, color = 'tab:grey')\n",
    "inset.scatter(s_vec[select],q_vec[select], color ='tab:red', zorder = 3)\n",
    "\n",
    "\n",
    "### plot the points inside the cone\n",
    "assert len(select) ==1 \n",
    "## find points in the cone\n",
    "list_inside = []\n",
    "\n",
    "for i in range(len(A_vec)):\n",
    "    A, B = A_vec[i], B_vec[i]\n",
    "    delta_s = s_vec[i] - s_vec[select]\n",
    "    delta_q = q_vec[i] - q_vec[select]\n",
    "    if delta_s > 0 and delta_q < 0:\n",
    "        list_inside.append(i)\n",
    "\n",
    "## choose colors for the points int he cone\n",
    "list_colors = ['tab:blue', 'seagreen', 'darkorange']\n",
    "\n",
    "for i, c in zip(list_inside, list_colors):\n",
    "    ax.scatter(A_vec[i], B_vec[i], s=70, zorder = 5, color = c)\n",
    "    inset.scatter(s_vec[i], q_vec[i], zorder =5, color = c)\n",
    "\n",
    "fig.savefig(FIG_DIR + f'scatterplot_variation_around_budget.pdf', DPI = DPI, bbox_inches = 'tight', pad_inches = PAD_INCHES)\n"
   ]
  },
  {
   "cell_type": "markdown",
   "metadata": {},
   "source": [
    "### plot variation with fold-change condition and variation in Yield"
   ]
  },
  {
   "cell_type": "code",
   "execution_count": null,
   "metadata": {},
   "outputs": [],
   "source": [
    "fig, ax = plt.subplots(figsize = (FIGHEIGHT_TRIPLET,FIGHEIGHT_TRIPLET))\n",
    "\n",
    "### plot diagonal\n",
    "ax.plot(x_vec,x_vec, ls = '-', color = 'tab:grey')\n",
    "\n",
    "ax.set_xlim(x_vec.min(),x_vec.max())\n",
    "ax.set_ylim(x_vec.min(),1.8*x_vec.max())\n",
    "\n",
    "## set labels\n",
    "ax.set_xlabel(r\"wild-type foldchange $\\log\\; \\mathrm{A}$\")\n",
    "ax.set_ylabel(r\"mutant foldchange $\\log\\; \\mathrm{B}$\")\n",
    "\n",
    "## take off axis spines\n",
    "#sns.despine(left=False, bottom = False, ax = ax)\n",
    "\n",
    "\n",
    "### plot inset\n",
    "#inset = ax.inset_axes(bounds = [0.75,0.1,0.25,0.25])\n",
    "#inset = ax.inset_axes(bounds = [0.15,0.75,0.25,0.25])\n",
    "inset = ax.inset_axes(bounds = [1.15,0.75,0.25,0.25])\n",
    "sns.despine(left= False, bottom = False, ax =inset)\n",
    "inset.set_xlabel('fitness $s$')\n",
    "inset.set_ylabel('fitness $q$')\n",
    "inset.tick_params(bottom = False,labelbottom =False, left = False, labelleft = False)\n",
    "\n",
    "    \n",
    "for R_zero, color, yinset  in zip([2,1.], ['blue', 'darkorange'],[0.1,0.4]): #[1.,5.,50.]:\n",
    "    params['R_0'] = R_zero\n",
    "    B_vec = np.array([wt2mut_foldchange(A, **params) for A in A_vec])\n",
    "   \n",
    "    s_vec = B_vec - A_vec\n",
    "    q_vec = np.divide(s_vec,A_vec)\n",
    "\n",
    "    ### plot distribution of points\n",
    "    ax.scatter(A_vec, B_vec, color = color, s = 70)\n",
    "\n",
    "    ### plot area of decorrelation\n",
    "    for i in [3]:\n",
    "        A, B = A_vec[i], B_vec[i]\n",
    "        x_fill = np.linspace(A,x_vec[-1])\n",
    "        y_fill = B/A*x_fill\n",
    "        ax.fill_between(x_fill, (x_fill - A) + B, y_fill, color='tab:red', alpha=0.2)\n",
    "\n",
    "    inset.scatter(s_vec,q_vec, color = color)\n",
    "    \n",
    "    ## plot correlation within\n",
    "    within = ax.inset_axes(bounds = [1.15,yinset,0.25,0.25])\n",
    "    within.scatter(s_vec,q_vec, color = color)\n",
    "    within.set_xlabel('fitness $s$')\n",
    "    within.set_ylabel('fitness $q$')\n",
    "    within.tick_params(bottom = False,labelbottom =False, left = False, labelleft = False)\n",
    "    \n",
    "    ## plot line\n",
    "    ax.plot(x_vec,[ wt2mut_foldchange(A,**params) for A in x_vec], color = 'black')\n",
    "\n",
    "\n",
    "fig.savefig(FIG_DIR + f'scatterplot_variation_mass_balance_with_yield_variation.pdf', DPI = DPI, bbox_inches = 'tight', pad_inches = PAD_INCHES)\n"
   ]
  },
  {
   "cell_type": "code",
   "execution_count": null,
   "metadata": {},
   "outputs": [],
   "source": []
  },
  {
   "cell_type": "code",
   "execution_count": null,
   "metadata": {},
   "outputs": [],
   "source": []
  }
 ],
 "metadata": {
  "kernelspec": {
   "display_name": "Python 3",
   "language": "python",
   "name": "python3"
  },
  "language_info": {
   "codemirror_mode": {
    "name": "ipython",
    "version": 3
   },
   "file_extension": ".py",
   "mimetype": "text/x-python",
   "name": "python",
   "nbconvert_exporter": "python",
   "pygments_lexer": "ipython3",
   "version": "3.7.13"
  }
 },
 "nbformat": 4,
 "nbformat_minor": 4
}
