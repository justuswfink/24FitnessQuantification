{
 "cells": [
  {
   "cell_type": "markdown",
   "metadata": {},
   "source": [
    "### Simulate bulk competition experiments using empirical traits from Warringer 2003"
   ]
  },
  {
   "cell_type": "code",
   "execution_count": null,
   "metadata": {},
   "outputs": [],
   "source": [
    "import numpy as np\n",
    "import matplotlib.pyplot as plt\n",
    "import pandas as pd\n",
    "import seaborn as sns\n",
    "\n",
    "from bulk_simulation_code import run_pairwise_experiment, run_bulk_experiment\n",
    "from bulk_simulation_code import CalcRelativeYield,CalcReferenceFrequency\n",
    "from bulk_simulation_code import CalcTotalSelectionCoefficientLogit, CalcTotalSelectionCoefficientLog\n",
    "from m3_model import CalcRelativeSaturationTime as CalcSaturationTimeExact"
   ]
  },
  {
   "cell_type": "code",
   "execution_count": null,
   "metadata": {},
   "outputs": [],
   "source": [
    "### Update dependent parameters according to input\n",
    "import os\n",
    "import os.path\n",
    "from os import path\n",
    "\n",
    "## create export directory if necessary\n",
    "## foldernames for output plots/lists produced in this notebook\n",
    "import os\n",
    "FIG_DIR = f'./figures/pairwise_fitness/'\n",
    "os.makedirs(FIG_DIR, exist_ok=True)\n",
    "print(\"All  plots will be stored in: \\n\" + FIG_DIR)"
   ]
  },
  {
   "cell_type": "code",
   "execution_count": null,
   "metadata": {},
   "outputs": [],
   "source": [
    "### execute script to load modules here\n",
    "# I get some error with this command\n",
    "exec(open('setup_aesthetics.py').read()) \n",
    "\n",
    "# manual fix\n",
    "\n",
    "FIGSIZE_A4 = (8.27, 11.69) # a4 format in inches\n",
    "\n",
    "FIGWIDTH_TRIPLET = FIGSIZE_A4[0]*0.3*2\n",
    "FIGHEIGHT_TRIPLET = FIGWIDTH_TRIPLET*0.75\n"
   ]
  },
  {
   "cell_type": "code",
   "execution_count": null,
   "metadata": {},
   "outputs": [],
   "source": [
    "DATASET_COLOR = 'darkorange'\n"
   ]
  },
  {
   "cell_type": "code",
   "execution_count": null,
   "metadata": {},
   "outputs": [],
   "source": [
    "SUFFIX_DATASET = 'all_traits_vary/'\n",
    "\n",
    "FIG_DIR_DATASET = FIG_DIR + SUFFIX_DATASET\n",
    "os.makedirs(FIG_DIR_DATASET, exist_ok=True)\n",
    "\n",
    "OUTPUT_DIR_DATASET = './output/' + SUFFIX_DATASET\n",
    "os.makedirs(OUTPUT_DIR_DATASET, exist_ok=True)"
   ]
  },
  {
   "cell_type": "markdown",
   "metadata": {},
   "source": [
    "### set colorscheme"
   ]
  },
  {
   "cell_type": "code",
   "execution_count": null,
   "metadata": {},
   "outputs": [],
   "source": [
    "cmap = plt.get_cmap('tab20c')"
   ]
  },
  {
   "cell_type": "code",
   "execution_count": null,
   "metadata": {},
   "outputs": [],
   "source": [
    "color_B1 = cmap(4.5/20)\n",
    "color_error1 = cmap(5.5/20) #cmap(13.5/20)\n",
    "color_error2 = cmap(7.5/20)\n",
    "\n",
    "color_stotal = cmap(16.5/20)\n",
    "color_B2 = cmap(0.5/20)\n",
    "color_ratio = cmap(13.5/20) #cmap(10.5/20)\n",
    "\n",
    "color_wt = cmap(10.5/20)"
   ]
  },
  {
   "cell_type": "code",
   "execution_count": null,
   "metadata": {},
   "outputs": [],
   "source": [
    "\n",
    "knockout_cmap = plt.get_cmap('flag')"
   ]
  },
  {
   "cell_type": "code",
   "execution_count": null,
   "metadata": {},
   "outputs": [],
   "source": [
    "rel_threshold = 0.01 ### threshold for relative error plots"
   ]
  },
  {
   "cell_type": "markdown",
   "metadata": {},
   "source": [
    "### Load wild-type traits"
   ]
  },
  {
   "cell_type": "code",
   "execution_count": null,
   "metadata": {},
   "outputs": [],
   "source": [
    "INDEX_COL = [0,1,2,3,4]\n",
    "list_na_representations = ['not_present', 'failed_to_compute']"
   ]
  },
  {
   "cell_type": "code",
   "execution_count": null,
   "metadata": {},
   "outputs": [],
   "source": [
    "PCWS_TRAITS_WARRINGER = './output/df_M3_traits.csv'\n",
    "df_warringer = pd.read_csv(PCWS_TRAITS_WARRINGER, header = 0, index_col= INDEX_COL,\\\n",
    "                                  float_precision=None, na_values=list_na_representations)\n"
   ]
  },
  {
   "cell_type": "code",
   "execution_count": null,
   "metadata": {},
   "outputs": [],
   "source": [
    "### define default wild_type\n",
    "df_wildtypes = df_warringer[df_warringer['is_wildtype']==True]\n",
    "\n",
    "WILDTYPE = df_wildtypes.median(axis = 0, numeric_only = True)"
   ]
  },
  {
   "cell_type": "markdown",
   "metadata": {},
   "source": [
    "### Load mutant data (averaged)"
   ]
  },
  {
   "cell_type": "code",
   "execution_count": null,
   "metadata": {},
   "outputs": [],
   "source": [
    "\n",
    "PCWS_TRAITS_WARRINGER_AVERAGED = './output/df_M3_traits_averaged.csv'\n",
    "df_averaged = pd.read_csv(PCWS_TRAITS_WARRINGER_AVERAGED, header = 0, float_precision=None)"
   ]
  },
  {
   "cell_type": "code",
   "execution_count": null,
   "metadata": {},
   "outputs": [],
   "source": [
    "### assign wild-type label\n",
    "def is_wildtype(row):\n",
    "    genotype = row['genotype']\n",
    "    \n",
    "    if genotype == 'BY4741':\n",
    "        return True\n",
    "    else:\n",
    "        return False\n",
    "    \n",
    "\n",
    "row = df_averaged.iloc[0]\n",
    "is_wildtype(row)"
   ]
  },
  {
   "cell_type": "code",
   "execution_count": null,
   "metadata": {},
   "outputs": [],
   "source": [
    "df_averaged['is_wildtype'] = df_averaged.apply(is_wildtype, axis =1)"
   ]
  },
  {
   "cell_type": "code",
   "execution_count": null,
   "metadata": {},
   "outputs": [],
   "source": [
    "### append mutant values (averaged) to set of individual wild-type strains\n",
    "df_knockouts = df_averaged[~df_averaged['is_wildtype']]\n",
    "df_knockouts = df_knockouts\n",
    "df_input = df_wildtypes.reset_index().append(df_knockouts.reset_index())"
   ]
  },
  {
   "cell_type": "code",
   "execution_count": null,
   "metadata": {},
   "outputs": [],
   "source": [
    "### restore index\n",
    "index_col_names = df_warringer.index.names\n",
    "df_input = df_input.set_index(index_col_names)\n"
   ]
  },
  {
   "cell_type": "markdown",
   "metadata": {},
   "source": [
    "### Load trait data into the standard form required by Michaels code"
   ]
  },
  {
   "cell_type": "code",
   "execution_count": null,
   "metadata": {},
   "outputs": [],
   "source": [
    "n_knockouts = df_knockouts.shape[0]"
   ]
  },
  {
   "cell_type": "code",
   "execution_count": null,
   "metadata": {},
   "outputs": [],
   "source": [
    "### growth rates\n",
    "gs = np.zeros(n_knockouts+1)\n",
    "gs[0] = WILDTYPE['gmax']\n",
    "gs[1:] = df_knockouts['gmax'].values\n",
    "### lag times\n",
    "ls = np.zeros(n_knockouts+1)\n",
    "ls[0] = WILDTYPE['lag']\n",
    "ls[1:] = df_knockouts['lag'].values\n",
    "#ls[1:] = ls[0]\n",
    "\n",
    "### adjust units of time\n",
    "gs = gs*60 # change units to growth rate per hour\n",
    "ls = ls/60 # change units to hour\n",
    "\n",
    "### yield\n",
    "Ys = np.zeros(n_knockouts+1)\n",
    "Ys[0] = WILDTYPE['yield']\n",
    "#Ys[1:] = df_knockouts['yield'].values\n",
    "Ys[1:] = Ys[0]"
   ]
  },
  {
   "cell_type": "markdown",
   "metadata": {},
   "source": [
    "### Define initial condition for bulk growth cycle"
   ]
  },
  {
   "cell_type": "code",
   "execution_count": null,
   "metadata": {},
   "outputs": [],
   "source": [
    "### set initial resource concentrations\n",
    "\n",
    "CONCENTRATION_GLUCOSE = 20/180 * 1e3 # concentrations are recored  in milliMolar, to match the units of yield\n",
    "print(CONCENTRATION_GLUCOSE)"
   ]
  },
  {
   "cell_type": "code",
   "execution_count": null,
   "metadata": {},
   "outputs": [],
   "source": [
    "### define default initial_OD\n",
    "OD_START = 0.05  #df_warringer['od_start'].median()\n",
    "\n",
    "### compare to initial OD in the monoculture cycles\n",
    "fig, ax = plt.subplots(figsize = (FIGWIDTH_TRIPLET, FIGHEIGHT_TRIPLET))\n",
    "\n",
    "ax = df_warringer['od_start'].hist(bins=41, color = DATASET_COLOR, alpha = 0.6, log = True, rasterized = True)\n",
    "\n",
    "\n",
    "ax.axvline(OD_START, color = 'tab:red', label = f'median value: $N_0={OD_START:.3f}$')\n",
    "ax.legend()\n",
    "ax.set_xlabel('initial OD')\n",
    "ax.set_ylabel('no. growth curves')"
   ]
  },
  {
   "cell_type": "markdown",
   "metadata": {},
   "source": [
    "### Calculate effective yield"
   ]
  },
  {
   "cell_type": "code",
   "execution_count": null,
   "metadata": {},
   "outputs": [],
   "source": [
    "from bulk_simulation_code import CalcRelativeYield"
   ]
  },
  {
   "cell_type": "code",
   "execution_count": null,
   "metadata": {},
   "outputs": [],
   "source": [
    "### calculcate effective yields\n",
    "nus = CalcRelativeYield(Ys, R0 = CONCENTRATION_GLUCOSE, N0 = OD_START)\n"
   ]
  },
  {
   "cell_type": "markdown",
   "metadata": {},
   "source": [
    "### Simulate pairwise competition growth cycles (low frequency)"
   ]
  },
  {
   "cell_type": "code",
   "execution_count": null,
   "metadata": {},
   "outputs": [],
   "source": [
    "x0_low = 1e-6"
   ]
  },
  {
   "cell_type": "code",
   "execution_count": null,
   "metadata": {},
   "outputs": [],
   "source": [
    "xs_pair, xs_pair_final, tsats, _,_,_ = run_pairwise_experiment(gs=gs,ls=ls,nus = nus, g1=gs[0],l1=ls[0],nu1=nus[0],\n",
    "                                                               x0 = x0_low)\n",
    "\n",
    "s_pair_low = CalcTotalSelectionCoefficientLogit(xs_pair,xs_pair_final)"
   ]
  },
  {
   "cell_type": "markdown",
   "metadata": {},
   "source": [
    "#### Plot  frequency trajectory in pairwise competition for example mutant"
   ]
  },
  {
   "cell_type": "code",
   "execution_count": null,
   "metadata": {},
   "outputs": [],
   "source": [
    "## set axis limits\n",
    "TMIN,TMAX = 0,15\n",
    "XMIN,XMAX = 5e-8,2"
   ]
  },
  {
   "cell_type": "code",
   "execution_count": null,
   "metadata": {},
   "outputs": [],
   "source": [
    "\n",
    "## set timepoints for each trajectory\n",
    "tvec = np.array([0, TMAX])\n",
    "## set frequency values for each trajectory\n",
    "trajectories = np.vstack((xs_pair,xs_pair_final))\n",
    "\n",
    "## plot\n",
    "fig, ax = plt.subplots(figsize = (FIGWIDTH_TRIPLET, FIGHEIGHT_TRIPLET))\n",
    "ax.plot(tvec,trajectories[:,1:], color = 'dimgrey', label = 'mutants')\n",
    "ax.plot(tvec,trajectories[:,0], color = 'orange', label = 'wild-type')\n",
    "\n",
    "ax.set_xlabel('time')\n",
    "ax.set_ylabel('frequency')\n",
    "\n",
    "# fix axis limits\n",
    "ax.set_yscale('log')\n",
    "ax.set_ylim(XMIN,XMAX)\n",
    "ax.set_xlim(TMIN,TMAX)\n",
    "fig.tight_layout()"
   ]
  },
  {
   "cell_type": "markdown",
   "metadata": {},
   "source": [
    "### Simulate pairwise competition growth cycles (high frequency)"
   ]
  },
  {
   "cell_type": "code",
   "execution_count": null,
   "metadata": {},
   "outputs": [],
   "source": [
    "x0_high = 1e-2"
   ]
  },
  {
   "cell_type": "code",
   "execution_count": null,
   "metadata": {},
   "outputs": [],
   "source": [
    "xs_pair, xs_pair_final, tsats, _,_,_ = run_pairwise_experiment(gs=gs,ls=ls,nus = nus, g1=gs[0],l1=ls[0],nu1=nus[0],\n",
    "                                                               x0 = x0_high)\n",
    "\n",
    "s_pair_high = CalcTotalSelectionCoefficientLogit(xs_pair,xs_pair_final)"
   ]
  },
  {
   "cell_type": "markdown",
   "metadata": {},
   "source": [
    "#### Plot  frequency trajectory in pairwise competition for example mutant"
   ]
  },
  {
   "cell_type": "code",
   "execution_count": null,
   "metadata": {},
   "outputs": [],
   "source": [
    "\n",
    "## set timepoints for each trajectory\n",
    "tvec = np.array([0, TMAX])\n",
    "## set frequency values for each trajectory\n",
    "trajectories = np.vstack((xs_pair,xs_pair_final))\n",
    "\n",
    "## plot\n",
    "fig, ax = plt.subplots(figsize = (FIGWIDTH_TRIPLET, FIGHEIGHT_TRIPLET))\n",
    "ax.plot(tvec,trajectories[:,1:], color = 'dimgrey', label = 'mutants')\n",
    "ax.plot(tvec,trajectories[:,0], color = 'orange', label = 'wild-type')\n",
    "\n",
    "ax.set_xlabel('time')\n",
    "ax.set_ylabel('frequency')\n",
    "\n",
    "# fix axis limits\n",
    "ax.set_yscale('log')\n",
    "ax.set_ylim(XMIN,XMAX)\n",
    "ax.set_xlim(TMIN,TMAX)\n",
    "fig.tight_layout()"
   ]
  },
  {
   "cell_type": "markdown",
   "metadata": {},
   "source": [
    "### Plot distribution of fitness effects in the pairwise competition"
   ]
  },
  {
   "cell_type": "code",
   "execution_count": null,
   "metadata": {},
   "outputs": [],
   "source": [
    "fig, ax = plt.subplots(figsize = (FIGWIDTH_TRIPLET, FIGHEIGHT_TRIPLET))\n",
    "ax.hist(s_pair_low , bins = 42, color = color_B1, label = f\"x0={x0_low:.1e}\")\n",
    "ax.hist(s_pair_high , bins = 42, color = color_B2, label = f\"x0={x0_high:.1e}\")\n",
    "\n",
    "ax.legend()\n",
    "ax.set_xlabel('s_21 in pairwise experiment')"
   ]
  },
  {
   "cell_type": "code",
   "execution_count": null,
   "metadata": {},
   "outputs": [],
   "source": [
    "### Plot correlation\n",
    "\n",
    "fig, axes = plt.subplots(1,3, figsize = (3*FIGHEIGHT_TRIPLET, FIGHEIGHT_TRIPLET))\n",
    "\n",
    "x = s_pair_low\n",
    "ax = axes[0]\n",
    "y = s_pair_high\n",
    "ax.scatter(x, y, color = 'dimgrey')\n",
    "label = f\"x0={x0_high:.1e}\"\n",
    "ax.set_ylabel(\"s:pairwise competition \" + label)\n",
    "ax = axes[1]\n",
    "y = s_pair_low-s_pair_high\n",
    "ax.scatter(x, y, color = 'dimgrey')\n",
    "ax.set_ylabel(\"absolute difference: low - high\")\n",
    "\n",
    "ax = axes[2]\n",
    "y = np.abs(np.divide(s_pair_low-s_pair_high,s_pair_low, where = s_pair_low!=0))\n",
    "ax.scatter(x, y, color = 'dimgrey')\n",
    "ax.set_ylabel(\"relative difference: (low - high)/low\")\n",
    "ax.set_yscale('log')\n",
    "\n",
    "for ax in axes: \n",
    "    label = f\"x0={x0_low:.1e}\"\n",
    "    ax.set_xlabel(\"s:pairwise competition \" + label)\n",
    "\n",
    "fig.tight_layout()"
   ]
  },
  {
   "cell_type": "markdown",
   "metadata": {},
   "source": [
    "### Show the variation in the taubar"
   ]
  },
  {
   "cell_type": "code",
   "execution_count": null,
   "metadata": {},
   "outputs": [],
   "source": [
    "taus = 1/gs"
   ]
  },
  {
   "cell_type": "code",
   "execution_count": null,
   "metadata": {},
   "outputs": [],
   "source": [
    "Ybars_high = 1/( (1-x0_high)/Ys[0] + x0_high/Ys)\n",
    "taubars_high = 1/Ybars_high * 1/( (1-x0_high)/(Ys[0]*taus[0]) + x0_high/np.multiply(Ys,taus))"
   ]
  },
  {
   "cell_type": "code",
   "execution_count": null,
   "metadata": {},
   "outputs": [],
   "source": [
    "Ybars_low = 1/( (1-x0_low)/Ys[0] + x0_low/Ys)\n",
    "taubars_low = 1/Ybars_low * 1/( (1-x0_low)/(Ys[0]*taus[0]) + x0_low/np.multiply(Ys,taus))"
   ]
  },
  {
   "cell_type": "code",
   "execution_count": null,
   "metadata": {},
   "outputs": [],
   "source": [
    "fig, ax = plt.subplots(1,1, figsize = (FIGHEIGHT_TRIPLET, FIGHEIGHT_TRIPLET))\n",
    "\n",
    "x = s_pair_low\n",
    "y = taubars_low\n",
    "ax.scatter(x,y, color = color_B1, label = f\"x0={x0_low:.1e}\")\n",
    "y = taubars_high\n",
    "ax.scatter(x,y, color = color_B2, label = f\"x0={x0_high:.1e}\")\n",
    "\n",
    "ax.axhline(taus[0], ls = '-', label = 'wildtype', lw = 2)\n",
    "ax.legend(frameon=False)\n",
    "\n",
    "label = f\"x0={x0_low:.1e}\"\n",
    "ax.set_xlabel(\"s:pairwise competition \" + label)\n",
    "ax.set_ylabel(\"effective tau: pairwise competition\")  "
   ]
  },
  {
   "cell_type": "markdown",
   "metadata": {},
   "source": [
    "### Correlate the absolute errror with growth rate difference"
   ]
  },
  {
   "cell_type": "code",
   "execution_count": null,
   "metadata": {},
   "outputs": [],
   "source": [
    "### predicted trend of the error\n",
    "\n",
    "def f(tau_2):\n",
    "    tau_1 = 1/gs[0]\n",
    "    delta_tau = tau_2 - tau_1\n",
    "    x0 = x0_high\n",
    "    \n",
    "    nominator= delta_tau*x0\n",
    "    denominator = tau_2*(1-x0) + tau_1*x0\n",
    "    return -nominator/denominator\n",
    "\n",
    "## test\n",
    "\n",
    "f(1/gs)"
   ]
  },
  {
   "cell_type": "code",
   "execution_count": null,
   "metadata": {},
   "outputs": [],
   "source": [
    "### Plot correlation\n",
    "\n",
    "fig, ax = plt.subplots(1,1, figsize = (FIGHEIGHT_TRIPLET, FIGHEIGHT_TRIPLET))\n",
    "\n",
    "x = 1/gs-1/gs[0]\n",
    "y = s_pair_low-s_pair_high\n",
    "ax.scatter(x, y, color = 'dimgrey')\n",
    "\n",
    "y = np.multiply(s_pair_low, f(taus))\n",
    "#ax.scatter(x,y)\n",
    "ax.set_xlabel(r'mutant growth rate difference $\\Delta \\tau_{21}$')\n",
    "#ax.set_ylabel(\"absolute difference in s pairwise\")\n",
    "ax.set_ylabel(\"absolute difference: low - high \")\n"
   ]
  },
  {
   "cell_type": "code",
   "execution_count": null,
   "metadata": {},
   "outputs": [],
   "source": [
    "### Show the variation in "
   ]
  }
 ],
 "metadata": {
  "kernelspec": {
   "display_name": "Python 3",
   "language": "python",
   "name": "python3"
  },
  "language_info": {
   "codemirror_mode": {
    "name": "ipython",
    "version": 3
   },
   "file_extension": ".py",
   "mimetype": "text/x-python",
   "name": "python",
   "nbconvert_exporter": "python",
   "pygments_lexer": "ipython3",
   "version": "3.7.13"
  }
 },
 "nbformat": 4,
 "nbformat_minor": 4
}
