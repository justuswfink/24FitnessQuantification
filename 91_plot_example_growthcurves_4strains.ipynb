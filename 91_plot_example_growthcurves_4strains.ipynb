{
 "cells": [
  {
   "cell_type": "markdown",
   "metadata": {},
   "source": [
    "### Plot abundance in competition experiments using 4 strains"
   ]
  },
  {
   "cell_type": "code",
   "execution_count": null,
   "metadata": {},
   "outputs": [],
   "source": [
    "import numpy as np\n",
    "import matplotlib.pyplot as plt\n",
    "import pandas as pd"
   ]
  },
  {
   "cell_type": "code",
   "execution_count": null,
   "metadata": {},
   "outputs": [],
   "source": [
    "### Update dependent parameters according to input\n",
    "import os\n",
    "import os.path\n",
    "from os import path\n",
    "\n",
    "## create export directory if necessary\n",
    "## foldernames for output plots/lists produced in this notebook\n",
    "import os\n",
    "FIG_DIR = f'./figures/cartoons/'\n",
    "os.makedirs(FIG_DIR, exist_ok=True)\n",
    "print(\"All  plots will be stored in: \\n\" + FIG_DIR)"
   ]
  },
  {
   "cell_type": "code",
   "execution_count": null,
   "metadata": {},
   "outputs": [],
   "source": [
    "\n",
    "\n",
    "### execute script to load modules here\n",
    "exec(open('setup_aesthetics.py').read())"
   ]
  },
  {
   "cell_type": "markdown",
   "metadata": {},
   "source": [
    "### Define graphics parameters"
   ]
  },
  {
   "cell_type": "code",
   "execution_count": null,
   "metadata": {},
   "outputs": [],
   "source": [
    "### define colors\n",
    "color1 =  'tab:grey' #'#D6D6D6'\n",
    "color2 = '#009193'\n",
    "color3 = '#531B93'\n",
    "color4 = '#942193'"
   ]
  },
  {
   "cell_type": "code",
   "execution_count": null,
   "metadata": {},
   "outputs": [],
   "source": [
    "## define plot behavior\n",
    "import matplotlib\n",
    "\n",
    "## linewidth of trajectories\n",
    "lw = 8\n",
    "\n",
    "### linewidth of boundary\n",
    "matplotlib.rcParams['axes.linewidth'] = 1.5"
   ]
  },
  {
   "cell_type": "code",
   "execution_count": null,
   "metadata": {},
   "outputs": [],
   "source": [
    "## set axis limits\n",
    "\n",
    "ymin, ymax = -3.2, -0.8\n",
    "xmin, xmax = 0, 7.5"
   ]
  },
  {
   "cell_type": "markdown",
   "metadata": {},
   "source": [
    "### Define trait data"
   ]
  },
  {
   "cell_type": "code",
   "execution_count": null,
   "metadata": {},
   "outputs": [],
   "source": [
    "### set growth rates\n",
    "g1, g2, g3, g4 = 1., 0.8, 0.8, 0.8\n",
    "\n",
    "## set lag times\n",
    "l1, l2, l3, l4 = 3., 2, 3,4\n",
    "## set biomass yields\n",
    "Y1, Y2, Y3, Y4 = 1., 1., 1.,1.\n"
   ]
  },
  {
   "cell_type": "markdown",
   "metadata": {},
   "source": [
    "### Define initial resource condition for bulk growth cycle"
   ]
  },
  {
   "cell_type": "code",
   "execution_count": null,
   "metadata": {},
   "outputs": [],
   "source": [
    "### set initial resource concentrations\n",
    "R0 = 0.1"
   ]
  },
  {
   "cell_type": "code",
   "execution_count": null,
   "metadata": {},
   "outputs": [],
   "source": [
    "### define default initial_OD\n",
    "OD_START = 0.01"
   ]
  },
  {
   "cell_type": "code",
   "execution_count": null,
   "metadata": {},
   "outputs": [],
   "source": [
    "from bulk_simulation_code import CalcRelativeYield"
   ]
  },
  {
   "cell_type": "code",
   "execution_count": null,
   "metadata": {},
   "outputs": [],
   "source": [
    "### calculcate effective yields\n",
    "nu1, nu2, nu3, nu4 = CalcRelativeYield(Ys = np.array([Y1,Y2,Y3, Y4]), R0 = R0, N0 = OD_START)\n"
   ]
  },
  {
   "cell_type": "markdown",
   "metadata": {},
   "source": [
    "### Scenario A: pairwise competition with mutant at low frequency"
   ]
  },
  {
   "cell_type": "code",
   "execution_count": null,
   "metadata": {},
   "outputs": [],
   "source": [
    "from m3_model import CalcRelativeSaturationTime, HeavisideTheta"
   ]
  },
  {
   "cell_type": "code",
   "execution_count": null,
   "metadata": {},
   "outputs": [],
   "source": [
    "\n",
    "# set initial frequencies\n",
    "xs = [0.9, 0.1]\n",
    "\n",
    "# choose species traits\n",
    "gs = [g1, g2]\n",
    "ls = [l1, l2]\n",
    "nus = [nu1, nu2]\n",
    "\n",
    "\n",
    "### calculate saturation time\n",
    "tsat = CalcRelativeSaturationTime(xs,gs,ls, nus)"
   ]
  },
  {
   "cell_type": "code",
   "execution_count": null,
   "metadata": {},
   "outputs": [],
   "source": [
    "def time2abundance(t, x0,g,l, tsat):\n",
    "    N_start = x0*OD_START\n",
    "    if t <= l: \n",
    "        return N_start\n",
    "    elif t < tsat:\n",
    "        return N_start*np.exp(g*(t-l))\n",
    "    else:\n",
    "        return N_start*np.exp(g*(tsat -l))\n",
    "    \n",
    "        "
   ]
  },
  {
   "cell_type": "code",
   "execution_count": null,
   "metadata": {},
   "outputs": [],
   "source": [
    "## calculate trajectories\n",
    "t_vec = np.arange(xmin,xmax, 0.01) # should include lag times\n",
    "N1 = [time2abundance(t, xs[0], g1, l1, tsat) for t in t_vec]\n",
    "N2 = [time2abundance(t, xs[1], g2, l2, tsat) for t in t_vec]\n"
   ]
  },
  {
   "cell_type": "code",
   "execution_count": null,
   "metadata": {},
   "outputs": [],
   "source": [
    "fig, ax = plt.subplots(figsize = (2.5,2))\n",
    "ax.plot(t_vec,np.log10(N1), color = color1, lw = lw)\n",
    "ax.plot(t_vec,np.log10(N2), color =color2, lw = lw)\n",
    "\n",
    "### fix window of view\n",
    "ax.set_xlim(xmin,xmax)\n",
    "ax.set_ylim(ymin,ymax)\n",
    "\n",
    "### remove tick\n",
    "ax.tick_params(left=False, labelleft=False, bottom = False, labelbottom = False)\n",
    "\n",
    "\n",
    "fig.savefig(FIG_DIR + 'growthcurve_pairwise_competition_A.png', DPI = DPI)"
   ]
  },
  {
   "cell_type": "code",
   "execution_count": null,
   "metadata": {},
   "outputs": [],
   "source": [
    "ax.get_ylim()"
   ]
  },
  {
   "cell_type": "markdown",
   "metadata": {},
   "source": [
    "### same but with only growth, to demonstrate tsat"
   ]
  },
  {
   "cell_type": "code",
   "execution_count": null,
   "metadata": {},
   "outputs": [],
   "source": [
    "from m3_model import CalcRelativeSaturationTime, HeavisideTheta"
   ]
  },
  {
   "cell_type": "code",
   "execution_count": null,
   "metadata": {},
   "outputs": [],
   "source": [
    "\n",
    "# set initial frequencies\n",
    "xs = [0.9, 0.1]\n",
    "\n",
    "# choose species traits\n",
    "gs = [g1, 1.2]\n",
    "ls = [1, 1]\n",
    "nus = np.array([nu1, nu2])\n",
    "\n",
    "\n",
    "### calculate saturation time\n",
    "tsat = CalcRelativeSaturationTime(xs,gs,ls, nus)"
   ]
  },
  {
   "cell_type": "code",
   "execution_count": null,
   "metadata": {},
   "outputs": [],
   "source": [
    "## calculate trajectories\n",
    "t_vec = np.arange(xmin,xmax, 0.01) # should include lag times\n",
    "N1 = [time2abundance(t, xs[0], gs[0], ls[0], tsat) for t in t_vec]\n",
    "N2 = [time2abundance(t, xs[1], gs[1], ls[1], tsat) for t in t_vec]\n"
   ]
  },
  {
   "cell_type": "code",
   "execution_count": null,
   "metadata": {},
   "outputs": [],
   "source": [
    "fig, ax = plt.subplots(figsize = (2.5,2))\n",
    "ax.plot(t_vec,np.log10(N1), color = color1, lw = lw)\n",
    "ax.plot(t_vec,np.log10(N2), color =color2, lw = lw)\n",
    "\n",
    "### fix window of view\n",
    "ax.set_xlim(xmin,xmax)\n",
    "ax.set_ylim(ymin,ymax)\n",
    "\n",
    "### remove tick\n",
    "ax.tick_params(left=False, labelleft=False, bottom = False, labelbottom = False)\n",
    "\n",
    "\n",
    "fig.savefig(FIG_DIR + 'growthcurve_pairwise_competition_A_only_growth.png', DPI = DPI)"
   ]
  },
  {
   "cell_type": "markdown",
   "metadata": {},
   "source": [
    "### Scenario B: bulk competition with mutants at low frequency"
   ]
  },
  {
   "cell_type": "code",
   "execution_count": null,
   "metadata": {},
   "outputs": [],
   "source": [
    "\n",
    "# set initial frequencies\n",
    "xs = [0.7, 0.1,0.1,0.1]\n",
    "\n",
    "# choose species traits\n",
    "gs = [g1, g2, g3,g4]\n",
    "ls = [l2, l2, l2, l2]\n",
    "nus = [nu1, nu2, nu3, nu4]\n",
    "\n",
    "\n",
    "### calculate saturation time\n",
    "tsat = CalcRelativeSaturationTime(xs,gs,ls, nus)"
   ]
  },
  {
   "cell_type": "code",
   "execution_count": null,
   "metadata": {},
   "outputs": [],
   "source": [
    "## calculate trajectories\n",
    "t_vec = np.arange(xmin,xmax, 0.01) # should include lag times\n",
    "N1 = [time2abundance(t, xs[0], g1, l1, tsat) for t in t_vec]\n",
    "N2 = [time2abundance(t, xs[1], g2, l2, tsat) for t in t_vec]\n",
    "N3 = [time2abundance(t, xs[2], g3, l3, tsat) for t in t_vec]\n",
    "N4 = [time2abundance(t, xs[3], g4, l4, tsat) for t in t_vec]\n"
   ]
  },
  {
   "cell_type": "code",
   "execution_count": null,
   "metadata": {},
   "outputs": [],
   "source": [
    "fig, ax = plt.subplots(figsize = (2.5,2))\n",
    "ax.plot(t_vec,np.log10(N1), color = color1, lw = lw)\n",
    "ax.plot(t_vec,np.log10(N2), color =color2, lw = lw)\n",
    "ax.plot(t_vec,np.log10(N3), color = color3, lw = lw)\n",
    "ax.plot(t_vec,np.log10(N4), color =color4, lw = lw)\n",
    "\n",
    "\n",
    "### fix window of view\n",
    "ax.set_xlim(xmin,xmax)\n",
    "ax.set_ylim(ymin,ymax)\n",
    "\n",
    "\n",
    "### remove tick\n",
    "ax.tick_params(left=False, labelleft=False, bottom = False, labelbottom = False)\n",
    "\n",
    "\n",
    "fig.savefig(FIG_DIR + 'growthcurve_bulk_competition_B.png', DPI = DPI)"
   ]
  },
  {
   "cell_type": "markdown",
   "metadata": {},
   "source": [
    "### Scenario B: bulk competition with mutants at low frequency"
   ]
  },
  {
   "cell_type": "code",
   "execution_count": null,
   "metadata": {},
   "outputs": [],
   "source": [
    "\n",
    "# set initial frequencies\n",
    "xs = [0.4, 0.2,0.2,0.2]\n",
    "\n",
    "# choose species traits\n",
    "gs = [g1, 1.2, 0.5*g3,0.5*g4]\n",
    "ls = [1., 1., 1., 1.]\n",
    "nus = np.array([nu1, nu2, nu3, nu4])\n",
    "\n",
    "\n",
    "### calculate saturation time\n",
    "tsat = CalcRelativeSaturationTime(xs,gs,ls, nus)"
   ]
  },
  {
   "cell_type": "code",
   "execution_count": null,
   "metadata": {},
   "outputs": [],
   "source": [
    "## calculate trajectories\n",
    "t_vec = np.arange(xmin,xmax, 0.01) # should include lag times\n",
    "N1 = [time2abundance(t, xs[0], gs[0], ls[0], tsat) for t in t_vec]\n",
    "N2 = [time2abundance(t, xs[1], gs[1], ls[1], tsat) for t in t_vec]\n",
    "N3 = [time2abundance(t, xs[2], gs[2], ls[2], tsat) for t in t_vec]\n",
    "N4 = [time2abundance(t, xs[3], gs[3], ls[3], tsat) for t in t_vec]\n"
   ]
  },
  {
   "cell_type": "code",
   "execution_count": null,
   "metadata": {},
   "outputs": [],
   "source": [
    "fig, ax = plt.subplots(figsize = (2.5,2))\n",
    "ax.plot(t_vec,np.log10(N1), color = color1, lw = lw)\n",
    "ax.plot(t_vec,np.log10(N2), color =color2, lw = lw)\n",
    "ax.plot(t_vec,np.log10(N3), color = color3, lw = lw)\n",
    "ax.plot(t_vec,np.log10(N4), color =color4, lw = lw)\n",
    "\n",
    "\n",
    "### fix window of view\n",
    "ax.set_xlim(xmin,xmax)\n",
    "ax.set_ylim(ymin,ymax)\n",
    "\n",
    "\n",
    "### remove tick\n",
    "ax.tick_params(left=False, labelleft=False, bottom = False, labelbottom = False)\n",
    "\n",
    "\n",
    "fig.savefig(FIG_DIR + 'growthcurve_bulk_competition_B_longer_tsat.png', DPI = DPI)"
   ]
  },
  {
   "cell_type": "markdown",
   "metadata": {},
   "source": [
    "### Scenario C: bulk competition with mutants at fulll frequency"
   ]
  },
  {
   "cell_type": "code",
   "execution_count": null,
   "metadata": {},
   "outputs": [],
   "source": [
    "\n",
    "# set initial frequencies\n",
    "xs = [ 0.33,0.33,0.33]\n",
    "\n",
    "# choose species traits\n",
    "gs = [ g2, g3,g4]\n",
    "ls = [l2, l3, l4]\n",
    "nus = [nu2, nu3, nu4]\n",
    "\n",
    "\n",
    "### calculate saturation time\n",
    "tsat = CalcRelativeSaturationTime(xs,gs,ls, nus)"
   ]
  },
  {
   "cell_type": "code",
   "execution_count": null,
   "metadata": {},
   "outputs": [],
   "source": [
    "## calculate trajectories\n",
    "t_vec = np.arange(xmin,xmax, 0.01) # should include lag times\n",
    "N2 = [time2abundance(t, xs[0], g2, l2, tsat) for t in t_vec]\n",
    "N3 = [time2abundance(t, xs[1], g3, l3, tsat) for t in t_vec]\n",
    "N4 = [time2abundance(t, xs[2], g4, l4, tsat) for t in t_vec]\n"
   ]
  },
  {
   "cell_type": "code",
   "execution_count": null,
   "metadata": {},
   "outputs": [],
   "source": [
    "fig, ax = plt.subplots(figsize = (2.5,2))\n",
    "ax.plot(t_vec,np.log10(N2), color =color2, lw = lw)\n",
    "ax.plot(t_vec,np.log10(N3), color = color3, lw = lw)\n",
    "ax.plot(t_vec,np.log10(N4), color =color4, lw = lw)\n",
    "\n",
    "\n",
    "### fix window of view\n",
    "ax.set_xlim(xmin,xmax)\n",
    "ax.set_ylim(ymin,ymax)\n",
    "\n",
    "\n",
    "### remove tick\n",
    "ax.tick_params(left=False, labelleft=False, bottom = False, labelbottom = False)\n",
    "\n",
    "\n",
    "fig.savefig(FIG_DIR + 'growthcurve_bulk_competition_C.png', DPI = DPI)"
   ]
  },
  {
   "cell_type": "code",
   "execution_count": null,
   "metadata": {},
   "outputs": [],
   "source": []
  },
  {
   "cell_type": "code",
   "execution_count": null,
   "metadata": {},
   "outputs": [],
   "source": []
  }
 ],
 "metadata": {
  "kernelspec": {
   "display_name": "Python 3",
   "language": "python",
   "name": "python3"
  },
  "language_info": {
   "codemirror_mode": {
    "name": "ipython",
    "version": 3
   },
   "file_extension": ".py",
   "mimetype": "text/x-python",
   "name": "python",
   "nbconvert_exporter": "python",
   "pygments_lexer": "ipython3",
   "version": "3.7.13"
  }
 },
 "nbformat": 4,
 "nbformat_minor": 4
}
