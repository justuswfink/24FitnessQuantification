{
 "cells": [
  {
   "cell_type": "markdown",
   "metadata": {},
   "source": [
    "### compare predictions from absolute fitness to pairwise competition "
   ]
  },
  {
   "cell_type": "code",
   "execution_count": null,
   "metadata": {},
   "outputs": [],
   "source": [
    "\n",
    "\n",
    "### execute script to load modules here\n",
    "exec(open('setup_aesthetics.py').read())"
   ]
  },
  {
   "cell_type": "code",
   "execution_count": null,
   "metadata": {},
   "outputs": [],
   "source": [
    "import pandas as pd           \n",
    "\n",
    "import numpy as np\n",
    "import matplotlib.pyplot as plt\n",
    "import matplotlib.patches as patches\n",
    "\n",
    "from scipy import integrate\n",
    "from scipy import stats\n",
    "import random\n",
    "\n",
    "from scipy.stats import spearmanr, pearsonr\n",
    "from latex_format import float2latex\n"
   ]
  },
  {
   "cell_type": "code",
   "execution_count": null,
   "metadata": {},
   "outputs": [],
   "source": [
    "from bulk_simulation_code import run_pairwise_experiment\n",
    "from bulk_simulation_code import CalcRelativeYield,CalcReferenceFrequency\n",
    "from bulk_simulation_code import CalcTotalSelectionCoefficientLogit\n",
    "from m3_model import CalcRelativeSaturationTime as CalcSaturationTimeExact"
   ]
  },
  {
   "cell_type": "code",
   "execution_count": null,
   "metadata": {},
   "outputs": [],
   "source": [
    "### Update dependent parameters according to input\n",
    "import os\n",
    "import os.path\n",
    "from os import path\n",
    "\n",
    "## create export directory if necessary\n",
    "## foldernames for output plots/lists produced in this notebook\n",
    "import os\n",
    "FIG_DIR_STEM = f'./figures/absolute_fitness/'\n",
    "os.makedirs(FIG_DIR_STEM, exist_ok=True)\n"
   ]
  },
  {
   "cell_type": "code",
   "execution_count": null,
   "metadata": {},
   "outputs": [],
   "source": [
    "\n",
    "\n",
    "### execute script to load modules here\n",
    "exec(open('setup_aesthetics.py').read())"
   ]
  },
  {
   "cell_type": "code",
   "execution_count": null,
   "metadata": {},
   "outputs": [],
   "source": [
    "DATASET_COLOR = 'darkorange'"
   ]
  },
  {
   "cell_type": "code",
   "execution_count": null,
   "metadata": {
    "tags": [
     "parameters"
    ]
   },
   "outputs": [],
   "source": [
    "### set initial frequency of competition\n",
    "\n",
    "INITIAL_FREQ = 0.5\n",
    "\n",
    "\n",
    "## set which trait distribution to plot\n",
    "\n",
    "DIST = 'no_lag_variation'\n",
    "\n",
    "### set which time to use for AUC cutoff\n",
    "AUC_CUTOFF_TIME = 16"
   ]
  },
  {
   "cell_type": "markdown",
   "metadata": {},
   "source": [
    "See cell [below](#create-subsets-of-data-only-with-marginals) for a choice of trait distributions."
   ]
  },
  {
   "cell_type": "code",
   "execution_count": null,
   "metadata": {},
   "outputs": [],
   "source": [
    "SUFFIX_DATASET = f'{DIST}/AUC_CUTOFF_{AUC_CUTOFF_TIME}/'\n",
    "\n",
    "FIG_DIR = FIG_DIR_STEM + SUFFIX_DATASET\n",
    "os.makedirs(FIG_DIR, exist_ok=True)\n"
   ]
  },
  {
   "cell_type": "markdown",
   "metadata": {},
   "source": [
    "### Load wild-type traits"
   ]
  },
  {
   "cell_type": "code",
   "execution_count": null,
   "metadata": {},
   "outputs": [],
   "source": [
    "INDEX_COL = [0,1,2,3,4]\n",
    "list_na_representations = ['not_present', 'failed_to_compute']"
   ]
  },
  {
   "cell_type": "code",
   "execution_count": null,
   "metadata": {},
   "outputs": [],
   "source": [
    "PCWS_TRAITS_WARRINGER = './output/df_M3_traits.csv'\n",
    "df_warringer = pd.read_csv(PCWS_TRAITS_WARRINGER, header = 0, index_col= INDEX_COL,\\\n",
    "                                  float_precision=None, na_values=list_na_representations)\n"
   ]
  },
  {
   "cell_type": "code",
   "execution_count": null,
   "metadata": {},
   "outputs": [],
   "source": [
    "### define default wild_type\n",
    "df_wildtypes = df_warringer[df_warringer['is_wildtype']==True]\n",
    "\n",
    "WILDTYPE = df_wildtypes.median(axis = 0, numeric_only = True)"
   ]
  },
  {
   "cell_type": "markdown",
   "metadata": {},
   "source": [
    "### Load mutant data (averaged)"
   ]
  },
  {
   "cell_type": "code",
   "execution_count": null,
   "metadata": {},
   "outputs": [],
   "source": [
    "\n",
    "PCWS_TRAITS_WARRINGER_AVERAGED = './output/df_M3_traits_averaged.csv'\n",
    "df_averaged = pd.read_csv(PCWS_TRAITS_WARRINGER_AVERAGED, header = 0, float_precision=None)"
   ]
  },
  {
   "cell_type": "code",
   "execution_count": null,
   "metadata": {},
   "outputs": [],
   "source": [
    "### assign wild-type label\n",
    "def is_wildtype(row):\n",
    "    genotype = row['genotype']\n",
    "    \n",
    "    if genotype == 'BY4741':\n",
    "        return True\n",
    "    else:\n",
    "        return False\n",
    "    \n",
    "\n",
    "row = df_averaged.iloc[0]\n",
    "is_wildtype(row)"
   ]
  },
  {
   "cell_type": "code",
   "execution_count": null,
   "metadata": {},
   "outputs": [],
   "source": [
    "df_averaged['is_wildtype'] = df_averaged.apply(is_wildtype, axis =1)"
   ]
  },
  {
   "cell_type": "code",
   "execution_count": null,
   "metadata": {},
   "outputs": [],
   "source": [
    "### append mutant values (averaged) to set of individual wild-type strains\n",
    "df_knockouts = df_averaged[~df_averaged['is_wildtype']]\n",
    "df_knockouts = df_knockouts\n",
    "df_all_vary = df_wildtypes.reset_index().append(df_knockouts.reset_index())"
   ]
  },
  {
   "cell_type": "code",
   "execution_count": null,
   "metadata": {},
   "outputs": [],
   "source": [
    "### restore index\n",
    "index_col_names = df_warringer.index.names\n",
    "df_all_vary = df_all_vary.set_index(index_col_names)\n"
   ]
  },
  {
   "cell_type": "code",
   "execution_count": null,
   "metadata": {},
   "outputs": [],
   "source": [
    "n_wildtypes = sum(df_all_vary['is_wildtype'])\n",
    "n_knockouts = sum(~df_all_vary['is_wildtype'])"
   ]
  },
  {
   "cell_type": "markdown",
   "metadata": {},
   "source": [
    "### Set units of time"
   ]
  },
  {
   "cell_type": "code",
   "execution_count": null,
   "metadata": {},
   "outputs": [],
   "source": [
    "df_all_vary['gmax'] = df_all_vary['gmax']*60 # change units to growth rate per hour\n",
    "df_all_vary['lag']  = df_all_vary['lag']/60 # change units to hour\n",
    "\n"
   ]
  },
  {
   "cell_type": "code",
   "execution_count": null,
   "metadata": {},
   "outputs": [],
   "source": [
    "WILDTYPE['gmax'] = WILDTYPE['gmax']*60 # change units to growth rate per hour\n",
    "WILDTYPE['lag']  = WILDTYPE['lag']/60 # change units to hour"
   ]
  },
  {
   "cell_type": "markdown",
   "metadata": {},
   "source": [
    "### create subsets of data only with marginals"
   ]
  },
  {
   "cell_type": "code",
   "execution_count": null,
   "metadata": {},
   "outputs": [],
   "source": [
    "dist2data = {}\n",
    "\n",
    "## full datadist with all traits\n",
    "tmp = df_all_vary.copy(deep=True)\n",
    "dist2data['all_traits_vary'] = tmp\n",
    "## distribution with no yield variation\n",
    "tmp = df_all_vary.copy(deep=True)\n",
    "tmp['yield'] = WILDTYPE['yield']\n",
    "dist2data['no_yield_variation'] = tmp\n",
    "## distribution with some yield variation, but only equal or larger than wild-type\n",
    "tmp = df_all_vary.copy(deep=True)\n",
    "tmp['yield'] = [v if v > WILDTYPE['yield'] else WILDTYPE['yield'] for v in df_all_vary['yield']]\n",
    "dist2data['no_deleterious_yield'] = tmp\n",
    "## distribution with no growth rate variation\n",
    "tmp = df_all_vary.copy(deep=True)\n",
    "tmp['gmax'] = WILDTYPE['gmax']\n",
    "dist2data['no_gmax_variation'] = tmp\n",
    "## distribution with no growth rate variation\n",
    "tmp = df_all_vary.copy(deep=True)\n",
    "tmp['lag'] = WILDTYPE['lag']\n",
    "dist2data['no_lag_variation'] = tmp\n",
    "\n",
    "## marginal distribution in gmax\n",
    "tmp = df_all_vary.copy(deep=True)\n",
    "tmp['lag'] = WILDTYPE['lag']\n",
    "tmp['yield'] = WILDTYPE['yield']\n",
    "dist2data[ 'only_gmax_varies'] = tmp\n",
    "## marginal distribution in lag\n",
    "tmp = df_all_vary.copy(deep=True)\n",
    "tmp['yield'] = WILDTYPE['yield']\n",
    "tmp['gmax'] = WILDTYPE['gmax']\n",
    "dist2data[ 'only_lag_varies'] = tmp\n",
    "## marginal distribution in yield\n",
    "tmp = df_all_vary.copy(deep=True)\n",
    "tmp['lag'] = WILDTYPE['lag']\n",
    "tmp['gmax'] = WILDTYPE['gmax']\n",
    "dist2data[ 'only_yield_varies'] = tmp\n"
   ]
  },
  {
   "cell_type": "markdown",
   "metadata": {},
   "source": [
    "### Choose subset"
   ]
  },
  {
   "cell_type": "code",
   "execution_count": null,
   "metadata": {},
   "outputs": [],
   "source": [
    "df_input = dist2data[DIST]"
   ]
  },
  {
   "cell_type": "markdown",
   "metadata": {},
   "source": [
    "### Load trait data into the standard form required by Michaels code"
   ]
  },
  {
   "cell_type": "code",
   "execution_count": null,
   "metadata": {},
   "outputs": [],
   "source": [
    "n_input = df_input.shape[0]"
   ]
  },
  {
   "cell_type": "code",
   "execution_count": null,
   "metadata": {},
   "outputs": [],
   "source": [
    "### growth rates\n",
    "gs = np.zeros(n_input+1)\n",
    "gs[0] = WILDTYPE['gmax']\n",
    "gs[1:] = df_input['gmax'].values\n",
    "\n",
    "### lag times\n",
    "ls = np.zeros(n_input+1)\n",
    "ls[0] = WILDTYPE['lag']\n",
    "ls[1:] = df_input['lag'].values\n",
    "\n",
    "### yield\n",
    "Ys = np.zeros(n_input+1)\n",
    "Ys[0] = WILDTYPE['yield']\n",
    "Ys[1:] = df_input['yield'].values\n"
   ]
  },
  {
   "cell_type": "markdown",
   "metadata": {},
   "source": [
    "### Define initial condition for bulk growth cycle"
   ]
  },
  {
   "cell_type": "code",
   "execution_count": null,
   "metadata": {},
   "outputs": [],
   "source": [
    "### set initial resource concentrations\n",
    "\n",
    "CONCENTRATION_GLUCOSE = 20/180 * 1e3 # concentrations are recored  in milliMolar, to match the units of yield\n",
    "print(CONCENTRATION_GLUCOSE)"
   ]
  },
  {
   "cell_type": "code",
   "execution_count": null,
   "metadata": {},
   "outputs": [],
   "source": [
    "### define default initial_OD\n",
    "OD_START = 0.05  #df_warringer['od_start'].median()\n",
    "\n",
    "### compare to initial OD in the monoculture cycles\n",
    "fig, ax = plt.subplots(figsize = (FIGWIDTH_TRIPLET, FIGHEIGHT_TRIPLET))\n",
    "\n",
    "ax = df_warringer['od_start'].hist(bins=41, color = DATASET_COLOR, alpha = 0.6, log = True, rasterized = True)\n",
    "\n",
    "\n",
    "ax.axvline(OD_START, color = 'tab:red', label = f'median value: $N_0={OD_START:.3f}$')\n",
    "ax.legend()\n",
    "ax.set_xlabel('initial OD')\n",
    "ax.set_ylabel('no. growth curves')"
   ]
  },
  {
   "cell_type": "markdown",
   "metadata": {},
   "source": [
    "### Calculate effective yield"
   ]
  },
  {
   "cell_type": "code",
   "execution_count": null,
   "metadata": {},
   "outputs": [],
   "source": [
    "from bulk_simulation_code import CalcRelativeYield"
   ]
  },
  {
   "cell_type": "code",
   "execution_count": null,
   "metadata": {},
   "outputs": [],
   "source": [
    "### calculcate effective yields\n",
    "nus = CalcRelativeYield(Ys, R0 = CONCENTRATION_GLUCOSE, N0 = OD_START)\n"
   ]
  },
  {
   "cell_type": "markdown",
   "metadata": {},
   "source": [
    "### Simulate pairwise competition growth cycles"
   ]
  },
  {
   "cell_type": "code",
   "execution_count": null,
   "metadata": {},
   "outputs": [],
   "source": [
    "from bulk_simulation_code import toPerGeneration"
   ]
  },
  {
   "cell_type": "code",
   "execution_count": null,
   "metadata": {},
   "outputs": [],
   "source": [
    "%%time\n",
    "xs_pair, xs_pair_final, tsats,fcs_both, fcs_wt, fcs_mut = run_pairwise_experiment(\n",
    "                                                                gs=gs,   ls=ls,   nus = nus, \n",
    "                                                                g1=gs[0],l1=ls[0],nu1=nus[0],\n",
    "                                                                x0 = INITIAL_FREQ)"
   ]
  },
  {
   "cell_type": "code",
   "execution_count": null,
   "metadata": {},
   "outputs": [],
   "source": [
    "s_percycle = CalcTotalSelectionCoefficientLogit(xs_pair,xs_pair_final)\n",
    "s_pergen = np.divide(s_percycle, np.log(fcs_wt))"
   ]
  },
  {
   "cell_type": "code",
   "execution_count": null,
   "metadata": {},
   "outputs": [],
   "source": [
    "fig,axes = plt.subplots(1,2, figsize = (2*FIGWIDTH_TRIPLET,FIGHEIGHT_TRIPLET))\n",
    "ax = axes[0]\n",
    "ax.hist(tsats, log = True)\n",
    "ax.set_xlabel('Saturation Time')\n",
    "ax = axes[1]\n",
    "ax.hist(fcs_both, log = True)\n",
    "ax.set_xlabel('Total Fold-Change')"
   ]
  },
  {
   "cell_type": "markdown",
   "metadata": {},
   "source": [
    "### store results"
   ]
  },
  {
   "cell_type": "code",
   "execution_count": null,
   "metadata": {},
   "outputs": [],
   "source": [
    "df_output = df_input.copy()"
   ]
  },
  {
   "cell_type": "code",
   "execution_count": null,
   "metadata": {},
   "outputs": [],
   "source": [
    "## compute true outpu\n",
    "\n",
    "df_output['logfc_wt'] = np.log(fcs_wt[1:])\n",
    "df_output['logfc_mut'] = np.log(fcs_mut[1:])\n",
    "\n",
    "df_output['logit_percycle'] = s_percycle[1:]\n",
    "df_output['logit_pergen'] = s_pergen[1:]\n",
    "\n"
   ]
  },
  {
   "cell_type": "code",
   "execution_count": null,
   "metadata": {},
   "outputs": [],
   "source": [
    "### compute proxies\n",
    "\n",
    "df_output['delta_gmax'] = df_output['gmax'] - WILDTYPE['gmax']\n",
    "df_output['delta_lag'] = df_output['lag'] - WILDTYPE['lag']\n",
    "df_output['delta_yield'] = df_output['yield'] - WILDTYPE['yield']"
   ]
  },
  {
   "cell_type": "markdown",
   "metadata": {},
   "source": [
    "### simulate monoculture growth"
   ]
  },
  {
   "cell_type": "code",
   "execution_count": null,
   "metadata": {},
   "outputs": [],
   "source": [
    "### To calculate the fold-change in monoculture, \n",
    "# we can use the same code but with a 100% mutant frequency"
   ]
  },
  {
   "cell_type": "code",
   "execution_count": null,
   "metadata": {},
   "outputs": [],
   "source": [
    "%%time\n",
    "xs_pair, xs_pair_final, tsats,fcs_both, fcs_wt, fcs_mut = run_pairwise_experiment(\n",
    "                                                                gs=gs,   ls=ls,   nus = nus, \n",
    "                                                                g1=gs[0],l1=ls[0],nu1=nus[0],\n",
    "                                                                x0 = 1.)\n",
    "\n",
    "\n",
    "## store the saturation time in monoculture\n",
    "WILDTYPE['tsat_mono'] = tsats[0]\n",
    "df_output['tsat_mono'] = tsats[1:]\n",
    "\n",
    "## store the fold-changes in monoculture\n",
    "\n",
    "\n",
    "WILDTYPE['logfc_mono'] = np.log(fcs_mut[0]) # index 0 is the median wild-type\n",
    "df_output['logfc_mono'] = np.log(fcs_mut[1:])"
   ]
  },
  {
   "cell_type": "code",
   "execution_count": null,
   "metadata": {},
   "outputs": [],
   "source": [
    "## check monoculture growth\n",
    "np.testing.assert_array_equal(xs_pair,1.) # initally the  mutant is 100% of biomass\n",
    "np.testing.assert_array_equal(xs_pair_final,1.) # finally the  mutant is 100% of biomass\n",
    "\n",
    "np.testing.assert_array_equal(fcs_wt, 1.)\n",
    "np.testing.assert_array_equal(fcs_mut, fcs_both)"
   ]
  },
  {
   "cell_type": "markdown",
   "metadata": {},
   "source": [
    "### Prepare data for plotting"
   ]
  },
  {
   "cell_type": "code",
   "execution_count": null,
   "metadata": {},
   "outputs": [],
   "source": [
    "### sort by label prepare for plotting\n",
    "\n",
    "def row2label(row):\n",
    "    if row['is_wildtype'] == True:\n",
    "        return 'wild-type'\n",
    "    else:\n",
    "        return 'knockout'\n",
    "    "
   ]
  },
  {
   "cell_type": "code",
   "execution_count": null,
   "metadata": {},
   "outputs": [],
   "source": [
    "df_output['label']  = df_output.apply(row2label,axis=1)\n",
    "\n",
    "df_output = df_output.sort_values('label')"
   ]
  },
  {
   "cell_type": "code",
   "execution_count": null,
   "metadata": {},
   "outputs": [],
   "source": [
    "palette = {'wild-type':'orange', 'knockout': 'dimgrey'}\n"
   ]
  },
  {
   "cell_type": "markdown",
   "metadata": {},
   "source": [
    "### Compute  delta log-foldchange in monoculture"
   ]
  },
  {
   "cell_type": "code",
   "execution_count": null,
   "metadata": {},
   "outputs": [],
   "source": [
    "### compute log-foldchange as an absolute fitness prox\n",
    "\n",
    "df_output['delta_logfc_mono'] = df_output['logfc_mono'] - WILDTYPE['logfc_mono']"
   ]
  },
  {
   "cell_type": "code",
   "execution_count": null,
   "metadata": {},
   "outputs": [],
   "source": [
    "# check distribution of logfc values\n",
    "fig,ax = plt.subplots()\n",
    "sns.histplot(df_output, x= 'logfc_mono', ax = ax, hue = 'label', palette = palette)\n",
    "ax.set_yscale('log')\n",
    "ax.axvline(WILDTYPE['logfc_mono'], color = 'tab:red')\n"
   ]
  },
  {
   "cell_type": "code",
   "execution_count": null,
   "metadata": {},
   "outputs": [],
   "source": [
    "# check correlation of fold-change in mono and co-culture\n",
    "fig,ax = plt.subplots()\n",
    "sns.scatterplot(df_output, x= 'logfc_mono', y = 'logfc_mut', ax = ax,\n",
    "                hue = 'label', palette = palette)\n",
    "\n",
    "ax.legend([],[])\n",
    "ax.legend(frameon = False)"
   ]
  },
  {
   "cell_type": "markdown",
   "metadata": {},
   "source": [
    "### Compute area under the curve in monoculture"
   ]
  },
  {
   "cell_type": "code",
   "execution_count": null,
   "metadata": {},
   "outputs": [],
   "source": [
    "# define the evaluation time for area under the curve\n",
    "t_trim = AUC_CUTOFF_TIME\n",
    "print(f\"Integrating the area under the curve up to a time t_trim = {t_trim:.2f}.\")\n",
    "\n",
    "fig,ax = plt.subplots(figsize = (FIGHEIGHT_TRIPLET,FIGHEIGHT_TRIPLET,))\n",
    "ax.axvline(t_trim, color = 'black', label = 'time window for AUC')\n",
    "sns.histplot(df_output, x = 'tsat_mono', hue = 'label', palette = palette, legend = True)\n",
    "ax.legend_.set_title('')\n",
    "\n",
    "ax.set_yscale('log')\n",
    "\n",
    "ax.set_xlabel('saturation time in monoculture [hours]')\n",
    "ax.set_ylabel('number of growth curves')\n",
    "\n",
    "\n",
    "fig.savefig(FIG_DIR + f'choice_of_timewindow_AUC_x0={INITIAL_FREQ:.2f}.pdf', DPI = DPI, bbox_inches = 'tight', pad_inches = PAD_INCHES)\n"
   ]
  },
  {
   "cell_type": "code",
   "execution_count": null,
   "metadata": {},
   "outputs": [],
   "source": [
    "from bulk_simulation_code import CalcAbundanceTimeseries, CalcAreaUnderTheCurve"
   ]
  },
  {
   "cell_type": "code",
   "execution_count": null,
   "metadata": {},
   "outputs": [],
   "source": [
    "tvec = np.linspace(0,t_trim)\n",
    "\n",
    "def row2AUC(row):\n",
    "    tsat = row['tsat_mono']\n",
    "    g,l = row[['gmax', 'lag']]\n",
    "    t, y = CalcAbundanceTimeseries(tvec, g,l,tsat=tsat, N0 = OD_START)\n",
    "    return CalcAreaUnderTheCurve(t,y, t_trim = t_trim)\n",
    "    \n",
    "    \n",
    "    \n",
    "## test\n",
    "row = df_output.iloc[2]\n",
    "row2AUC(row)"
   ]
  },
  {
   "cell_type": "code",
   "execution_count": null,
   "metadata": {},
   "outputs": [],
   "source": [
    "### apply to all points\n",
    "df_output['AUC_mono'] = df_output.apply(row2AUC, axis = 1)"
   ]
  },
  {
   "cell_type": "code",
   "execution_count": null,
   "metadata": {},
   "outputs": [],
   "source": [
    "## calculate for wild-type\n",
    "\n",
    "tsat = tsats[0]\n",
    "g, l = gs[0], ls[0]\n",
    "t, y = CalcAbundanceTimeseries(tvec, g,l,tsat=tsat, N0 = OD_START)\n",
    "WILDTYPE['AUC_mono']= CalcAreaUnderTheCurve(t,y, t_trim = t_trim)"
   ]
  },
  {
   "cell_type": "code",
   "execution_count": null,
   "metadata": {},
   "outputs": [],
   "source": [
    "# check distribution of AUC values\n",
    "fig,ax = plt.subplots()\n",
    "sns.histplot(df_output, x= 'AUC_mono', ax = ax, hue = 'label', palette = palette)\n",
    "ax.set_yscale('log')\n",
    "ax.axvline(WILDTYPE['AUC_mono'], color = 'tab:red')"
   ]
  },
  {
   "cell_type": "code",
   "execution_count": null,
   "metadata": {},
   "outputs": [],
   "source": [
    "df_output['delta_AUC_mono'] = df_output['AUC_mono'] - WILDTYPE['AUC_mono']"
   ]
  },
  {
   "cell_type": "markdown",
   "metadata": {},
   "source": [
    "### compare impact of different variables"
   ]
  },
  {
   "cell_type": "code",
   "execution_count": null,
   "metadata": {},
   "outputs": [],
   "source": [
    "### choose target variable\n",
    "\n",
    "target = 'logit_percycle'### choose dataset\n",
    "\n",
    "df_subset = df_output\n",
    "\n"
   ]
  },
  {
   "cell_type": "code",
   "execution_count": null,
   "metadata": {},
   "outputs": [],
   "source": [
    "## rich labels\n",
    "\n",
    "column2label = {'delta_gmax':r'$\\Delta$ growth rate:'+'\\n'+r'$g_{\\mathrm{mut}}-g_{\\mathrm{wt}}$',\n",
    "                'delta_lag':r'$\\Delta$ lag time:'+'\\n'+r'$\\lambda_{\\mathrm{mut}}-\\lambda_{\\mathrm{wt}}$',\n",
    "                'delta_yield':r'$\\Delta$ biomass yield:'+'\\n'+r'$Y_{\\mathrm{mut}}-Y_{\\mathrm{wt}}$',\n",
    "                'delta_logfc_mono':r'$\\Delta$ log fold-change:'+'\\n'+r'$\\mathrm{LFC}_{\\mathrm{mut}}-\\mathrm{LFC}_{\\mathrm{wt}}$',\n",
    "                'delta_AUC_mono':r'$\\Delta$ area under curve:'+'\\n'+r'$\\mathrm{AUC}_{\\mathrm{mut}}-\\mathrm{AUC}_{\\mathrm{wt}}$',\n",
    "               }\n"
   ]
  },
  {
   "cell_type": "code",
   "execution_count": null,
   "metadata": {},
   "outputs": [],
   "source": [
    "## simple labels\n",
    "\n",
    "column2label = {'delta_gmax':r'$\\Delta\\; g$ ',\n",
    "                'delta_lag':r'$\\Delta$ lag',\n",
    "                'delta_yield':r'$\\Delta$ yield',\n",
    "                'delta_logfc_mono':r'$\\Delta\\; \\mathrm{LFC}$',\n",
    "                'delta_AUC_mono':r'$\\Delta\\; \\mathrm{AUC}$',\n",
    "               }\n"
   ]
  },
  {
   "cell_type": "markdown",
   "metadata": {},
   "source": [
    "### set up a correlation analysis"
   ]
  },
  {
   "cell_type": "code",
   "execution_count": null,
   "metadata": {},
   "outputs": [],
   "source": [
    "from scipy.stats import spearmanr"
   ]
  },
  {
   "cell_type": "code",
   "execution_count": null,
   "metadata": {},
   "outputs": [],
   "source": [
    "### set up datastorage for results from linear regression\n",
    "df_correlation = pd.DataFrame()\n",
    "\n",
    "\n",
    "for predictor  in column2label.keys():\n",
    "\n",
    "    x = df_subset[predictor].values\n",
    "    y = df_subset[target].values\n",
    "    try:\n",
    "        result = spearmanr(x,y)\n",
    "    except Exception as e: \n",
    "        print(predictor)\n",
    "        print(e)\n",
    "        result = (np.nan, np.nan)\n",
    "    \n",
    "    series = {'predictor':predictor, 'spearman_r':result[0],\n",
    "              'n_obs':len(x), 'pvalue':result[1],\n",
    "              'label' :column2label[predictor]}\n",
    "    df_correlation = df_correlation.append(series,ignore_index=True)\n",
    "\n",
    "\n",
    "## update index\n",
    "df_correlation.reset_index(drop = True, inplace = True)"
   ]
  },
  {
   "cell_type": "code",
   "execution_count": null,
   "metadata": {},
   "outputs": [],
   "source": [
    "## add absolute value\n",
    "df_correlation['spearman_abs'] = np.abs(df_correlation['spearman_r'])"
   ]
  },
  {
   "cell_type": "code",
   "execution_count": null,
   "metadata": {},
   "outputs": [],
   "source": [
    "def row2masked(row):\n",
    "    temp = row.copy(deep=True)\n",
    "    temp['spearman_abs'] = np.nan\n",
    "    return temp"
   ]
  },
  {
   "cell_type": "code",
   "execution_count": null,
   "metadata": {},
   "outputs": [],
   "source": [
    "### choose color\n",
    "cmap = sns.color_palette('Set2', as_cmap=True)\n",
    "color = cmap(8/8)"
   ]
  },
  {
   "cell_type": "code",
   "execution_count": null,
   "metadata": {},
   "outputs": [],
   "source": [
    "fig,ax = plt.subplots(figsize = (FIGHEIGHT_TRIPLET,FIGHEIGHT_TRIPLET,))\n",
    "\n",
    "set_colors = set()\n",
    "\n",
    "\n",
    "sns.barplot(df_correlation,x='label', y = 'spearman_abs', ax =ax, color = color, \n",
    "            order = df_correlation['label'])\n",
    "\n",
    "\n",
    "    \n",
    "ax.set_ylim(0,1)\n",
    "\n",
    "ax.set_xlabel(\"\")\n",
    "ax.set_ylabel(r\"magnitude of rank correlation $|\\rho|$\")\n",
    "\n",
    "#rotate labels\n",
    "#_ = plt.xticks(rotation=90)\n",
    "\n",
    "#ax.legend(frameon = False)\n",
    "\n",
    "\n",
    "fig.savefig(FIG_DIR + f'barplot_spearman_{target}_x0={INITIAL_FREQ:.2f}.pdf', DPI = DPI, bbox_inches = 'tight', pad_inches = PAD_INCHES)\n"
   ]
  },
  {
   "cell_type": "code",
   "execution_count": null,
   "metadata": {},
   "outputs": [],
   "source": [
    "### make a nice print\n",
    "print(df_correlation[['predictor', 'spearman_r', 'pvalue', 'n_obs']].to_markdown())"
   ]
  },
  {
   "cell_type": "markdown",
   "metadata": {},
   "source": [
    "#### load additional modules for linear regression"
   ]
  },
  {
   "cell_type": "code",
   "execution_count": null,
   "metadata": {},
   "outputs": [],
   "source": [
    "import statsmodels.api as sm\n",
    "import statsmodels.formula.api as smf"
   ]
  },
  {
   "cell_type": "code",
   "execution_count": null,
   "metadata": {},
   "outputs": [],
   "source": [
    "### we use a custom function to convert \n",
    "from latex_format import float2latex\n",
    "\n",
    "## test\n",
    "float2latex(1.12345e-12, display = '.2e')"
   ]
  },
  {
   "cell_type": "markdown",
   "metadata": {},
   "source": [
    "### run linear regresion"
   ]
  },
  {
   "cell_type": "code",
   "execution_count": null,
   "metadata": {},
   "outputs": [],
   "source": [
    "### set up datastorage for results from linear regression\n",
    "df_results = pd.DataFrame()\n",
    "\n",
    "\n",
    "for predictor  in column2label.keys():\n",
    "    \n",
    "    # note: the ols function automatically chooses a subset of the data\n",
    "    # such that rows that are missing a predictor variable are dropped\n",
    "    \n",
    "    \n",
    "    results = smf.ols(f'{target} ~ ' + predictor, data=df_subset).fit()\n",
    "    \n",
    "    series = {'predictor':predictor, 'rsquared':results.rsquared,\n",
    "              'n_obs':results.nobs, 'df_model':results.df_model, 'pvalue':results.f_pvalue,\n",
    "              'label' :column2label[predictor]}\n",
    "    df_results = df_results.append(series,ignore_index=True)\n",
    "\n",
    "\n",
    "## update index\n",
    "df_results.reset_index(drop = True, inplace = True)"
   ]
  },
  {
   "cell_type": "code",
   "execution_count": null,
   "metadata": {},
   "outputs": [],
   "source": [
    "def row2masked(row):\n",
    "    temp = row.copy(deep=True)\n",
    "    temp['rsquared'] = np.nan\n",
    "    return temp"
   ]
  },
  {
   "cell_type": "code",
   "execution_count": null,
   "metadata": {},
   "outputs": [],
   "source": [
    "### choose color\n",
    "cmap = sns.color_palette('Set2', as_cmap=True)\n",
    "color = cmap(8/8)"
   ]
  },
  {
   "cell_type": "code",
   "execution_count": null,
   "metadata": {},
   "outputs": [],
   "source": [
    "fig,ax = plt.subplots(figsize = (FIGHEIGHT_TRIPLET,FIGHEIGHT_TRIPLET,))\n",
    "\n",
    "set_colors = set()\n",
    "\n",
    "\n",
    "sns.barplot(df_results,x='label', y = 'rsquared', ax =ax, color = color, \n",
    "            order = df_results['label'])\n",
    "\n",
    "\n",
    "\n",
    "### sort \n",
    "for i in df_results.index:\n",
    "    \n",
    "   \n",
    "    ## print no datapoints\n",
    "    x = i - 0.25\n",
    "    y = df_results.at[i,'rsquared']+0.01\n",
    "    y = 0.01\n",
    "    n_obs = df_results.at[i,'n_obs']\n",
    "    text = f\"$n={n_obs:3.0f}$\"\n",
    "    ### add text\n",
    "    #ax.text(x, y, text,{'fontsize':9}) \n",
    "    \n",
    "\n",
    "    ## print p-value\n",
    "    p_value = df_results.at[i,'pvalue']\n",
    "    p_latex = float2latex(p_value, display=\".2g\")\n",
    "    text = fr\"$p={p_latex}$\"\n",
    "\n",
    "\n",
    "    x = i-0.1\n",
    "    y = 0.25\n",
    "    \n",
    "    ### add text\n",
    "    #ax.text(x, y, text,{'fontsize':10, 'rotation':90}) \n",
    "    \n",
    "\n",
    "    \n",
    "\n",
    "    \n",
    "ax.set_ylim(0,1)\n",
    "\n",
    "ax.set_xlabel(\"\")\n",
    "ax.set_ylabel(\"$R^2$ for linear model fit\")\n",
    "\n",
    "#rotate labels\n",
    "#_ = plt.xticks(rotation=90)\n",
    "\n",
    "#ax.legend(frameon = False)\n",
    "\n",
    "\n",
    "fig.savefig(FIG_DIR + f'barplot_rsquared_{target}_x0={INITIAL_FREQ:.2f}.pdf', DPI = DPI, bbox_inches = 'tight', pad_inches = PAD_INCHES)\n"
   ]
  },
  {
   "cell_type": "code",
   "execution_count": null,
   "metadata": {},
   "outputs": [],
   "source": [
    "### make a nice print\n",
    "print(df_results[['predictor', 'rsquared', 'pvalue', 'df_model', 'n_obs']].to_markdown())"
   ]
  },
  {
   "cell_type": "markdown",
   "metadata": {},
   "source": [
    "### Plot the correlation with Area under the Curve"
   ]
  },
  {
   "cell_type": "code",
   "execution_count": null,
   "metadata": {},
   "outputs": [],
   "source": [
    "fig,ax = plt.subplots(figsize = (FIGHEIGHT_TRIPLET,FIGHEIGHT_TRIPLET,))\n",
    "\n",
    "xvar = 'delta_AUC_mono'\n",
    "\n",
    "# plot raw datapoints\n",
    "sns.scatterplot(df_output, x = xvar, y = target, hue = 'label', \n",
    "                palette = palette)\n",
    "\n",
    "# plot regression line\n",
    "offset = results.params['Intercept'] \n",
    "slope = results.params[xvar]\n",
    "xmin,xmax = ax.get_xlim()\n",
    "xvec = np.linspace(xmin,xmax)\n",
    "ax.plot(xvec, xvec*slope + offset, color = 'tab:red', lw = 2, label = 'regression')\n",
    "\n",
    "## fix legend\n",
    "ax.legend([],[])\n",
    "ax.legend(frameon=False)\n",
    "\n",
    "ax.set_xlabel(r'area under the curve: $\\Delta \\mathrm{AUC}$')\n",
    "ax.set_ylabel('relative fitness per-cycle:' + r'  $s^{\\mathrm{logit}}_{\\mathrm{cycle}}$')\n",
    "\n",
    "\n",
    "\n",
    "fig.savefig(FIG_DIR + f'scatterplot_{xvar}-vs-{target}_x0={INITIAL_FREQ:.2f}.pdf', DPI = DPI, bbox_inches = 'tight', pad_inches = PAD_INCHES)\n"
   ]
  },
  {
   "cell_type": "markdown",
   "metadata": {},
   "source": [
    "### plot outlier with large Area under the curve"
   ]
  },
  {
   "cell_type": "code",
   "execution_count": null,
   "metadata": {},
   "outputs": [],
   "source": [
    "top_outliers = df_output.sort_values('AUC_mono', ascending = False)[:5]\n",
    "top_outliers[['gmax', 'lag', 'yield', 'tsat_mono']]"
   ]
  },
  {
   "cell_type": "code",
   "execution_count": null,
   "metadata": {},
   "outputs": [],
   "source": [
    "WILDTYPE[['gmax', 'lag', 'yield', 'tsat_mono']]"
   ]
  },
  {
   "cell_type": "code",
   "execution_count": null,
   "metadata": {},
   "outputs": [],
   "source": [
    "select = top_outliers.index[0]"
   ]
  },
  {
   "cell_type": "code",
   "execution_count": null,
   "metadata": {},
   "outputs": [],
   "source": [
    "g,l, tsat = top_outliers.loc[select, ['gmax', 'lag', 'tsat_mono']]\n",
    "\n",
    "tvec = np.linspace(0,25)\n",
    "t, y = CalcAbundanceTimeseries(tvec, g,l,tsat=tsat, N0 = OD_START)"
   ]
  },
  {
   "cell_type": "code",
   "execution_count": null,
   "metadata": {},
   "outputs": [],
   "source": [
    "fig, ax = plt.subplots()\n",
    "ax.plot(t,y, marker = 'x', label = 'timeseries')\n",
    "ax.axvline(l, label = 'lag time', color = 'black')\n",
    "ax.legend()\n",
    "\n",
    "ax.axvline(t_trim, label = 't_trim', color = 'tab:red')\n",
    "ax.set_yscale('log')\n",
    "ax.set_ylabel('log absolute abundance')\n",
    "ax.set_xlabel('time')"
   ]
  },
  {
   "cell_type": "code",
   "execution_count": null,
   "metadata": {},
   "outputs": [],
   "source": [
    "fig,ax = plt.subplots(figsize = (FIGHEIGHT_TRIPLET,FIGHEIGHT_TRIPLET,))\n",
    "\n",
    "xvar = 'AUC_mono'\n",
    "\n",
    "# plot raw datapoints\n",
    "sns.scatterplot(df_output, x = xvar, y = 'yield', hue = 'label', \n",
    "                palette = palette)\n"
   ]
  },
  {
   "cell_type": "code",
   "execution_count": null,
   "metadata": {},
   "outputs": [],
   "source": []
  },
  {
   "cell_type": "code",
   "execution_count": null,
   "metadata": {},
   "outputs": [],
   "source": []
  },
  {
   "cell_type": "code",
   "execution_count": null,
   "metadata": {},
   "outputs": [],
   "source": []
  }
 ],
 "metadata": {
  "kernelspec": {
   "display_name": "Python 3",
   "language": "python",
   "name": "python3"
  },
  "language_info": {
   "codemirror_mode": {
    "name": "ipython",
    "version": 3
   },
   "file_extension": ".py",
   "mimetype": "text/x-python",
   "name": "python",
   "nbconvert_exporter": "python",
   "pygments_lexer": "ipython3",
   "version": "3.7.13"
  }
 },
 "nbformat": 4,
 "nbformat_minor": 4
}
