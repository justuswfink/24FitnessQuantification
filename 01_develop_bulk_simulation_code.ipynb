{
 "cells": [
  {
   "cell_type": "markdown",
   "metadata": {},
   "source": [
    "### Develop code to simulate bulk competition experiments under the M3 model of population dynamics"
   ]
  },
  {
   "cell_type": "markdown",
   "metadata": {},
   "source": [
    "Note: In the future, need to fix the data dependencies of this notebook. The notebook in its current form requires a trait database to exist. In the future, replace these empirical traits with simulated traits to remove this dependency. The goal of this notebook is to generate a python module, and it should run independent of the data."
   ]
  },
  {
   "cell_type": "code",
   "execution_count": null,
   "metadata": {},
   "outputs": [],
   "source": [
    "%%writefile bulk_simulation_code.py \n",
    "        \n",
    "import numpy as np\n",
    "from m3_model import CalcRelativeSaturationTime as CalcSaturationTimeExact\n",
    "from m3_model import CalcFoldChange, CalcFoldChangeWholePopulation"
   ]
  },
  {
   "cell_type": "code",
   "execution_count": null,
   "metadata": {},
   "outputs": [],
   "source": [
    "import matplotlib.pyplot as plt\n"
   ]
  },
  {
   "cell_type": "code",
   "execution_count": null,
   "metadata": {},
   "outputs": [],
   "source": [
    "### Update dependent parameters according to input\n",
    "import os\n",
    "import os.path\n",
    "from os import path\n",
    "\n",
    "## create export directory if necessary\n",
    "## foldernames for output plots/lists produced in this notebook\n",
    "import os\n",
    "FIG_DIR = f'./figures/develop_bulk/'\n",
    "os.makedirs(FIG_DIR, exist_ok=True)\n",
    "print(\"All  plots will be stored in: \\n\" + FIG_DIR)"
   ]
  },
  {
   "cell_type": "code",
   "execution_count": null,
   "metadata": {},
   "outputs": [],
   "source": [
    "### execute script to load modules here\n",
    "exec(open('setup_aesthetics.py').read())"
   ]
  },
  {
   "cell_type": "code",
   "execution_count": null,
   "metadata": {},
   "outputs": [],
   "source": [
    "DATASET_COLOR = 'darkorange'\n"
   ]
  },
  {
   "cell_type": "markdown",
   "metadata": {},
   "source": [
    "### Generate simulated trait data into the standard form required by Michaels code"
   ]
  },
  {
   "cell_type": "code",
   "execution_count": null,
   "metadata": {},
   "outputs": [],
   "source": [
    "n = 200"
   ]
  },
  {
   "cell_type": "code",
   "execution_count": null,
   "metadata": {},
   "outputs": [],
   "source": [
    "from m3_model import GenerateGaussianTraits\n",
    "import numpy as np"
   ]
  },
  {
   "cell_type": "code",
   "execution_count": null,
   "metadata": {},
   "outputs": [],
   "source": [
    "### fix the state of the number generator for reproducible traits\n",
    "np.random.seed(28081995)\n",
    "\n",
    "### generate a random set of traits for growth rate and lag time \n",
    "gs, ls = GenerateGaussianTraits(x_mean = 1, x_sd = 0.1, y_mean = 2, y_sd = 0.5, rho = 0., num_types = n)\n",
    "\n",
    "## add traits for the biomass yield\n",
    "Ys = np.random.normal(loc = 0.8, scale= 0.3, size= n) \n",
    "\n",
    "## set traits for wild-type (at index 0 in the trait vector)\n",
    "gs[0], ls[0], Ys[0] = 1., 2., 1."
   ]
  },
  {
   "cell_type": "code",
   "execution_count": null,
   "metadata": {},
   "outputs": [],
   "source": [
    "### check sampled trait correlation in a plot\n",
    "\n",
    "fig, axes = plt.subplots(1,2, figsize = (2*FIGHEIGHT_TRIPLET, FIGHEIGHT_TRIPLET), sharex = True)\n",
    "\n",
    "ax = axes[0]\n",
    "ax.scatter(gs,ls)\n",
    "ax.set_xlabel('growth rate [per hour]')\n",
    "ax.set_ylabel('lag time [hours]')\n",
    "ax = axes[1]\n",
    "ax.scatter(gs,Ys)\n",
    "ax.set_xlabel('growth rate [per hour]')\n",
    "ax.set_ylabel('biomass yield [OD/resource]')\n",
    "\n",
    "fig.tight_layout()"
   ]
  },
  {
   "cell_type": "markdown",
   "metadata": {},
   "source": [
    "### Define initial condition for bulk growth cycle"
   ]
  },
  {
   "cell_type": "code",
   "execution_count": null,
   "metadata": {},
   "outputs": [],
   "source": [
    "## set initial proportion of mutants\n",
    "x_mut = 0.1 \n",
    "### set vector of initial frequencies\n",
    "xs = np.zeros(n)\n",
    "xs[0] = 1 - x_mut # frequency of the wildtype lineage\n",
    "xs[1:] = x_mut/(n-1) # frequency of individual mutant lineages\n",
    "\n",
    "np.testing.assert_almost_equal(xs.sum(),1, decimal = 10, err_msg='The frequency of all strains must sum to one.')"
   ]
  },
  {
   "cell_type": "markdown",
   "metadata": {},
   "source": [
    "### Convert the biomass yield to the effective yield $\\nu$ "
   ]
  },
  {
   "cell_type": "code",
   "execution_count": null,
   "metadata": {},
   "outputs": [],
   "source": [
    "%%writefile -a bulk_simulation_code.py \n",
    "\n",
    "def CalcRelativeYield(Ys, R0, N0):\n",
    "    \"\"\"Converts the biomass yield Y into dimensionless yield nu.\"\"\"\n",
    "    nus = 1 + (R0*Ys/N0)\n",
    "    return nus"
   ]
  },
  {
   "cell_type": "code",
   "execution_count": null,
   "metadata": {},
   "outputs": [],
   "source": [
    "exec(open('bulk_simulation_code.py').read())"
   ]
  },
  {
   "cell_type": "code",
   "execution_count": null,
   "metadata": {},
   "outputs": [],
   "source": [
    "### test\n",
    "tmp = CalcRelativeYield(np.ones(10), 4, 2)\n",
    "print(tmp)"
   ]
  },
  {
   "cell_type": "code",
   "execution_count": null,
   "metadata": {},
   "outputs": [],
   "source": [
    "nus = CalcRelativeYield(Ys=Ys, R0 = 1, N0 = 0.01)"
   ]
  },
  {
   "cell_type": "markdown",
   "metadata": {},
   "source": [
    "### Calculate saturation time using the results from the M3 model"
   ]
  },
  {
   "cell_type": "code",
   "execution_count": null,
   "metadata": {},
   "outputs": [],
   "source": [
    "tsat = CalcSaturationTimeExact(xs=xs,gs=gs, ls = ls, nus = nus)"
   ]
  },
  {
   "cell_type": "code",
   "execution_count": null,
   "metadata": {},
   "outputs": [],
   "source": [
    "## todo: add approximate calcuation, using the code in the CalcPairwise... function of m3_models.py"
   ]
  },
  {
   "cell_type": "markdown",
   "metadata": {},
   "source": [
    "### Calculate final frequencies, using the foldchange of each lineage"
   ]
  },
  {
   "cell_type": "code",
   "execution_count": null,
   "metadata": {},
   "outputs": [],
   "source": [
    "fcs = CalcFoldChange(t=tsat, g =gs, l = ls)"
   ]
  },
  {
   "cell_type": "code",
   "execution_count": null,
   "metadata": {},
   "outputs": [],
   "source": [
    "%%writefile -a bulk_simulation_code.py \n",
    "def CalcSaturationFrequencies(xs,fcs):\n",
    "    \"\"\"Returns the vector of lineage frequencies at saturation time.\"\"\"\n",
    "    nominator   = np.multiply(xs,fcs)\n",
    "    denominator = nominator.sum()\n",
    "    return nominator/denominator"
   ]
  },
  {
   "cell_type": "code",
   "execution_count": null,
   "metadata": {},
   "outputs": [],
   "source": [
    "exec(open('bulk_simulation_code.py').read())"
   ]
  },
  {
   "cell_type": "code",
   "execution_count": null,
   "metadata": {},
   "outputs": [],
   "source": [
    "### test\n",
    "tmp = CalcSaturationFrequencies(xs = np.ones(4)*0.25, fcs = np.ones(4)*100)\n",
    "print(tmp)"
   ]
  },
  {
   "cell_type": "code",
   "execution_count": null,
   "metadata": {},
   "outputs": [],
   "source": [
    "xs_final = CalcSaturationFrequencies(xs, fcs)"
   ]
  },
  {
   "cell_type": "markdown",
   "metadata": {},
   "source": [
    "### Calculate total selection coefficients for different encodings"
   ]
  },
  {
   "cell_type": "code",
   "execution_count": null,
   "metadata": {},
   "outputs": [],
   "source": [
    "%%writefile -a bulk_simulation_code.py \n",
    "def CalcTotalSelectionCoefficientLogit(xs,xs_final):\n",
    "    \"Returns total selection coefficient of each lineag wrt. total population\"\n",
    "    assert xs.shape == xs_final.shape, 'Both vectors need to have the same number of entries.'\n",
    "    si = np.zeros_like(xs)\n",
    "    \n",
    "    ## first, manually pick strains where initial and final frequency are identical\n",
    "    is_identical = xs == xs_final\n",
    "    si[is_identical] = 0.\n",
    "    ## then pick strains, where only the initial frequencies is equal to 1\n",
    "    is_initial_one = (xs == 1) & (~is_identical)\n",
    "    si[is_initial_one] = np.nan\n",
    "    ## then pick strains, where only the final frequency is equal to 1\n",
    "    is_final_one = (xs_final == 1) & (~is_identical)\n",
    "    si[is_final_one] = np.nan\n",
    "    ## for the rest, the computation is well-defined\n",
    "    ### todo: also catch cases where one of the frequencies is zero\n",
    "    is_well = (~is_initial_one) & (~is_final_one) & (~is_identical)\n",
    "    si[is_well] = np.log(np.divide(xs_final[is_well],1-xs_final[is_well])) \\\n",
    "                - np.log(np.divide(xs[is_well],1-xs[is_well]))\n",
    "\n",
    "    return si\n",
    "\n",
    "\n",
    "def CalcTotalSelectionCoefficientLog(xs,xs_final):\n",
    "    \"Returns total selection coefficient of each lineag wrt. total population\"\n",
    "    assert xs.shape == xs_final.shape, 'Both vectors need to have the same number of entries.'\n",
    "    si = np.zeros_like(xs)\n",
    "    \n",
    "    ## first, manually pick strains where initial and final frequency are identical\n",
    "    is_identical = xs == xs_final \n",
    "    si[is_identical] = 0.\n",
    "    \n",
    "    ### for the rest, the computation is well-defined\n",
    "    ### todo: also catch cases where one of the frequencies is zero\n",
    "    si[~is_identical] = np.log(xs_final[~is_identical]) - np.log(xs[~is_identical])\n",
    "    \n",
    "    return si"
   ]
  },
  {
   "cell_type": "code",
   "execution_count": null,
   "metadata": {},
   "outputs": [],
   "source": [
    "exec(open('bulk_simulation_code.py').read())"
   ]
  },
  {
   "cell_type": "code",
   "execution_count": null,
   "metadata": {},
   "outputs": [],
   "source": [
    "### calculate selection coefficients my way\n",
    "\n",
    "si_logit = CalcTotalSelectionCoefficientLogit(xs,xs_final)\n",
    "si_log = CalcTotalSelectionCoefficientLog(xs,xs_final)"
   ]
  },
  {
   "cell_type": "code",
   "execution_count": null,
   "metadata": {},
   "outputs": [],
   "source": [
    "### compare log vs logit\n",
    "\n",
    "fig, axes = plt.subplots(1,2, figsize = (2*FIGWIDTH_TRIPLET, FIGHEIGHT_TRIPLET), sharex = True)\n",
    "\n",
    "ax = axes[0] # scatter plot\n",
    "ax.scatter(si_logit,si_log)\n",
    "ax.set_ylabel('total selection coefficient log')\n",
    "ax = axes[1]\n",
    "ax.scatter(si_logit, si_log - si_logit)\n",
    "ymin,ymax = ax.get_ylim()\n",
    "yabs = np.max(np.abs([ymin,ymax]))\n",
    "ax.set_ylim(-yabs,yabs)\n",
    "ax.axhline(0, ls = '--', color = 'black')\n",
    "\n",
    "for ax in axes: ax.set_xlabel( 'total selection coefficient logit')\n",
    "    "
   ]
  },
  {
   "cell_type": "code",
   "execution_count": null,
   "metadata": {},
   "outputs": [],
   "source": [
    "### check against michaels code\n",
    "\n",
    "from m3_model import CalcExactSij, CalcTotalSelection"
   ]
  },
  {
   "cell_type": "code",
   "execution_count": null,
   "metadata": {},
   "outputs": [],
   "source": [
    "sij_michael = CalcExactSij(xs, gs, ls, nus)\n",
    "si_michael  = CalcTotalSelection(xs,sij_michael)"
   ]
  },
  {
   "cell_type": "code",
   "execution_count": null,
   "metadata": {},
   "outputs": [],
   "source": [
    "fig, axes = plt.subplots(1,2, figsize = (2*FIGWIDTH_TRIPLET, FIGHEIGHT_TRIPLET), sharex = True)\n",
    "\n",
    "ax = axes[0] # scatter plot\n",
    "ax.scatter(si_logit,si_michael)\n",
    "ax.set_ylabel('total selection coefficient log: Michael')\n",
    "ax = axes[1]\n",
    "ax.scatter(si_logit, si_michael - si_logit)\n",
    "ymin,ymax = ax.get_ylim()\n",
    "yabs = np.max(np.abs([ymin,ymax]))\n",
    "ax.set_ylim(-yabs,yabs)\n",
    "ax.axhline(0, ls = '--', color = 'black')\n",
    "\n",
    "for ax in axes: ax.set_xlabel( 'total selection coefficient logit: Justus')"
   ]
  },
  {
   "cell_type": "markdown",
   "metadata": {},
   "source": [
    "### Calculate pairwise selection coefficient for different encodings"
   ]
  },
  {
   "cell_type": "code",
   "execution_count": null,
   "metadata": {},
   "outputs": [],
   "source": [
    "%%writefile -a bulk_simulation_code.py \n",
    "def CalcPairwiseFrequency(xs):\n",
    "    \"\"\"Returns frequencies of all pairwise subpopulations using slow for loops.\"\"\"\n",
    "    xsum   = np.zeros((len(xs), len(xs)))\n",
    "    xpairs = np.zeros((len(xs), len(xs)))\n",
    "    for i in range(len(xs)):\n",
    "        for j in range(len(xs)):\n",
    "            xsum[i,j] = xs[i] + xs[j]\n",
    "            xpairs[i,j] = xs[i]/xsum[i,j]\n",
    "            \n",
    "    ## set diagonal entries to 1\n",
    "    np.fill_diagonal(xpairs,1)\n",
    "            \n",
    "    return xpairs"
   ]
  },
  {
   "cell_type": "code",
   "execution_count": null,
   "metadata": {},
   "outputs": [],
   "source": [
    "exec(open('bulk_simulation_code.py').read())"
   ]
  },
  {
   "cell_type": "code",
   "execution_count": null,
   "metadata": {},
   "outputs": [],
   "source": [
    "## test\n",
    "tmp = CalcPairwiseFrequency(np.array([0.5,0.25,0.25]))\n",
    "print(tmp)\n",
    "            \n",
    "            \n",
    "    \n",
    "            "
   ]
  },
  {
   "cell_type": "code",
   "execution_count": null,
   "metadata": {},
   "outputs": [],
   "source": [
    "%%time \n",
    "xpairs = CalcPairwiseFrequency(xs)\n",
    "xpairs_final = CalcPairwiseFrequency(xs_final)"
   ]
  },
  {
   "cell_type": "code",
   "execution_count": null,
   "metadata": {},
   "outputs": [],
   "source": [
    "sij_logit = CalcTotalSelectionCoefficientLogit(xpairs,xpairs_final)\n"
   ]
  },
  {
   "cell_type": "code",
   "execution_count": null,
   "metadata": {},
   "outputs": [],
   "source": [
    "fig, axes = plt.subplots(1,2, figsize = (2*FIGWIDTH_TRIPLET, FIGHEIGHT_TRIPLET), sharex = True)\n",
    "\n",
    "ax = axes[0] # scatter plot\n",
    "ax.scatter(sij_logit,sij_michael, rasterized = True)\n",
    "ax.set_ylabel('pairwise selection coefficient log: Michael')\n",
    "ax = axes[1]\n",
    "ax.scatter(sij_logit, sij_michael - sij_logit,rasterized = True)\n",
    "ymin,ymax = ax.get_ylim()\n",
    "yabs = np.max(np.abs([ymin,ymax]))\n",
    "ax.set_ylim(-yabs,yabs)\n",
    "ax.axhline(0, ls = '--', color = 'black')\n",
    "\n",
    "for ax in axes: ax.set_xlabel( 'pairwise selection coefficient logit: Justus')"
   ]
  },
  {
   "cell_type": "code",
   "execution_count": null,
   "metadata": {},
   "outputs": [],
   "source": [
    "%%writefile -a bulk_simulation_code.py \n",
    "\n",
    "### use a vectorized version to speed up the process\n",
    "def CalcPairwiseFrequencyFast(xs):\n",
    "    \"\"\"Returns frequencies of all pairwise subpopulations using fast matrix computation.\"\"\"\n",
    "    n = len(xs)\n",
    "    xsum = np.multiply(xs, np.ones((n,n))).T + np.multiply(xs,np.ones((n,n)))\n",
    "    xpairs = np.multiply(np.divide(1,xsum),xs).T\n",
    "    ## fix diagonal entries\n",
    "    np.fill_diagonal(xpairs,1)\n",
    "    return xpairs"
   ]
  },
  {
   "cell_type": "code",
   "execution_count": null,
   "metadata": {},
   "outputs": [],
   "source": [
    "exec(open('bulk_simulation_code.py').read())"
   ]
  },
  {
   "cell_type": "code",
   "execution_count": null,
   "metadata": {},
   "outputs": [],
   "source": [
    "## test\n",
    "tmp = CalcPairwiseFrequencyFast(np.array([0.5,0.25,0.25]))\n",
    "print(tmp)\n",
    "            "
   ]
  },
  {
   "cell_type": "code",
   "execution_count": null,
   "metadata": {},
   "outputs": [],
   "source": [
    "%%time \n",
    "xpairs_fast = CalcPairwiseFrequencyFast(xs)\n",
    "xpairs_final_fast = CalcPairwiseFrequencyFast(xs_final)"
   ]
  },
  {
   "cell_type": "code",
   "execution_count": null,
   "metadata": {},
   "outputs": [],
   "source": [
    "### check that both functions give the same result\n",
    "np.testing.assert_allclose(xpairs,xpairs_fast,rtol = 1e-10, atol = 1e-15)\n",
    "np.testing.assert_allclose(xpairs_final,xpairs_final_fast,rtol = 1e-10, atol = 1e-15)"
   ]
  },
  {
   "cell_type": "markdown",
   "metadata": {},
   "source": [
    "### Calculate selection coefficient with respect to a set of neutral lineages"
   ]
  },
  {
   "cell_type": "code",
   "execution_count": null,
   "metadata": {},
   "outputs": [],
   "source": [
    "%%writefile -a bulk_simulation_code.py \n",
    "# calculate frequencies in subpopulation with a set of reference strains\n",
    "\n",
    "def CalcReferenceFrequency(xs, ref_strains = [0] ):\n",
    "    \"\"\"Returns frequency wrt. to a set of reference strains. Use neutral strains as reference.\"\"\"\n",
    "    xgroup = xs[ref_strains].sum()\n",
    "    xref   = np.divide(xs,xs+xgroup)\n",
    "    \n",
    "    # fix entries for the strains in the reference group themselves\n",
    "    xref[ref_strains] = np.divide(xs[ref_strains],xgroup)\n",
    "    return xref\n",
    "    "
   ]
  },
  {
   "cell_type": "code",
   "execution_count": null,
   "metadata": {},
   "outputs": [],
   "source": [
    "exec(open('bulk_simulation_code.py').read())"
   ]
  },
  {
   "cell_type": "code",
   "execution_count": null,
   "metadata": {},
   "outputs": [],
   "source": [
    "## test\n",
    "tmp = CalcReferenceFrequency(xs=np.array([0.5,0.25,0.25]),ref_strains = [0,1])\n",
    "print(tmp)"
   ]
  },
  {
   "cell_type": "code",
   "execution_count": null,
   "metadata": {},
   "outputs": [],
   "source": [
    "%%time\n",
    "xwt = CalcReferenceFrequency(xs, ref_strains = [0]) # use wildtype as reference \n",
    "xwt_final = CalcReferenceFrequency(xs_final, ref_strains = [0])\n",
    "\n",
    "swt_logit = CalcTotalSelectionCoefficientLogit(xwt,xwt_final)"
   ]
  },
  {
   "cell_type": "code",
   "execution_count": null,
   "metadata": {},
   "outputs": [],
   "source": [
    "%%time\n",
    "all_strains = np.arange(len(xs))\n",
    "xref = CalcReferenceFrequency(xs, ref_strains = all_strains) # use total population as reference for test\n",
    "xref_final = CalcReferenceFrequency(xs_final, ref_strains = all_strains)\n",
    "\n",
    "sref_logit = CalcTotalSelectionCoefficientLogit(xref,xref_final)"
   ]
  },
  {
   "cell_type": "code",
   "execution_count": null,
   "metadata": {},
   "outputs": [],
   "source": [
    "### compare the reference calculation against total selection coefficient\n",
    "\n",
    "fig, axes = plt.subplots(1,2, figsize = (2*FIGWIDTH_TRIPLET, FIGHEIGHT_TRIPLET), sharex = True)\n",
    "\n",
    "ax = axes[0] # scatter plot\n",
    "ax.scatter(si_logit,sref_logit, rasterized = True)\n",
    "ax.set_ylabel('total scoeff.: using reference function')\n",
    "ax = axes[1]\n",
    "ax.scatter(si_logit, sref_logit - si_logit, rasterized = True)\n",
    "ymin,ymax = ax.get_ylim()\n",
    "yabs = np.max(np.abs([ymin,ymax]))\n",
    "ax.set_ylim(-yabs,yabs)\n",
    "ax.axhline(0, ls = '--', color = 'black')\n",
    "\n",
    "for ax in axes: ax.set_xlabel( 'total scoeff.: using dedicated function')\n",
    "    "
   ]
  },
  {
   "cell_type": "markdown",
   "metadata": {},
   "source": [
    "### Make a convenience function to simulate bulk competition"
   ]
  },
  {
   "cell_type": "code",
   "execution_count": null,
   "metadata": {},
   "outputs": [],
   "source": [
    "%%writefile -a bulk_simulation_code.py \n",
    "\n",
    "def run_bulk_experiment(gs,ls,nus, xs):\n",
    "    \"\"\"Returns initial and final frequencies of all lineages in bulk competition growth cycle.\"\"\"\n",
    "   \n",
    "    assert len(gs) == len(ls), \"All trait vectors must have equal number of entries.\"\n",
    "    assert len(gs) == len(nus), \"All trait vectors must have equal number of entries.\"\n",
    "    assert len(xs) == len(gs), \"The frequency vector and trait vector must have same number of entries.\"\n",
    "\n",
    "    # test the initial frequencies\n",
    "    np.testing.assert_almost_equal(xs.sum(),1, decimal = 10, err_msg='The initial frequency of all strains must sum to one.')\n",
    "    \n",
    "    ## calculate\n",
    "    tsat = CalcSaturationTimeExact(xs=xs,gs=gs, ls = ls, nus = nus)\n",
    "    fcs = CalcFoldChange(t=tsat, g =gs, l = ls)\n",
    "    #print(fcs)\n",
    "    xs_final = CalcSaturationFrequencies(xs, fcs)\n",
    "    \n",
    "    # test the final frequencies\n",
    "    np.testing.assert_almost_equal(xs_final.sum(),1, decimal = 10, err_msg='The final frequency of all strains must sum to one.')\n",
    "    \n",
    "    return xs, xs_final, tsat"
   ]
  },
  {
   "cell_type": "code",
   "execution_count": null,
   "metadata": {},
   "outputs": [],
   "source": [
    "exec(open('bulk_simulation_code.py').read())"
   ]
  },
  {
   "cell_type": "code",
   "execution_count": null,
   "metadata": {},
   "outputs": [],
   "source": [
    "## test \n",
    "xs, xs_final, _ = run_bulk_experiment(gs=gs,ls=ls, nus =nus, xs = xs)"
   ]
  },
  {
   "cell_type": "markdown",
   "metadata": {},
   "source": [
    "### Make a convenience function to run a pairwise experiment"
   ]
  },
  {
   "cell_type": "code",
   "execution_count": null,
   "metadata": {},
   "outputs": [],
   "source": []
  },
  {
   "cell_type": "code",
   "execution_count": null,
   "metadata": {},
   "outputs": [],
   "source": [
    "%%writefile -a bulk_simulation_code.py \n",
    "\n",
    "def run_pairwise_experiment(gs,ls,nus, g1, l1, nu1, x0):\n",
    "    \"\"\"Returns initial and final frequencies of all strains in pairwise competition with wild-type.\"\"\"\n",
    "   \n",
    "    assert len(gs) == len(ls), \"All trait vectors must have equal number of entries.\"\n",
    "    assert len(gs) == len(nus), \"All trait vectors must have equal number of entries.\"\n",
    "    assert x0 >0, \"The initial frequency of the invading strain must be positive.\"\n",
    "\n",
    "\n",
    "    ## calculate final frequencies\n",
    "    x1, x2 = 1-x0,x0                    # rewrite initial frequency of the two strains\n",
    "    xs_final = np.zeros_like(gs)        # final frequency\n",
    "    tsats = np.zeros_like(gs)           # saturation time\n",
    "    fcs_both = np.zeros_like(gs)       # foldchange of both species combined into one biomass\n",
    "    fcs_wt = np.zeros_like(gs)          # foldchange of wildtype biomass\n",
    "    fcs_mut = np.zeros_like(gs)          # foldchange of mut biomass\n",
    "\n",
    "    for i in range(len(gs)):\n",
    "        g2, l2, nu2 = gs[i], ls[i], nus[i] # get traits of the invader\n",
    "        \n",
    "        # compute joint biomass fold-change\n",
    "        tsats[i] = CalcSaturationTimeExact(xs=[x1,x2], gs = [g1,g2], ls= [l1,l2], nus = [nu1,nu2] )\n",
    "        fcs_both[i] = CalcFoldChangeWholePopulation(t = tsats[i],xs=[x1,x2], gs = [g1,g2], ls= [l1,l2])\n",
    "        \n",
    "        # compute individual biomass fold-change\n",
    "        if x1 > 0:\n",
    "            fcs_wt[i] = CalcFoldChange(t = tsats[i], g = g1, l = l1)\n",
    "        else:\n",
    "            fcs_wt[i] = 1 # defined to be 1, so frequency calculation works below\n",
    "    \n",
    "        if x2 > 0: \n",
    "            fcs_mut[i] = CalcFoldChange(t = tsats[i], g = g2, l = l2)\n",
    "        else:\n",
    "            fcs_mut[i] = 1\n",
    "\n",
    "        # compute final frequency\n",
    "        fcs1, fcs2 =  fcs_wt[i], fcs_mut[i] \n",
    "        xs_final[i] = x2*fcs2/(x1 *fcs1 + x2*fcs2)\n",
    "        \n",
    "        \n",
    "    ### define initial frequencies of mutants as a vector\n",
    "    xs = np.ones_like(xs_final)*x2\n",
    "    \n",
    "\n",
    "    return xs, xs_final, tsats, fcs_both, fcs_wt, fcs_mut"
   ]
  },
  {
   "cell_type": "code",
   "execution_count": null,
   "metadata": {},
   "outputs": [],
   "source": [
    "exec(open('bulk_simulation_code.py').read())"
   ]
  },
  {
   "cell_type": "code",
   "execution_count": null,
   "metadata": {},
   "outputs": [],
   "source": [
    "## test\n",
    "xs_pair, xs_pair_final,tsats, fcs_both,fcs_wt, fcs_mut = run_pairwise_experiment(gs, ls, nus, gs[0],ls[0],nus[0], \n",
    "                                                                                 x0 = 1e-6)"
   ]
  },
  {
   "cell_type": "code",
   "execution_count": null,
   "metadata": {},
   "outputs": [],
   "source": [
    "%%time\n",
    "### calcualte a test case: 100 % mutant frequency\n",
    "xs_pair, xs_pair_final, tsats,fcs_both, fcs_wt, fcs_mut = run_pairwise_experiment(gs,ls,nus,\n",
    "                                                          gs[0],ls[0],nus[0], x0 = 1)\n",
    "                               \n",
    "\n",
    "np.testing.assert_array_equal(xs_pair,1.) # at initial point, expect 100% mutant\n",
    "np.testing.assert_array_equal(xs_pair_final,1.) # at final point, expect 100% mutant\n",
    "\n",
    "\n",
    "np.testing.assert_array_equal(fcs_wt, 1.) # expect no change in wild-type\n",
    "np.testing.assert_array_equal(fcs_mut, fcs_both) # expect all fold-change in mutant"
   ]
  },
  {
   "cell_type": "markdown",
   "metadata": {},
   "source": [
    "### Example how to compare pairwise competition with bulk competition"
   ]
  },
  {
   "cell_type": "code",
   "execution_count": null,
   "metadata": {},
   "outputs": [],
   "source": [
    "### calculate pairwisec competition as ground truth\n",
    "x0 = 1e-6\n",
    "xs_pair, xs_pair_final, _, _, _,_ = run_pairwise_experiment(gs, ls, nus, g1 = gs[0], l1 = ls[0], nu1 = nus[0], x0 = 1e-6)\n",
    "si_pair = CalcTotalSelectionCoefficientLogit(xs_pair,xs_pair_final)\n"
   ]
  },
  {
   "cell_type": "code",
   "execution_count": null,
   "metadata": {},
   "outputs": [],
   "source": [
    "## calculate bulk competition as approximation\n",
    "\n",
    "## compute final frequencies in bulk\n",
    "xs, xs_final, _ = run_bulk_experiment(gs, ls, nus, xs =xs)\n",
    "\n",
    "## compute total selection coefficient in bulk\n",
    "si_bulk = CalcTotalSelectionCoefficientLogit(xs,xs_final)\n",
    "\n",
    "## compute pairwise selection coefficient in bulk\n",
    "xpairs = CalcPairwiseFrequencyFast(xs)\n",
    "xpairs_final = CalcPairwiseFrequencyFast(xs_final)\n",
    "sij_bulk = CalcTotalSelectionCoefficientLogit(xpairs,xpairs_final)"
   ]
  },
  {
   "cell_type": "code",
   "execution_count": null,
   "metadata": {},
   "outputs": [],
   "source": [
    "### compare in a plot the pairwise selection coefficient\n",
    "\n",
    "fig, axes = plt.subplots(1,2, figsize = (2*FIGWIDTH_TRIPLET, FIGHEIGHT_TRIPLET), sharex = True)\n",
    "\n",
    "x = si_pair\n",
    "y = sij_bulk[:,0] # pairwise relative to wild-type\n",
    "\n",
    "ax = axes[0] # correlation plot\n",
    "ax.scatter(x,y, rasterized = True)\n",
    "ax.set_ylabel('s_21 in bulk competition')\n",
    "ax = axes[1] # residual plot\n",
    "ax.scatter(x,y-x, rasterized = True) \n",
    "ymin,ymax = ax.get_ylim()\n",
    "yabs = np.max(np.abs([ymin,ymax]))\n",
    "ax.set_ylim(-yabs,yabs)\n",
    "ax.axhline(0, ls = '--', color = 'black')\n",
    "\n",
    "for ax in axes: ax.set_xlabel('s_21 in pairwise competition')\n",
    "    "
   ]
  },
  {
   "cell_type": "code",
   "execution_count": null,
   "metadata": {},
   "outputs": [],
   "source": [
    "### compare in a plot the total selection coefficient\n",
    "\n",
    "fig, axes = plt.subplots(1,2, figsize = (2*FIGWIDTH_TRIPLET, FIGHEIGHT_TRIPLET), sharex = True)\n",
    "\n",
    "x = si_pair\n",
    "y = si_bulk\n",
    "\n",
    "ax = axes[0] # correlation plot\n",
    "ax.scatter(x,y, rasterized = True)\n",
    "ax.set_ylabel('s_21 in bulk competition')\n",
    "ax = axes[1] # residual plot\n",
    "ax.scatter(x,y-x, rasterized = True) \n",
    "ymin,ymax = ax.get_ylim()\n",
    "yabs = np.max(np.abs([ymin,ymax]))\n",
    "ax.set_ylim(-yabs,yabs)\n",
    "ax.axhline(0, ls = '--', color = 'black')\n",
    "\n",
    "for ax in axes: ax.set_xlabel('s_21 in pairwise competition')\n",
    "    "
   ]
  },
  {
   "cell_type": "markdown",
   "metadata": {},
   "source": [
    "### Compute Selection Coefficient with different timescales"
   ]
  },
  {
   "cell_type": "code",
   "execution_count": null,
   "metadata": {},
   "outputs": [],
   "source": [
    "%%writefile -a bulk_simulation_code.py \n",
    "\n",
    "### conver per Cycle to Per_Cenerat\n",
    "\n",
    "def toPerGeneration(s_percycle, fcs_wt):\n",
    "    \"\"\"Converts selection coefficient per-cycle to per-generation of wild-type.\"\"\"\n",
    "    W = np.divide(s_percycle,np.log(fcs_wt))\n",
    "    return W\n",
    "\n",
    "def CalcLenskiW(fcs_mut,fcs_wt):\n",
    "    \"\"\"Returns fitness statistic W as defined by Lensk et al. Am Nat 1991\"\"\"\n",
    "    nominator = np.log(fcs_mut) \n",
    "    denominator= np.log(fcs_wt)\n",
    "    W = np.nan*np.ones_like(fcs_mut) # set an original value, if division below fails\n",
    "    W = np.divide(nominator,denominator, where = denominator !=0)\n",
    "    return W\n"
   ]
  },
  {
   "cell_type": "code",
   "execution_count": null,
   "metadata": {},
   "outputs": [],
   "source": [
    "exec(open('bulk_simulation_code.py').read())"
   ]
  },
  {
   "cell_type": "code",
   "execution_count": null,
   "metadata": {},
   "outputs": [],
   "source": [
    "## calcualte a test case\n",
    "\n",
    "### calculate pairwisec competition as ground truth\n",
    "xs_pair, xs_pair_final, tsats, fcs_both, fcs_wt, fcs_mut = run_pairwise_experiment(gs,ls,nus,gs[0],ls[0],nus[0],\n",
    "                                                                          x0 = 0.5)\n",
    "\n",
    "\n",
    "s_percycle = CalcTotalSelectionCoefficientLogit(xs_pair,xs_pair_final)\n",
    "s_pergen = toPerGeneration(s_percycle, fcs_wt)\n",
    "W = CalcLenskiW(fcs_mut,fcs_wt)"
   ]
  },
  {
   "cell_type": "code",
   "execution_count": null,
   "metadata": {},
   "outputs": [],
   "source": [
    "### compare in a plot the total selection coefficient\n",
    "\n",
    "fig, axes = plt.subplots(1,2, figsize = (2*FIGWIDTH_TRIPLET, FIGHEIGHT_TRIPLET), sharex = True)\n",
    "\n",
    "\n",
    "x = W\n",
    "y = s_pergen\n",
    "\n",
    "ax = axes[0] # correlation plot\n",
    "ax.scatter(x,y, rasterized = True)\n",
    "ax.set_ylabel('relative fitness per-cycle')\n",
    "    \n",
    "ax = axes[1] # residual plot\n",
    "ax.scatter(x,y-x, rasterized = True) \n",
    "ymin,ymax = ax.get_ylim()\n",
    "yabs = np.max(np.abs([ymin,ymax]))\n",
    "ax.set_ylim(-yabs,yabs)\n",
    "ax.axhline(0, ls = '--', color = 'black')\n",
    "\n",
    "for ax in axes: ax.set_xlabel('Lenski W')\n",
    "    "
   ]
  },
  {
   "cell_type": "code",
   "execution_count": null,
   "metadata": {},
   "outputs": [],
   "source": [
    "### compare in a plot the total selection coefficient\n",
    "\n",
    "fig, axes = plt.subplots(1,2, figsize = (2*FIGWIDTH_TRIPLET, FIGHEIGHT_TRIPLET), sharex = True)\n",
    "\n",
    "\n",
    "x = s_percycle\n",
    "y = s_pergen\n",
    "\n",
    "ax = axes[0] # correlation plot\n",
    "ax.scatter(x,y, rasterized = True)\n",
    "ax.set_ylabel('s_21 in bulk competition')\n",
    "ax = axes[1] # residual plot\n",
    "ax.scatter(x,y-x, rasterized = True) \n",
    "ymin,ymax = ax.get_ylim()\n",
    "yabs = np.max(np.abs([ymin,ymax]))\n",
    "ax.set_ylim(-yabs,yabs)\n",
    "ax.axhline(0, ls = '--', color = 'black')\n",
    "\n",
    "for ax in axes: ax.set_xlabel('s_21 in pairwise competition')\n",
    "    "
   ]
  },
  {
   "cell_type": "markdown",
   "metadata": {},
   "source": [
    "### Calculate single species timeseries and AUC"
   ]
  },
  {
   "cell_type": "code",
   "execution_count": null,
   "metadata": {},
   "outputs": [],
   "source": [
    "%%writefile -a bulk_simulation_code.py \n",
    "\n",
    "\n",
    "def CalcAbundanceTimeseries(t, g, l, tsat, N0):\n",
    "    \"\"\"Returns the abundance timeseries for a given strain under M3 growth.\"\"\"\n",
    "\n",
    "    ## calculate fold-change at saturation time\n",
    "    fcsat = CalcFoldChange(t=tsat,g=g,l=l)\n",
    "    \n",
    "    ## add the lag time to the time vector\n",
    "    tinput = np.hstack([t,[l]])\n",
    "    tinput = np.sort(tinput,axis = 0)\n",
    "    ## calculate abundance timeseries\n",
    "    fcs  = np.ones_like(tinput)\n",
    "    fcs  = np.where(tinput<tsat,CalcFoldChange(t=tinput,g=g,l=l),fcsat)\n",
    "    y    = N0*fcs\n",
    "    \n",
    "    return tinput, y\n",
    "                      \n",
    "def CalcAreaUnderTheCurve(t,y,t_trim):\n",
    "    \"\"\"Calculates the AUC up to the timepoint t_trim.\n",
    "    \n",
    "    In particular, this computes the area between y=0 and the curve value y. T\n",
    "    This is the smae  definition of the Area Under the Curve (AUC) as in the paper by\n",
    "    \n",
    "    Sprouffske & Wagner 2016 BMC Bioinformatics https://doi.org/10.1186/s12859-016-1016-7\n",
    "    \n",
    "    and their R-package 'Growthcurver'\n",
    "    \n",
    "    https://github.com/sprouffske/growthcurver/blob/25ea4b301311e95cbc8d18f5c30fb4c750782869/R/utils.R#L101\n",
    "    \n",
    "    \"\"\"\n",
    "    is_within = t <= t_trim\n",
    "    return np.trapz(y[is_within], t[is_within])\n",
    "    "
   ]
  },
  {
   "cell_type": "code",
   "execution_count": null,
   "metadata": {},
   "outputs": [],
   "source": [
    "exec(open('bulk_simulation_code.py').read())"
   ]
  },
  {
   "cell_type": "code",
   "execution_count": null,
   "metadata": {},
   "outputs": [],
   "source": [
    "## test\n",
    "\n",
    "g, l, Y= 1., 1., 1.\n",
    "R0, N0 = 10, 0.01\n",
    "nu = CalcRelativeYield(Y, R0 =R0, N0 = N0)\n",
    "tsat  = CalcSaturationTimeExact(xs=[1], gs = [g], ls = [l], nus = [nu])\n",
    "#tsat  = 1/g * np.log(nu) + l # for single spcies, this is straightforward\n",
    "\n",
    "tvec = np.linspace(0,10)\n",
    "t, y = CalcAbundanceTimeseries(tvec, g,l,tsat=tsat, N0 = 0.01)\n",
    "AUC  = CalcAreaUnderTheCurve(t,y, t_trim = 1)"
   ]
  },
  {
   "cell_type": "code",
   "execution_count": null,
   "metadata": {},
   "outputs": [],
   "source": [
    "## check type of output\n",
    "\n",
    "assert l in t, 'The lag time should be included in timeseries for proper integral.'\n",
    "print(AUC)"
   ]
  },
  {
   "cell_type": "code",
   "execution_count": null,
   "metadata": {},
   "outputs": [],
   "source": [
    "fig, ax = plt.subplots()\n",
    "ax.plot(t,y, marker = 'x', label = 'timeseries')\n",
    "ax.axvline(l, label = 'lag time', color = 'black')\n",
    "ax.legend()\n",
    "\n",
    "ax.set_yscale('log')\n",
    "ax.set_ylabel('log absolute abundance')\n",
    "ax.set_xlabel('time')"
   ]
  },
  {
   "cell_type": "code",
   "execution_count": null,
   "metadata": {},
   "outputs": [],
   "source": [
    "### End of storing code in module file"
   ]
  },
  {
   "cell_type": "code",
   "execution_count": null,
   "metadata": {},
   "outputs": [],
   "source": [
    "%%writefile -a bulk_simulation_code.py\n",
    "\n",
    "#####\n",
    "\n",
    "if __name__ == '__main__': \n",
    "    pass\n",
    "    "
   ]
  },
  {
   "cell_type": "code",
   "execution_count": null,
   "metadata": {},
   "outputs": [],
   "source": []
  },
  {
   "cell_type": "code",
   "execution_count": null,
   "metadata": {},
   "outputs": [],
   "source": []
  }
 ],
 "metadata": {
  "kernelspec": {
   "display_name": "Python 3",
   "language": "python",
   "name": "python3"
  },
  "language_info": {
   "codemirror_mode": {
    "name": "ipython",
    "version": 3
   },
   "file_extension": ".py",
   "mimetype": "text/x-python",
   "name": "python",
   "nbconvert_exporter": "python",
   "pygments_lexer": "ipython3",
   "version": "3.7.13"
  }
 },
 "nbformat": 4,
 "nbformat_minor": 4
}
