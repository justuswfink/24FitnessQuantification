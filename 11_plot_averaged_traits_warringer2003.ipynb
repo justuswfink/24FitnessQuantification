{
 "cells": [
  {
   "cell_type": "markdown",
   "metadata": {},
   "source": [
    "# Compare measured traits between replicates of the same growth curve"
   ]
  },
  {
   "cell_type": "markdown",
   "metadata": {},
   "source": [
    "### Parameters of this notebook "
   ]
  },
  {
   "cell_type": "code",
   "execution_count": null,
   "metadata": {},
   "outputs": [],
   "source": [
    "import pandas as pd           \n",
    "\n",
    "import numpy as np\n",
    "import matplotlib.pyplot as plt\n",
    "import matplotlib.patches as patches\n",
    "\n",
    "from scipy import integrate\n",
    "from scipy import stats\n",
    "import random\n"
   ]
  },
  {
   "cell_type": "code",
   "execution_count": null,
   "metadata": {},
   "outputs": [],
   "source": [
    "### Update dependent parameters according to input\n",
    "import os\n",
    "import os.path\n",
    "from os import path\n",
    "\n",
    "## create export directory if necessary\n",
    "## foldernames for output plots/lists produced in this notebook\n",
    "import os\n",
    "FIG_DIR = f'./figures/warringer2003/'\n",
    "os.makedirs(FIG_DIR, exist_ok=True)\n",
    "print(\"All  plots will be stored in: \\n\" + FIG_DIR)\n",
    "\n",
    "OUTPUT_DIR = f'./output/'\n",
    "os.makedirs(OUTPUT_DIR, exist_ok=True)\n",
    "print(\"All  newly created datafiles will be stored in: \\n\" + OUTPUT_DIR)"
   ]
  },
  {
   "cell_type": "code",
   "execution_count": null,
   "metadata": {},
   "outputs": [],
   "source": [
    "\n",
    "\n",
    "### execute script to load modules here\n",
    "exec(open('setup_aesthetics.py').read())"
   ]
  },
  {
   "cell_type": "code",
   "execution_count": null,
   "metadata": {},
   "outputs": [],
   "source": [
    "DATASET_COLOR = 'darkorange'\n"
   ]
  },
  {
   "cell_type": "code",
   "execution_count": null,
   "metadata": {},
   "outputs": [],
   "source": [
    "SUFFIX_DATASET = 'warringer2003/'\n",
    "\n",
    "FIG_DIR_DATASET = FIG_DIR + SUFFIX_DATASET\n",
    "os.makedirs(FIG_DIR_DATASET, exist_ok=True)"
   ]
  },
  {
   "cell_type": "markdown",
   "metadata": {},
   "source": [
    "### Load trait data"
   ]
  },
  {
   "cell_type": "code",
   "execution_count": null,
   "metadata": {},
   "outputs": [],
   "source": [
    "## setup background files from PLATEAU FINDER\n",
    "exec(open('setup_plateau_finder_warringer2003.py').read())\n"
   ]
  },
  {
   "cell_type": "code",
   "execution_count": null,
   "metadata": {},
   "outputs": [],
   "source": [
    "INDEX_COL = [0,1,2,3,4]\n",
    "list_na_representations = ['not_present', 'failed_to_compute']"
   ]
  },
  {
   "cell_type": "code",
   "execution_count": null,
   "metadata": {},
   "outputs": [],
   "source": [
    "PCWS_TRAITS_WARRINGER = './output/df_M3_traits.csv'\n",
    "df_warringer = pd.read_csv(PCWS_TRAITS_WARRINGER, header = 0, index_col= INDEX_COL,\\\n",
    "                                  float_precision=None, na_values=list_na_representations)"
   ]
  },
  {
   "cell_type": "code",
   "execution_count": null,
   "metadata": {},
   "outputs": [],
   "source": [
    "### assign wild-type label\n",
    "def is_wildtype(name):\n",
    "    genotype = name[0]\n",
    "    \n",
    "    if genotype == 'BY4741':\n",
    "        return True\n",
    "    else:\n",
    "        return False\n",
    "    \n",
    "\n",
    "df_warringer['is_wildtype'] = [is_wildtype(v) for v in df_warringer.index]"
   ]
  },
  {
   "cell_type": "markdown",
   "metadata": {},
   "source": [
    "### Estimate number of replicates for each genotype"
   ]
  },
  {
   "cell_type": "code",
   "execution_count": null,
   "metadata": {},
   "outputs": [],
   "source": [
    "list_genes = list(set(df_warringer.reset_index()['genotype'].values))\n",
    "\n",
    "gene2n = dict()\n",
    "\n",
    "for v in list_genes:\n",
    "    replicates = df_warringer.loc[v]\n",
    "    gene2n[v] = replicates.shape[0]"
   ]
  },
  {
   "cell_type": "code",
   "execution_count": null,
   "metadata": {},
   "outputs": [],
   "source": [
    "set(gene2n.values())"
   ]
  },
  {
   "cell_type": "code",
   "execution_count": null,
   "metadata": {},
   "outputs": [],
   "source": [
    "n2gene = dict()\n",
    "\n",
    "for k, v in gene2n.items():\n",
    "    n2gene[v] = n2gene.get(v,[]) + [k]"
   ]
  },
  {
   "cell_type": "code",
   "execution_count": null,
   "metadata": {},
   "outputs": [],
   "source": [
    "for k,v in n2gene.items():\n",
    "    print(f\"number of genotypes with {k} replicates: {len(v)}\")"
   ]
  },
  {
   "cell_type": "markdown",
   "metadata": {},
   "source": [
    "### Plot for genotypes with two replicates"
   ]
  },
  {
   "cell_type": "code",
   "execution_count": null,
   "metadata": {},
   "outputs": [],
   "source": [
    "### we sort all measured growth curves by the metabvariables\n",
    "df_tmp = df_warringer.copy(deep=True)\n",
    "df_tmp = df_tmp.sort_values(['run_no', 'plate_no', 'well_no'], ascending = True)"
   ]
  },
  {
   "cell_type": "code",
   "execution_count": null,
   "metadata": {},
   "outputs": [],
   "source": [
    "### convert to unit of hours\n",
    "df_tmp['gmax'] = df_tmp['gmax']*60 # change units to growth rate per hour\n",
    "df_tmp['lag']  = df_tmp['lag']/60 # change units to hour\n",
    "\n"
   ]
  },
  {
   "cell_type": "code",
   "execution_count": null,
   "metadata": {},
   "outputs": [],
   "source": [
    "list_two = n2gene[2]\n",
    "\n",
    "# create new dataframe\n",
    "df_two = pd.DataFrame(index = list_two, columns= ['gmax1', 'gmax2', 'lag1','lag2', 'yield1', 'yield2'])\n",
    "\n",
    "for gene in list_two:\n",
    "    replicates = df_tmp.loc[gene]\n",
    "    assert replicates.shape[0] == 2, 'We expect exactly two replicates!'\n",
    "    row1 = replicates.iloc[0] # replicate that was measured first\n",
    "    row2 = replicates.iloc[1] # replicate that was measured later\n",
    "    \n",
    "    for v in ['gmax', 'lag', 'yield']:\n",
    "        df_two.at[gene,v + '1'] = row1[v]\n",
    "        df_two.at[gene,v + '2'] = row2[v]"
   ]
  },
  {
   "cell_type": "code",
   "execution_count": null,
   "metadata": {},
   "outputs": [],
   "source": [
    "### set colors as in the main plots for trait correlation\n",
    "color = 'dimgrey'\n"
   ]
  },
  {
   "cell_type": "code",
   "execution_count": null,
   "metadata": {},
   "outputs": [],
   "source": [
    "from scipy.stats import pearsonr\n",
    "from latex_format import float2latex"
   ]
  },
  {
   "cell_type": "code",
   "execution_count": null,
   "metadata": {},
   "outputs": [],
   "source": [
    "### compute statistics\n",
    "\n",
    "for var in ['gmax', 'lag', 'yield']:\n",
    "\n",
    "    ### plot mutant dataset\n",
    "    x = df_two[var+'1']\n",
    "    y = df_two[var+'2']\n",
    "    r, p = pearsonr(x,y)\n",
    "\n",
    "    print(var)\n",
    "    print(fr'r={r:.2f} (p = {float2latex(p)})')\n",
    "\n"
   ]
  },
  {
   "cell_type": "code",
   "execution_count": null,
   "metadata": {},
   "outputs": [],
   "source": [
    "## plot\n",
    "\n",
    "fig, axes = plt.subplots(1,3, figsize = (3*FIGHEIGHT_TRIPLET, FIGHEIGHT_TRIPLET))\n",
    "\n",
    "ax = axes[0]\n",
    "ax = sns.scatterplot(data = df_two, x = 'gmax1', y = 'gmax2', ax = ax, \n",
    "                     color = color, rasterized = True )\n",
    "ax.set_xlabel('growth rate [per hour]\\nreplicate 1')\n",
    "ax.set_ylabel('replicate 2\\ngrowth rate [per hour]')\n",
    "\n",
    "ax = axes[1]\n",
    "ax = sns.scatterplot(data = df_two, x = 'lag1', y = 'lag2', ax = ax,\n",
    "                     color = color, rasterized = True)\n",
    "ax.set_xlabel('lag time [hours]\\nreplicate 1')\n",
    "ax.set_ylabel('replicate 2\\nlag time [hours]')\n",
    "\n",
    "ax = axes[2]\n",
    "ax = sns.scatterplot(data = df_two, x = 'yield1', y = 'yield2', ax = ax,\n",
    "                    color = color, rasterized = True)\n",
    "ax.set_xlabel('biomass yield [OD/mM glucose]\\nreplicate 1')\n",
    "ax.set_ylabel('replicate 2\\nbiomass yield [OD/mM glucose]')\n",
    "\n",
    "\n",
    "for ax in axes:\n",
    "    ## compute axis limits for square plot\n",
    "    xmin,xmax = ax.get_xlim()\n",
    "    ymin,ymax = ax.get_ylim()\n",
    "    xymin,xymax = np.min([xmin,ymin]), np.max([xmax,ymax])\n",
    "    ax.set_xlim(xymin,xymax) # make square\n",
    "    ax.set_ylim(xymin,xymax) # make square\n",
    "    \n",
    "    ### plot diagonal\n",
    "    xmin,xmax = ax.get_xlim()\n",
    "    ax.plot([xmin,xmax], [xmin,xmax], ls = '--', color = 'black', label = 'x = y')\n",
    "    \n",
    "    #plot title\n",
    "    n_points = df_two.shape[0]\n",
    "    title = f\"subset of n = {n_points} knockouts\"\n",
    "    ax.set_title(title, loc = 'left')\n",
    "    \n",
    "    \n",
    "fig.tight_layout()\n",
    "fig.savefig(FIG_DIR + f\"scatterplot_trait_replicate_measurements.pdf\", DPI = DPI, bbox_inches = 'tight', pad_inches = PAD_INCHES)"
   ]
  },
  {
   "cell_type": "markdown",
   "metadata": {},
   "source": [
    "### Define average traits"
   ]
  },
  {
   "cell_type": "code",
   "execution_count": null,
   "metadata": {},
   "outputs": [],
   "source": [
    "list_genes = list(set(df_warringer.reset_index()['genotype'].values))\n",
    "\n",
    "\n",
    "df_averaged = pd.DataFrame(index = list_genes, columns=['gmax', 'lag', 'yield'])\n",
    "\n",
    "for gene in list_genes:\n",
    "    replicates = df_warringer.loc[gene]\n",
    "    averaged = replicates.mean(axis=0)\n",
    "    \n",
    "    for k in df_averaged.columns:\n",
    "        df_averaged.at[gene,k] = averaged[k]"
   ]
  },
  {
   "cell_type": "code",
   "execution_count": null,
   "metadata": {},
   "outputs": [],
   "source": [
    "### reset index\n",
    "df_averaged['genotype'] = df_averaged.index\n",
    "df_averaged.reset_index(drop = True)"
   ]
  },
  {
   "cell_type": "code",
   "execution_count": null,
   "metadata": {},
   "outputs": [],
   "source": [
    "### store dataset\n",
    "filename = OUTPUT_DIR + \"df_M3_traits_averaged.csv\"\n",
    "df_averaged.to_csv(filename, index = False, float_format= '%.6e')"
   ]
  },
  {
   "cell_type": "code",
   "execution_count": null,
   "metadata": {},
   "outputs": [],
   "source": [
    "## reread and test\n",
    "\n",
    "df = df_averaged\n",
    "\n",
    "print('#####################################')\n",
    "print('\\nTesting the data stored in ' + filename)\n",
    "df_reread = pd.read_csv(filename, header = 0, float_precision=None)\n",
    "print(\"Testing stored float values.\")\n",
    "float_columns = df.dtypes == 'float64'\n",
    "\n",
    "x = df_reread.loc[:,float_columns].values\n",
    "y = df.loc[:,float_columns].values\n",
    "\n",
    "try:\n",
    "    np.testing.assert_array_equal(x,y)\n",
    "    print(\"Success.\")\n",
    "except AssertionError as e:\n",
    "    print(e)\n",
    "\n",
    "print(\"\\nTesting stored values of other type, mostly strings.\")\n",
    "other_columns = ~float_columns\n",
    "x = df_reread.loc[:,other_columns]\n",
    "y = df.loc[:,other_columns]\n",
    "\n",
    "\n",
    "try:\n",
    "    assert x.equals(y)\n",
    "    print(\"Success. All values of other type stored correctly.\")\n",
    "except Exception as e:\n",
    "    print(\"Fail. Check true datatypes for columns marked as other in dataframe.\")\n",
    "    print(e)\n",
    "    "
   ]
  },
  {
   "cell_type": "code",
   "execution_count": null,
   "metadata": {},
   "outputs": [],
   "source": []
  },
  {
   "cell_type": "code",
   "execution_count": null,
   "metadata": {},
   "outputs": [],
   "source": []
  }
 ],
 "metadata": {
  "kernelspec": {
   "display_name": "Python 3",
   "language": "python",
   "name": "python3"
  },
  "language_info": {
   "codemirror_mode": {
    "name": "ipython",
    "version": 3
   },
   "file_extension": ".py",
   "mimetype": "text/x-python",
   "name": "python",
   "nbconvert_exporter": "python",
   "pygments_lexer": "ipython3",
   "version": "3.7.13"
  }
 },
 "nbformat": 4,
 "nbformat_minor": 4
}
