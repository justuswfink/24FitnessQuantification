{
 "cells": [
  {
   "cell_type": "markdown",
   "metadata": {},
   "source": [
    "### Long-term fitness trajectories from the LTEE\n",
    "\n",
    "Data available in the Supplemental Material of Good et al. Nature 2017. \n",
    "Download possible from Ben Good's github repository [here](https://github.com/benjaminhgood/LTEE-metagenomic/blob/master/additional_data/Concatenated.LTEE.data.all.csv)\n",
    "\n",
    "We follow the procedures from Wiser et al. 2013 [here](https://doi.org/10.1126/science.1243357). From the Supplemental Material, we are given the following information. \n",
    "\n",
    "\n",
    "- Summarizing statistical procedures to fit the two models\n",
    "- Models were fit to fitness trajectories using the ‘nls’ package in r. \n",
    "- Model fits were compared using the BIC information criterion scores. These were then converted into an odds ratio. \n",
    "    - Table S1 shows the BIC scores and odds ratios for fits to subsets of the data: a) all 12 populations and all time points, b) excluding 3 populations with incomplete trajectories and c) excluding 6 populations that evolved hypermutability\n",
    "    - Table S2 summarizes BIC scores for fits to individual populations. This also indicates if the population was truncated or a hypermutator \n",
    "    - Table S4 lists the estimated parameters for the power law fit\n",
    "\n",
    "On the bigger picture, there is also the talk from 2013 by Wiser on [Youtube](https://www.youtube.com/watch?v=CmyBn5Cezy4) with 127 views as of September 2022. "
   ]
  },
  {
   "cell_type": "code",
   "execution_count": null,
   "metadata": {},
   "outputs": [],
   "source": [
    "### load data"
   ]
  },
  {
   "cell_type": "code",
   "execution_count": null,
   "metadata": {},
   "outputs": [],
   "source": [
    "import pandas as pd\n",
    "import numpy as np\n",
    "import matplotlib.pyplot as plt\n",
    "from scipy import stats\n",
    "\n",
    "from scipy.optimize import curve_fit"
   ]
  },
  {
   "cell_type": "code",
   "execution_count": null,
   "metadata": {},
   "outputs": [],
   "source": [
    "import os\n",
    "import os.path\n",
    "from os import path\n",
    "\n",
    "## create export directory if necessary\n",
    "## foldernames for output plots/lists produced in this notebook\n",
    "import os\n",
    "FIG_DIR = f'./figures/LTEE_fit/'\n",
    "os.makedirs(FIG_DIR, exist_ok=True)\n",
    "print(\"All  plots will be stored in: \\n\" + FIG_DIR)"
   ]
  },
  {
   "cell_type": "code",
   "execution_count": null,
   "metadata": {},
   "outputs": [],
   "source": [
    "df= pd.read_csv('./output/LTEE_averaged_data.csv')"
   ]
  },
  {
   "cell_type": "code",
   "execution_count": null,
   "metadata": {},
   "outputs": [],
   "source": [
    "\n",
    "\n",
    "### execute script to load modules here\n",
    "exec(open('setup_aesthetics.py').read())"
   ]
  },
  {
   "cell_type": "code",
   "execution_count": null,
   "metadata": {},
   "outputs": [],
   "source": [
    "color_logit_percycle =  'tab:grey' \n",
    "color_logit_pergen = 'firebrick'\n",
    "color_log_percycle = 'navy'\n"
   ]
  },
  {
   "cell_type": "code",
   "execution_count": null,
   "metadata": {},
   "outputs": [],
   "source": [
    "color_hyper = 'magenta'\n",
    "def hyperbolic(t, a, b):\n",
    "    ## compare first Equation in paper\n",
    "    return 1 + np.divide(a*t,t+b) # as used by the LTEE, assuming starting fitness = 1\n",
    "\n",
    "color_power = 'cyan'\n",
    "def powerlaw(t, a, b):\n",
    "    ## compare second Equation in paper\n",
    "    return np.power(b*t + 1,a) # as used by the LTEE, assuming starting fitness = 1"
   ]
  },
  {
   "cell_type": "code",
   "execution_count": null,
   "metadata": {},
   "outputs": [],
   "source": [
    "## we drop some superfluous columns\n",
    "columns_auxiliary = ['Nwt.0', 'Nmut.0', 'Nwt.1', 'Nmut.1', 'Nwt.0']\n",
    "\n",
    "df = df.drop(columns_auxiliary, axis = 1)"
   ]
  },
  {
   "cell_type": "code",
   "execution_count": null,
   "metadata": {},
   "outputs": [],
   "source": [
    "## shift data points for alternative statistics, which are based at zero\n",
    "df['logit_pergen+1'] = df['logit_pergen'] +1\n",
    "df['logit_percycle+1'] = df['logit_percycle'] +1\n",
    "df['log_percycle+1'] = df['log_percycle'] +1\n"
   ]
  },
  {
   "cell_type": "markdown",
   "metadata": {},
   "source": [
    "## reproduce fits to grand mean"
   ]
  },
  {
   "cell_type": "markdown",
   "metadata": {},
   "source": [
    "### recreate different datasets"
   ]
  },
  {
   "cell_type": "code",
   "execution_count": null,
   "metadata": {},
   "outputs": [],
   "source": [
    "### set up  dict to later access the dataframe\n",
    "\n",
    "subset2data = {}"
   ]
  },
  {
   "cell_type": "markdown",
   "metadata": {},
   "source": [
    "### Define list of targets"
   ]
  },
  {
   "cell_type": "code",
   "execution_count": null,
   "metadata": {},
   "outputs": [],
   "source": [
    "list_targets = ['logit_pergen+1', 'logit_percycle+1', 'log_percycle+1']\n",
    "list_labels  = [ r'$s^{\\mathrm{logit}}_{\\mathrm{gen}}+1$',\n",
    "                 r'$s^{\\mathrm{logit}}_{\\mathrm{cycle}}+1$',\n",
    "                 r'$s^{\\mathrm{log}}_{\\mathrm{cycle}}+1$']\n"
   ]
  },
  {
   "cell_type": "markdown",
   "metadata": {},
   "source": [
    "### Perform model fit on each dataset"
   ]
  },
  {
   "cell_type": "code",
   "execution_count": null,
   "metadata": {},
   "outputs": [],
   "source": [
    "df_averaged = df"
   ]
  },
  {
   "cell_type": "code",
   "execution_count": null,
   "metadata": {},
   "outputs": [],
   "source": [
    "### set up Dataframe to store results\n",
    "df_averaged_fit = pd.DataFrame()"
   ]
  },
  {
   "cell_type": "code",
   "execution_count": null,
   "metadata": {},
   "outputs": [],
   "source": [
    "\n",
    "for target  in list_targets:\n",
    "\n",
    "\n",
    "    n_datapoints = df_averaged[~df_averaged[target].isna()].shape[0]\n",
    "    df_averaged_fit.at[ target,'n_datapoints'] = n_datapoints\n",
    "\n",
    "    t = df_averaged['Generation']\n",
    "    y = df_averaged[target]\n",
    "\n",
    "    ## fit hyperbolic model\n",
    "    popt_hyperbolic,_ = curve_fit(f=hyperbolic, xdata=t, ydata=y)\n",
    "    ## store\n",
    "    df_averaged_fit.at[target, 'hyper_a'] = popt_hyperbolic[0]\n",
    "    df_averaged_fit.at[target, 'hyper_b'] = popt_hyperbolic[1]\n",
    "    ## compute trajectory\n",
    "    y_hat = hyperbolic(t, *popt_hyperbolic)\n",
    "    ## store sum of residuals squared\n",
    "    rss = np.power(y_hat - y,2).sum()\n",
    "    rsquared = 1 - (rss/np.power(y - y.mean(),2).sum())\n",
    "    df_averaged_fit.at[ target, 'hyper_rss']  = rss\n",
    "    df_averaged_fit.at[ target, 'hyper_rsquared']  = rsquared\n",
    "\n",
    "\n",
    "\n",
    "    ## fit powerlaw model\n",
    "    popt_powerlaw,_ = curve_fit(f=powerlaw, xdata=t, ydata=y)\n",
    "    ## store\n",
    "    df_averaged_fit.at[target, 'powerlaw_a'] = popt_powerlaw[0]\n",
    "    df_averaged_fit.at[target, 'powerlaw_b'] = popt_powerlaw[1]\n",
    "    ## compute trajectory\n",
    "    y_hat = powerlaw(t, *popt_powerlaw)\n",
    "    ## store sum of residuals squared\n",
    "    rss = np.power(y_hat - y,2).sum()\n",
    "    rsquared = 1 - (rss/np.power(y - y.mean(),2).sum())\n",
    "    df_averaged_fit.at[ target, 'powerlaw_rss']  = rss\n",
    "    df_averaged_fit.at[ target, 'powerlaw_rsquared']  = rsquared\n"
   ]
  },
  {
   "cell_type": "code",
   "execution_count": null,
   "metadata": {},
   "outputs": [],
   "source": [
    "### plot with different graphical layout\n",
    "\n",
    "\n",
    "fig, axes = plt.subplots(3,1, sharex=True, figsize = (2*FIGHEIGHT_TRIPLET,2*FIGHEIGHT_TRIPLET))\n",
    "\n",
    "\n",
    "for target, ylabel, ax in zip(list_targets,list_labels,axes):\n",
    "    \n",
    "\n",
    "    t = df_averaged['Generation']\n",
    "    y = df_averaged[target]\n",
    "\n",
    "    ## plot raw data\n",
    "    sns.scatterplot(x=t,y=y, ax=ax, color = 'grey', alpha=1)\n",
    " \n",
    "    ## read fit results\n",
    "    popt_hyperbolic = df_averaged_fit.loc[target, ['hyper_a', 'hyper_b']].values\n",
    "    ## compute trajectory\n",
    "    y_hat = hyperbolic(t, *popt_hyperbolic)\n",
    "    ## plot trajectory\n",
    "    hyper_rsquared = df_averaged_fit.at[target, 'hyper_rsquared']\n",
    "    hyper_label = fr\"hyperbolic:$R^2={hyper_rsquared:.3f}$\"\n",
    "    sns.lineplot(x=t, y =y_hat, color = color_hyper,ax=ax, lw = 3,\n",
    "                label = hyper_label)\n",
    "\n",
    "\n",
    "    ## read fit results\n",
    "    popt_powerlaw = df_averaged_fit.loc[target, ['powerlaw_a', 'powerlaw_b']].values\n",
    "    ## compute trajectory\n",
    "    y_hat = powerlaw(t, *popt_powerlaw)\n",
    "    ## plot trajectory\n",
    "    powerlaw_rsquared = df_averaged_fit.at[target, 'powerlaw_rsquared']\n",
    "    powerlaw_label = fr\"powerlaw: $R^2={powerlaw_rsquared:.3f}$\"\n",
    "    sns.lineplot(x=t, y =y_hat, color = color_power,ax=ax, lw =3,\n",
    "                label = powerlaw_label)\n",
    "        \n",
    "        \n",
    "    ## create axis title\n",
    "    title = hyper_label + ', ' + powerlaw_label\n",
    "    #ax.set_title(title, loc = 'left')\n",
    "    ax.legend(frameon=False,labelspacing = 0.1, borderpad = -0.1)\n",
    "\n",
    "    ax.set_ylabel(ylabel)\n",
    "\n",
    "\n",
    "axes[-1].set_xlabel('time [#generations in evolution experiment]')\n",
    "\n",
    "\n",
    "fig.savefig(FIG_DIR + \"fit_trajectory_fitness+1_allpoints.pdf\", DPI = DPI, bbox_inches = 'tight', pad_inches = PAD_INCHES)"
   ]
  },
  {
   "cell_type": "markdown",
   "metadata": {},
   "source": [
    "#### expect specific parameters for the powerlaw fit\n",
    "\n",
    "    a = 0.0950\n",
    "    b = 0.00515"
   ]
  },
  {
   "cell_type": "code",
   "execution_count": null,
   "metadata": {},
   "outputs": [],
   "source": [
    "df_averaged_fit.loc['logit_pergen+1', ['powerlaw_a', 'powerlaw_b']]"
   ]
  },
  {
   "cell_type": "markdown",
   "metadata": {},
   "source": [
    "### Calculate correlation coefficient"
   ]
  },
  {
   "cell_type": "code",
   "execution_count": null,
   "metadata": {},
   "outputs": [],
   "source": [
    "from scipy.stats import pearsonr, spearmanr"
   ]
  },
  {
   "cell_type": "code",
   "execution_count": null,
   "metadata": {},
   "outputs": [],
   "source": [
    "### for hyperbolic\n",
    "\n",
    "## read observed trajectory\n",
    "t_vec = df_averaged['Generation']\n",
    "y = df_averaged['logit_pergen+1']\n",
    "\n",
    "## reconstruct fitted trajectory\n",
    "popt_hyperbolic = df_averaged_fit.loc['logit_pergen+1',['hyper_a', 'hyper_b']].values\n",
    "y_hat = hyperbolic(t_vec, *popt_hyperbolic)\n",
    "\n",
    "corr_hyperbolic = pearsonr(y,y_hat)[0]\n",
    "print(corr_hyperbolic)"
   ]
  },
  {
   "cell_type": "code",
   "execution_count": null,
   "metadata": {},
   "outputs": [],
   "source": [
    "corr_hyperbolic**2"
   ]
  },
  {
   "cell_type": "code",
   "execution_count": null,
   "metadata": {},
   "outputs": [],
   "source": [
    "df_averaged_fit.loc['logit_pergen+1', 'hyper_rsquared']"
   ]
  },
  {
   "cell_type": "code",
   "execution_count": null,
   "metadata": {},
   "outputs": [],
   "source": [
    "### for powerlaw\n",
    "\n",
    "## read observed trajectory\n",
    "t_vec = df_averaged['Generation']\n",
    "y = df_averaged['logit_pergen+1']\n",
    "\n",
    "## reconstruct fitted trajectory\n",
    "popt_powerlaw = df_averaged_fit.loc['logit_pergen+1',['powerlaw_a', 'powerlaw_b']].values\n",
    "y_hat = powerlaw(t_vec, *popt_powerlaw)\n",
    "\n",
    "corr_powerlaw = pearsonr(y,y_hat)[0]\n",
    "print(corr_powerlaw)"
   ]
  },
  {
   "cell_type": "markdown",
   "metadata": {},
   "source": [
    "### Calculate grandmean trajectory"
   ]
  },
  {
   "cell_type": "code",
   "execution_count": null,
   "metadata": {},
   "outputs": [],
   "source": [
    "## construct data container\n",
    "df_grandmean = pd.DataFrame(columns = df_averaged.columns)\n",
    "df_grandmean = df_grandmean.drop(columns=['Population'])\n",
    "df_grandmean = df_grandmean.set_index('Generation')"
   ]
  },
  {
   "cell_type": "code",
   "execution_count": null,
   "metadata": {},
   "outputs": [],
   "source": [
    "## generate iterable list§ of timepoints\n",
    "list_timepoints = list(set(df_averaged['Generation'].values))\n",
    "list_timepoints.sort()"
   ]
  },
  {
   "cell_type": "code",
   "execution_count": null,
   "metadata": {},
   "outputs": [],
   "source": [
    "## averaged over all populations\n",
    "for t in list_timepoints: \n",
    "    this_time = df_averaged['Generation'] == t\n",
    "    df_grandmean.at[t,'no_replicates'] = sum(this_time)\n",
    "    for v in ['xmut.0', 'xmut.1', 'logit_percycle', 'logit_pergen', 'log_percycle']:\n",
    "        df_grandmean.at[t, v] = df_averaged.loc[this_time, v].mean()\n",
    "    \n",
    "    \n",
    "\n",
    "## shift data points for alternative statistics, based at fitness = 1\n",
    "df_grandmean['logit_percycle+1'] = df_grandmean['logit_percycle'] +1\n",
    "df_grandmean['log_percycle+1'] = df_grandmean['log_percycle'] +1\n",
    "df_grandmean['logit_pergen+1'] = df_grandmean['logit_pergen'] +1\n"
   ]
  },
  {
   "cell_type": "markdown",
   "metadata": {},
   "source": [
    "## Calculate correlation with mean trajectory"
   ]
  },
  {
   "cell_type": "code",
   "execution_count": null,
   "metadata": {},
   "outputs": [],
   "source": [
    "### for hyperbolic\n",
    "\n",
    "## read observed trajectory\n",
    "t_vec = df_grandmean.index\n",
    "y = df_grandmean['logit_pergen+1']\n",
    "\n",
    "## reconstruct fitted trajectory\n",
    "popt_hyperbolic = df_averaged_fit.loc['logit_pergen+1',['hyper_a', 'hyper_b']].values\n",
    "y_hat = hyperbolic(t_vec, *popt_hyperbolic)\n",
    "\n",
    "corr_hyperbolic = pearsonr(y,y_hat)[0]\n",
    "print(corr_hyperbolic)\n",
    "\n"
   ]
  },
  {
   "cell_type": "code",
   "execution_count": null,
   "metadata": {},
   "outputs": [],
   "source": [
    "### for powerlaw\n",
    "\n",
    "## read observed trajectory\n",
    "t_vec = df_grandmean.index\n",
    "y = df_grandmean['logit_pergen+1']\n",
    "\n",
    "## reconstruct fitted trajectory\n",
    "popt_powerlaw = df_averaged_fit.loc['logit_pergen+1',['powerlaw_a', 'powerlaw_b']].values\n",
    "y_hat = powerlaw(t_vec, *popt_powerlaw)\n",
    "\n",
    "corr_powerlaw = pearsonr(y,y_hat)[0]\n",
    "print(corr_powerlaw)"
   ]
  },
  {
   "cell_type": "markdown",
   "metadata": {},
   "source": [
    "##### expected values from the main text\n",
    "\n",
    "     correlation of mean trajectory with fit of\n",
    "     powerlaw model  r=0.986\n",
    "     hyperbolic model (r=0.969). "
   ]
  },
  {
   "cell_type": "code",
   "execution_count": null,
   "metadata": {},
   "outputs": [],
   "source": [
    "print(corr_powerlaw)\n",
    "print(corr_hyperbolic)"
   ]
  },
  {
   "cell_type": "markdown",
   "metadata": {},
   "source": [
    "### fit to the grandmean"
   ]
  },
  {
   "cell_type": "code",
   "execution_count": null,
   "metadata": {},
   "outputs": [],
   "source": [
    "## prepare new data container for storing\n",
    "df_grandmean_fit = pd.DataFrame()\n",
    "\n",
    "## add column for Generation to input data\n",
    "df_grandmean['Generation'] = df_grandmean.index"
   ]
  },
  {
   "cell_type": "code",
   "execution_count": null,
   "metadata": {},
   "outputs": [],
   "source": [
    "\n",
    "for target  in list_targets:\n",
    "\n",
    "\n",
    "    n_datapoints = df_grandmean[~df_grandmean[target].isna()].shape[0]\n",
    "    df_grandmean_fit.at[ target,'n_datapoints'] = n_datapoints\n",
    "\n",
    "    t = df_grandmean['Generation']\n",
    "    y = df_grandmean[target]\n",
    "\n",
    "    ## fit hyperbolic model\n",
    "    popt_hyperbolic,_ = curve_fit(f=hyperbolic, xdata=t, ydata=y)\n",
    "    ## store\n",
    "    df_grandmean_fit.at[target, 'hyper_a'] = popt_hyperbolic[0]\n",
    "    df_grandmean_fit.at[target, 'hyper_b'] = popt_hyperbolic[1]\n",
    "    ## compute trajectory\n",
    "    y_hat = hyperbolic(t, *popt_hyperbolic)\n",
    "    ## store sum of residuals squared\n",
    "    rss = np.power(y_hat - y,2).sum()\n",
    "    rsquared = 1 - (rss/np.power(y - y.mean(),2).sum())\n",
    "    df_grandmean_fit.at[ target, 'hyper_rss']  = rss\n",
    "    df_grandmean_fit.at[ target, 'hyper_rsquared']  = rsquared\n",
    "\n",
    "\n",
    "\n",
    "    ## fit powerlaw model\n",
    "    popt_powerlaw,_ = curve_fit(f=powerlaw, xdata=t, ydata=y)\n",
    "    ## store\n",
    "    df_grandmean_fit.at[target, 'powerlaw_a'] = popt_powerlaw[0]\n",
    "    df_grandmean_fit.at[target, 'powerlaw_b'] = popt_powerlaw[1]\n",
    "    ## compute trajectory\n",
    "    y_hat = powerlaw(t, *popt_powerlaw)\n",
    "    ## store sum of residuals squared\n",
    "    rss = np.power(y_hat - y,2).sum()\n",
    "    rsquared = 1 - (rss/np.power(y - y.mean(),2).sum())\n",
    "    df_grandmean_fit.at[ target, 'powerlaw_rss']  = rss\n",
    "    df_grandmean_fit.at[ target, 'powerlaw_rsquared']  = rsquared\n"
   ]
  },
  {
   "cell_type": "code",
   "execution_count": null,
   "metadata": {},
   "outputs": [],
   "source": [
    "### plot with different graphical layout\n",
    "\n",
    "\n",
    "fig, axes = plt.subplots(3,1, sharex=True, figsize = (2*FIGHEIGHT_TRIPLET,2*FIGHEIGHT_TRIPLET))\n",
    "\n",
    "\n",
    "for target, ylabel, ax in zip(list_targets,list_labels,axes):\n",
    "    \n",
    "\n",
    "    t = df_grandmean['Generation']\n",
    "    y = df_grandmean[target]\n",
    "\n",
    "    ## plot raw data\n",
    "    sns.scatterplot(x=t,y=y, ax=ax, color = 'grey', zorder = 10, alpha=1)\n",
    " \n",
    "    ## read fit results\n",
    "    popt_hyperbolic = df_grandmean_fit.loc[target, ['hyper_a', 'hyper_b']].values\n",
    "    ## compute trajectory\n",
    "    y_hat = hyperbolic(t, *popt_hyperbolic)\n",
    "    ## plot trajectory\n",
    "    hyper_rsquared = df_grandmean_fit.at[target, 'hyper_rsquared']\n",
    "    hyper_label = fr\"hyperbolic:$R^2={hyper_rsquared:.3f}$\"\n",
    "    sns.lineplot(x=t, y =y_hat, color = color_hyper,ax=ax, lw = 3,\n",
    "                label = hyper_label)\n",
    "\n",
    "\n",
    "    ## read fit results\n",
    "    popt_powerlaw = df_grandmean_fit.loc[target, ['powerlaw_a', 'powerlaw_b']].values\n",
    "    ## compute trajectory\n",
    "    y_hat = powerlaw(t, *popt_powerlaw)\n",
    "    ## plot trajectory\n",
    "    powerlaw_rsquared = df_grandmean_fit.at[target, 'powerlaw_rsquared']\n",
    "    powerlaw_label = fr\"powerlaw: $R^2={powerlaw_rsquared:.3f}$\"\n",
    "    sns.lineplot(x=t, y =y_hat, color = color_power,ax=ax, lw =3,\n",
    "                label = powerlaw_label)\n",
    "        \n",
    "        \n",
    "    ## create axis title\n",
    "    title = hyper_label + ', ' + powerlaw_label\n",
    "    #ax.set_title(title, loc = 'left')\n",
    "    ax.legend(frameon=False,labelspacing = 0.1, borderpad = -0.1)\n",
    "\n",
    "    ax.set_ylabel(ylabel)\n",
    "\n",
    "\n",
    "axes[-1].set_xlabel('time [#generations in evolution experiment]')\n",
    "\n",
    "\n",
    "fig.savefig(FIG_DIR + \"fit_trajectory_fitness+1_mean_timeseries.pdf\", DPI = DPI, bbox_inches = 'tight', pad_inches = PAD_INCHES)"
   ]
  },
  {
   "cell_type": "code",
   "execution_count": null,
   "metadata": {},
   "outputs": [],
   "source": []
  }
 ],
 "metadata": {
  "kernelspec": {
   "display_name": "Python 3",
   "language": "python",
   "name": "python3"
  },
  "language_info": {
   "codemirror_mode": {
    "name": "ipython",
    "version": 3
   },
   "file_extension": ".py",
   "mimetype": "text/x-python",
   "name": "python",
   "nbconvert_exporter": "python",
   "pygments_lexer": "ipython3",
   "version": "3.7.13"
  }
 },
 "nbformat": 4,
 "nbformat_minor": 4
}
